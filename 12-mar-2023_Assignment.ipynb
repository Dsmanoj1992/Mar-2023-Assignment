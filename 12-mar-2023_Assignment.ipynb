{
 "cells": [
  {
   "cell_type": "markdown",
   "id": "8e65c3c1",
   "metadata": {},
   "source": [
    "# Q1. Calculate the 95% confidence interval for a sample of data with a mean of 50 and a standard deviation of 5 using Python. Interpret the results."
   ]
  },
  {
   "cell_type": "code",
   "execution_count": 1,
   "id": "210bd0a6",
   "metadata": {},
   "outputs": [
    {
     "name": "stdout",
     "output_type": "stream",
     "text": [
      "Confidence Interval: [49.02, 50.98]\n"
     ]
    }
   ],
   "source": [
    "import scipy.stats as stats\n",
    "\n",
    "sample_mean = 50\n",
    "sample_std = 5\n",
    "confidence_level = 0.95\n",
    "\n",
    "sample_size = 100  # Assuming a sample size of 100 for illustration purposes\n",
    "\n",
    "# Calculate the margin of error\n",
    "margin_of_error = stats.norm.ppf((1 + confidence_level) / 2) * (sample_std / (sample_size ** 0.5))\n",
    "\n",
    "# Calculate the lower and upper bounds of the confidence interval\n",
    "lower_bound = sample_mean - margin_of_error\n",
    "upper_bound = sample_mean + margin_of_error\n",
    "\n",
    "# Print the confidence interval\n",
    "print(\"Confidence Interval: [{:.2f}, {:.2f}]\".format(lower_bound, upper_bound))\n"
   ]
  },
  {
   "cell_type": "markdown",
   "id": "0f1fdae0",
   "metadata": {},
   "source": [
    "# Q2. Conduct a chi-square goodness of fit test to determine if the distribution of colors of M&Ms in a bag matches the expected distribution of 20% blue, 20% orange, 20% green, 10% yellow, 10% red, and 20%brown. Use Python to perform the test with a significance level of 0.05."
   ]
  },
  {
   "cell_type": "code",
   "execution_count": 2,
   "id": "48a94142",
   "metadata": {},
   "outputs": [
    {
     "name": "stdout",
     "output_type": "stream",
     "text": [
      "Chi-square statistic: 3.958333333333333\n",
      "p-value: 0.5554304329530975\n",
      "The distribution of colors does not significantly differ from the expected distribution.\n"
     ]
    }
   ],
   "source": [
    "import scipy.stats as stats\n",
    "import numpy as np\n",
    "\n",
    "observed_frequencies = np.array([30, 20, 25, 15, 10, 20])  # Observed frequencies for each color\n",
    "expected_frequencies = np.array([0.2, 0.2, 0.2, 0.1, 0.1, 0.2]) * np.sum(observed_frequencies)  # Expected frequencies based on the expected distribution\n",
    "\n",
    "# Perform the chi-square goodness of fit test\n",
    "chi2_statistic, p_value = stats.chisquare(observed_frequencies, f_exp=expected_frequencies)\n",
    "\n",
    "# Print the test results\n",
    "print(\"Chi-square statistic:\", chi2_statistic)\n",
    "print(\"p-value:\", p_value)\n",
    "\n",
    "if p_value < 0.05:\n",
    "    print(\"The distribution of colors significantly differs from the expected distribution.\")\n",
    "else:\n",
    "    print(\"The distribution of colors does not significantly differ from the expected distribution.\")\n"
   ]
  },
  {
   "cell_type": "markdown",
   "id": "712d5369",
   "metadata": {},
   "source": [
    "we assume that the observed frequencies of each color are given in the observed_frequencies array. The expected frequencies are calculated based on the expected distribution provided: 20% blue, 20% orange, 20% green, 10% yellow, 10% red, and 20% brown. The chi-square test is then performed using stats.chisquare() function, specifying the observed frequencies (observed_frequencies) and the expected frequencies (f_exp=expected_frequencies).\n",
    "\n",
    "The test results include the chi-square statistic and the p-value. If the p-value is less than the significance level of 0.05, we reject the null hypothesis and conclude that the distribution of colors significantly differs from the expected distribution. Otherwise, if the p-value is greater than or equal to 0.05, we fail to reject the null hypothesis and conclude that the distribution of colors does not significantly differ from the expected distribution."
   ]
  },
  {
   "attachments": {
    "image.png": {
     "image/png": "[encoded data removed]"
    }
   },
   "cell_type": "markdown",
   "id": "7bf4d60c",
   "metadata": {},
   "source": [
    "# Q3. Use Python to calculate the chi-square statistic and p-value for a contingency table with the following\n",
    "data: \n",
    "   \n",
    "   ![image.png](attachment:image.png)\n",
    "   \n",
    "   Interpret the results of the test."
   ]
  },
  {
   "cell_type": "code",
   "execution_count": 3,
   "id": "c24e8421",
   "metadata": {},
   "outputs": [
    {
     "name": "stdout",
     "output_type": "stream",
     "text": [
      "Chi-square statistic: 5.833333333333334\n",
      "p-value: 0.05411376622282158\n",
      "The variables are independent (fail to reject the null hypothesis of independence).\n"
     ]
    }
   ],
   "source": [
    "import scipy.stats as stats\n",
    "import numpy as np\n",
    "\n",
    "# Create the contingency table\n",
    "observed = np.array([[20, 15],\n",
    "                     [10, 25],\n",
    "                     [15, 20]])\n",
    "\n",
    "# Perform the chi-square test of independence\n",
    "chi2_statistic, p_value, _, _ = stats.chi2_contingency(observed)\n",
    "\n",
    "# Print the test results\n",
    "print(\"Chi-square statistic:\", chi2_statistic)\n",
    "print(\"p-value:\", p_value)\n",
    "\n",
    "if p_value < 0.05:\n",
    "    print(\"The variables are dependent (reject the null hypothesis of independence).\")\n",
    "else:\n",
    "    print(\"The variables are independent (fail to reject the null hypothesis of independence).\")\n"
   ]
  },
  {
   "cell_type": "markdown",
   "id": "207d97f9",
   "metadata": {},
   "source": [
    " the observed data is represented by the observed array, where rows correspond to the different outcomes and columns correspond to the different groups.\n",
    "\n",
    "The chi-square test of independence is then performed using the stats.chi2_contingency() function, passing the observed array.\n",
    "\n",
    "The test results include the chi-square statistic and the p-value. If the p-value is less than the significance level (e.g., 0.05), we reject the null hypothesis of independence and conclude that the variables are dependent. This means that there is evidence to suggest that there is a relationship between the outcomes and the groups. On the other hand, if the p-value is greater than or equal to the significance level, we fail to reject the null hypothesis of independence and conclude that the variables are independent. This means that there is no significant evidence to suggest a relationship between the outcomes and the groups."
   ]
  },
  {
   "cell_type": "markdown",
   "id": "0d77eec2",
   "metadata": {},
   "source": [
    "# Q4. A study of the prevalence of smoking in a population of 500 individuals found that 60 individuals smoked. Use Python to calculate the 95% confidence interval for the true proportion of individuals in the population who smoke."
   ]
  },
  {
   "cell_type": "code",
   "execution_count": 5,
   "id": "da1ffddb",
   "metadata": {},
   "outputs": [
    {
     "name": "stdout",
     "output_type": "stream",
     "text": [
      "95% Confidence Interval: [0.0915, 0.1485]\n"
     ]
    }
   ],
   "source": [
    "import scipy.stats as stats\n",
    "import numpy as np\n",
    "\n",
    "total_population = 500\n",
    "observed_smokers = 60\n",
    "\n",
    "# Calculate the proportion of smokers in the sample\n",
    "sample_proportion = observed_smokers / total_population\n",
    "\n",
    "# Calculate the standard error of the proportion\n",
    "standard_error = np.sqrt((sample_proportion * (1 - sample_proportion)) / total_population)\n",
    "\n",
    "# Calculate the margin of error using the Z-score for a 95% confidence level\n",
    "z_score = stats.norm.ppf(1 - (1 - 0.95) / 2)\n",
    "margin_of_error = z_score * standard_error\n",
    "\n",
    "# Calculate the lower and upper bounds of the confidence interval\n",
    "lower_bound = sample_proportion - margin_of_error\n",
    "upper_bound = sample_proportion + margin_of_error\n",
    "\n",
    "# Print the confidence interval\n",
    "print(\"95% Confidence Interval: [{:.4f}, {:.4f}]\".format(lower_bound, upper_bound))\n"
   ]
  },
  {
   "cell_type": "markdown",
   "id": "e4bbd1cf",
   "metadata": {},
   "source": [
    "In this alternative approach, we calculate the standard error of the proportion using the formula for a binomial distribution. Then, we calculate the margin of error based on the Z-score corresponding to a 95% confidence level using stats.norm.ppf(). Finally, we calculate the lower and upper bounds of the confidence interval by subtracting and adding the margin of error to the sample proportion, respectively.\n",
    "\n",
    "The output will provide the 95% confidence interval for the true proportion of individuals in the population who smoke. For example, the output might be \"95% Confidence Interval: [0.0919, 0.1281]\". This means that we are 95% confident that the true proportion of individuals in the population who smoke lies within this range."
   ]
  },
  {
   "cell_type": "markdown",
   "id": "b97fa27e",
   "metadata": {},
   "source": [
    "# Q5. Calculate the 90% confidence interval for a sample of data with a mean of 75 and a standard deviation of 12 using Python. Interpret the results."
   ]
  },
  {
   "cell_type": "code",
   "execution_count": 6,
   "id": "85ca7044",
   "metadata": {},
   "outputs": [
    {
     "name": "stdout",
     "output_type": "stream",
     "text": [
      "Confidence Interval: [73.03, 76.97]\n"
     ]
    }
   ],
   "source": [
    "import scipy.stats as stats\n",
    "\n",
    "sample_mean = 75\n",
    "sample_std = 12\n",
    "confidence_level = 0.9\n",
    "\n",
    "sample_size = 100  # Assuming a sample size of 100 for illustration purposes\n",
    "\n",
    "# Calculate the margin of error\n",
    "margin_of_error = stats.norm.ppf((1 + confidence_level) / 2) * (sample_std / (sample_size ** 0.5))\n",
    "\n",
    "# Calculate the lower and upper bounds of the confidence interval\n",
    "lower_bound = sample_mean - margin_of_error\n",
    "upper_bound = sample_mean + margin_of_error\n",
    "\n",
    "# Print the confidence interval\n",
    "print(\"Confidence Interval: [{:.2f}, {:.2f}]\".format(lower_bound, upper_bound))\n"
   ]
  },
  {
   "cell_type": "markdown",
   "id": "7ebc4b18",
   "metadata": {},
   "source": [
    "we assume a sample size of 100 for illustration purposes. Adjust the sample_size value according to your specific sample size.\n",
    "\n",
    "Interpreting the results: The calculated 90% confidence interval would be expressed as [lower_bound, upper_bound]. For example, if the code outputs a confidence interval of [72.32, 77.68], it means that we are 90% confident that the true population mean lies within this range. In other words, if we were to repeat the sampling process multiple times and calculate the confidence interval each time, approximately 90% of the intervals would contain the true population mean."
   ]
  },
  {
   "cell_type": "markdown",
   "id": "826c2177",
   "metadata": {},
   "source": [
    "# Q6. Use Python to plot the chi-square distribution with 10 degrees of freedom. Label the axes and shade the area corresponding to a chi-square statistic of 15."
   ]
  },
  {
   "cell_type": "code",
   "execution_count": 7,
   "id": "d6e73d79",
   "metadata": {},
   "outputs": [
    {
     "data": {
      "image/png": "[encoded data removed]",
      "text/plain": [
       "<Figure size 640x480 with 1 Axes>"
      ]
     },
     "metadata": {},
     "output_type": "display_data"
    }
   ],
   "source": [
    "import scipy.stats as stats\n",
    "import matplotlib.pyplot as plt\n",
    "import numpy as np\n",
    "\n",
    "degrees_of_freedom = 10\n",
    "chi2_values = np.linspace(0, 30, 500)  # Range of chi-square values to plot\n",
    "\n",
    "# Calculate the probability density function (PDF) for the chi-square distribution\n",
    "chi2_pdf = stats.chi2.pdf(chi2_values, df=degrees_of_freedom)\n",
    "\n",
    "# Plot the chi-square distribution\n",
    "plt.plot(chi2_values, chi2_pdf, label=\"Chi-square Distribution (df=10)\")\n",
    "\n",
    "# Shade the area corresponding to a chi-square statistic of 15\n",
    "mask = chi2_values >= 15\n",
    "plt.fill_between(chi2_values[mask], chi2_pdf[mask], alpha=0.5, color='orange')\n",
    "\n",
    "# Label the axes\n",
    "plt.xlabel(\"Chi-square Value\")\n",
    "plt.ylabel(\"Probability Density\")\n",
    "\n",
    "# Add a legend\n",
    "plt.legend()\n",
    "\n",
    "# Display the plot\n",
    "plt.show()\n"
   ]
  },
  {
   "cell_type": "markdown",
   "id": "ebe0f54c",
   "metadata": {},
   "source": [
    "we set the degrees of freedom (df) to 10, and we define a range of chi-square values from 0 to 30 to plot. We then calculate the probability density function (PDF) for the chi-square distribution using stats.chi2.pdf().\n",
    "\n",
    "The plot is generated using matplotlib.pyplot.plot(), where we pass the chi-square values and the PDF values. To shade the area corresponding to a chi-square statistic of 15, we create a boolean mask based on the condition chi2_values >= 15 and use matplotlib.pyplot.fill_between() to fill the area with the specified color and transparency.\n",
    "\n",
    "The axes are labeled using matplotlib.pyplot.xlabel() and matplotlib.pyplot.ylabel(), and a legend is added with matplotlib.pyplot.legend(). Finally, the plot is displayed using matplotlib.pyplot.show().\n"
   ]
  },
  {
   "cell_type": "markdown",
   "id": "b99df2b7",
   "metadata": {},
   "source": [
    "# Q7. A random sample of 1000 people was asked if they preferred Coke or Pepsi. Of the sample, 520 preferred Coke. Calculate a 99% confidence interval for the true proportion of people in the population who prefer Coke."
   ]
  },
  {
   "cell_type": "code",
   "execution_count": 8,
   "id": "c6bece65",
   "metadata": {},
   "outputs": [
    {
     "name": "stdout",
     "output_type": "stream",
     "text": [
      "99% Confidence Interval: [0.4793, 0.5607]\n"
     ]
    }
   ],
   "source": [
    "import scipy.stats as stats\n",
    "import numpy as np\n",
    "\n",
    "sample_size = 1000\n",
    "preferred_coke = 520\n",
    "confidence_level = 0.99\n",
    "\n",
    "# Calculate the sample proportion\n",
    "sample_proportion = preferred_coke / sample_size\n",
    "\n",
    "# Calculate the standard error\n",
    "standard_error = np.sqrt((sample_proportion * (1 - sample_proportion)) / sample_size)\n",
    "\n",
    "# Calculate the margin of error using the Z-score for a 99% confidence level\n",
    "z_score = stats.norm.ppf((1 + confidence_level) / 2)\n",
    "margin_of_error = z_score * standard_error\n",
    "\n",
    "# Calculate the lower and upper bounds of the confidence interval\n",
    "lower_bound = sample_proportion - margin_of_error\n",
    "upper_bound = sample_proportion + margin_of_error\n",
    "\n",
    "# Print the confidence interval\n",
    "print(\"99% Confidence Interval: [{:.4f}, {:.4f}]\".format(lower_bound, upper_bound))\n"
   ]
  },
  {
   "cell_type": "markdown",
   "id": "ecb9a944",
   "metadata": {},
   "source": [
    " we assume a sample size of 1000 and 520 people in the sample preferred Coke. We calculate the sample proportion by dividing the number of people who preferred Coke (preferred_coke) by the sample size (sample_size).\n",
    "\n",
    "Next, we calculate the standard error using the formula for a proportion. Then, we calculate the margin of error using the Z-score corresponding to a 99% confidence level using stats.norm.ppf().\n",
    "\n",
    "Finally, we calculate the lower and upper bounds of the confidence interval by subtracting and adding the margin of error to the sample proportion, respectively.\n",
    "\n",
    "The output will provide the 99% confidence interval for the true proportion of people in the population who prefer Coke. For example, the output might be \"99% Confidence Interval: [0.4894, 0.5506]\". This means that we are 99% confident that the true proportion of people in the population who prefer Coke lies within this range."
   ]
  },
  {
   "cell_type": "markdown",
   "id": "a491d152",
   "metadata": {},
   "source": [
    "# Q8. A researcher hypothesizes that a coin is biased towards tails. They flip the coin 100 times and observe 45 tails. Conduct a chi-square goodness of fit test to determine if the observed frequencies match the expected frequencies of a fair coin. Use a significance level of 0.05."
   ]
  },
  {
   "cell_type": "markdown",
   "id": "0c8a1f88",
   "metadata": {},
   "source": [
    "To conduct a chi-square goodness of fit test in Python to determine if the observed frequencies match the expected frequencies of a fair coin,"
   ]
  },
  {
   "cell_type": "code",
   "execution_count": 1,
   "id": "b5f809c0",
   "metadata": {},
   "outputs": [
    {
     "name": "stdout",
     "output_type": "stream",
     "text": [
      "Chi-square statistic: 1.0\n",
      "p-value: 0.31731050786291115\n",
      "The observed frequencies match the expected frequencies (fail to reject the null hypothesis).\n"
     ]
    }
   ],
   "source": [
    "import scipy.stats as stats\n",
    "\n",
    "observed_frequencies = [45, 55]  # [tails, heads]\n",
    "expected_frequencies = [50, 50]  # [expected tails, expected heads]\n",
    "\n",
    "# Perform the chi-square goodness of fit test\n",
    "chi2_statistic, p_value = stats.chisquare(observed_frequencies, f_exp=expected_frequencies)\n",
    "\n",
    "# Print the test results\n",
    "print(\"Chi-square statistic:\", chi2_statistic)\n",
    "print(\"p-value:\", p_value)\n",
    "\n",
    "if p_value < 0.05:\n",
    "    print(\"The observed frequencies do not match the expected frequencies (reject the null hypothesis).\")\n",
    "else:\n",
    "    print(\"The observed frequencies match the expected frequencies (fail to reject the null hypothesis).\")\n"
   ]
  },
  {
   "cell_type": "markdown",
   "id": "0a1b4226",
   "metadata": {},
   "source": [
    " the observed frequencies are represented by the observed_frequencies list, where the first element corresponds to the number of tails observed (45 in this case), and the second element corresponds to the number of heads observed. The expected frequencies are represented by the expected_frequencies list, assuming a fair coin (50 for each outcome).\n",
    "\n",
    "The chi-square goodness of fit test is performed using stats.chisquare() function, passing the observed and expected frequencies as input (observed_frequencies and expected_frequencies respectively).\n",
    "\n",
    "The test results include the chi-square statistic and the p-value. If the p-value is less than the significance level (0.05 in this case), we reject the null hypothesis and conclude that the observed frequencies do not match the expected frequencies, providing evidence for a biased coin. On the other hand, if the p-value is greater than or equal to the significance level, we fail to reject the null hypothesis and conclude that the observed frequencies match the expected frequencies, suggesting that the coin may be fair"
   ]
  },
  {
   "attachments": {
    "image.png": {
     "image/png": "[encoded data removed]"
    }
   },
   "cell_type": "markdown",
   "id": "b643fee0",
   "metadata": {},
   "source": [
    "# Q9. A study was conducted to determine if there is an association between smoking status (smoker or non-smoker) and lung cancer diagnosis (yes or no). The results are shown in the contingency table below. Conduct a chi-square test for independence to determine if there is a significant association between smoking status and lung cancer diagnosis.\n",
    "\n",
    "![image.png](attachment:image.png)\n",
    "\n",
    "Use a significance level of 0.05"
   ]
  },
  {
   "cell_type": "code",
   "execution_count": 2,
   "id": "fce7cf21",
   "metadata": {},
   "outputs": [
    {
     "name": "stdout",
     "output_type": "stream",
     "text": [
      "Chi-square statistic: 12.057347670250895\n",
      "p-value: 0.0005158863863703744\n",
      "Degrees of freedom: 1\n",
      "Expected frequencies:\n",
      "[[ 45. 155.]\n",
      " [ 45. 155.]]\n",
      "There is a significant association between smoking status and lung cancer diagnosis.\n"
     ]
    }
   ],
   "source": [
    "import scipy.stats as stats\n",
    "import numpy as np\n",
    "\n",
    "observed = np.array([[60, 140], [30, 170]])\n",
    "\n",
    "# Perform the chi-square test for independence\n",
    "chi2_statistic, p_value, dof, expected = stats.chi2_contingency(observed)\n",
    "\n",
    "# Print the test results\n",
    "print(\"Chi-square statistic:\", chi2_statistic)\n",
    "print(\"p-value:\", p_value)\n",
    "print(\"Degrees of freedom:\", dof)\n",
    "print(\"Expected frequencies:\")\n",
    "print(expected)\n",
    "\n",
    "if p_value < 0.05:\n",
    "    print(\"There is a significant association between smoking status and lung cancer diagnosis.\")\n",
    "else:\n",
    "    print(\"There is no significant association between smoking status and lung cancer diagnosis.\")\n"
   ]
  },
  {
   "cell_type": "markdown",
   "id": "2bfabb8c",
   "metadata": {},
   "source": [
    "the contingency table is represented by the observed array. The rows correspond to the smoking status (smoker and non-smoker), and the columns correspond to the lung cancer diagnosis (yes and no).\n",
    "\n",
    "The chi-square test for independence is performed using the stats.chi2_contingency() function, passing the observed contingency table as input (observed).\n",
    "\n",
    "The test results include the chi-square statistic, the p-value, the degrees of freedom, and the expected frequencies. The degrees of freedom indicate the number of categories minus one in each dimension of the contingency table. The expected frequencies are calculated based on the assumption of independence between the variables.\n",
    "\n",
    "If the p-value is less than the significance level (0.05 in this case), we reject the null hypothesis and conclude that there is a significant association between smoking status and lung cancer diagnosis. On the other hand, if the p-value is greater than or equal to the significance level, we fail to reject the null hypothesis and conclude that there is no significant association between the variables."
   ]
  },
  {
   "attachments": {
    "image.png": {
     "image/png": "[encoded data removed]"
    }
   },
   "cell_type": "markdown",
   "id": "8c262a3e",
   "metadata": {},
   "source": [
    "# Q10. A study was conducted to determine if the proportion of people who prefer milk chocolate, dark chocolate, or white chocolate is different in the U.S. versus the U.K. A random sample of 500 people from the U.S. and a random sample of 500 people from the U.K. were surveyed. The results are shown in the contingency table below. Conduct a chi-square test for independence to determine if there is a significant association between chocolate preference and country of origin.\n",
    "\n",
    "![image.png](attachment:image.png)\n",
    "\n",
    "Use a significance level of 0.01."
   ]
  },
  {
   "cell_type": "code",
   "execution_count": 3,
   "id": "187a3ad2",
   "metadata": {},
   "outputs": [
    {
     "name": "stdout",
     "output_type": "stream",
     "text": [
      "Chi-square statistic: 13.393665158371041\n",
      "p-value: 0.0012348168997745915\n",
      "Degrees of freedom: 2\n",
      "Expected frequencies:\n",
      "[[212.5 162.5 125. ]\n",
      " [212.5 162.5 125. ]]\n",
      "There is a significant association between chocolate preference and country of origin.\n"
     ]
    }
   ],
   "source": [
    "import scipy.stats as stats\n",
    "import numpy as np\n",
    "\n",
    "observed = np.array([[200, 150, 150], [225, 175, 100]])\n",
    "\n",
    "# Perform the chi-square test for independence\n",
    "chi2_statistic, p_value, dof, expected = stats.chi2_contingency(observed)\n",
    "\n",
    "# Print the test results\n",
    "print(\"Chi-square statistic:\", chi2_statistic)\n",
    "print(\"p-value:\", p_value)\n",
    "print(\"Degrees of freedom:\", dof)\n",
    "print(\"Expected frequencies:\")\n",
    "print(expected)\n",
    "\n",
    "if p_value < 0.01:\n",
    "    print(\"There is a significant association between chocolate preference and country of origin.\")\n",
    "else:\n",
    "    print(\"There is no significant association between chocolate preference and country of origin.\")\n"
   ]
  },
  {
   "cell_type": "markdown",
   "id": "a8f19d4d",
   "metadata": {},
   "source": [
    " the contingency table is represented by the observed array. The rows correspond to the country of origin (U.S. and U.K.), and the columns correspond to the chocolate preference (Milk Chocolate, Dark Chocolate, and White Chocolate).\n",
    "\n",
    "The chi-square test for independence is performed using the stats.chi2_contingency() function, passing the observed contingency table as input (observed).\n",
    "\n",
    "The test results include the chi-square statistic, the p-value, the degrees of freedom, and the expected frequencies. The degrees of freedom indicate the number of categories minus one in each dimension of the contingency table. The expected frequencies are calculated based on the assumption of independence between the variables.\n",
    "\n",
    "If the p-value is less than the significance level (0.01 in this case), we reject the null hypothesis and conclude that there is a significant association between chocolate preference and country of origin. On the other hand, if the p-value is greater than or equal to the significance level, we fail to reject the null hypothesis and conclude that there is no significant association between the variables."
   ]
  },
  {
   "cell_type": "markdown",
   "id": "59232f4b",
   "metadata": {},
   "source": [
    "# Q11. A random sample of 30 people was selected from a population with an unknown mean and standard deviation. The sample mean was found to be 72 and the sample standard deviation was found to be 10. Conduct a hypothesis test to determine if the population mean is significantly different from 70. Use a significance level of 0.05."
   ]
  },
  {
   "cell_type": "code",
   "execution_count": 7,
   "id": "c7e41bc4",
   "metadata": {},
   "outputs": [
    {
     "name": "stdout",
     "output_type": "stream",
     "text": [
      "The population mean is not significantly different from 70 (fail to reject the null hypothesis).\n",
      "Sample mean: 72\n",
      "Sample standard deviation: 10\n",
      "Sample size: 30\n",
      "Population mean: 70\n",
      "Significance level: 0.05\n",
      "t-statistic: nan\n",
      "p-value: nan\n"
     ]
    },
    {
     "name": "stderr",
     "output_type": "stream",
     "text": [
      "C:\\Users\\MANOJ\\AppData\\Local\\Programs\\Python\\Python310\\lib\\site-packages\\scipy\\stats\\_axis_nan_policy.py:502: RuntimeWarning: Precision loss occurred in moment calculation due to catastrophic cancellation. This occurs when the data are nearly identical. Results may be unreliable.\n",
      "  res = hypotest_fun_out(*samples, **kwds)\n",
      "C:\\Users\\MANOJ\\AppData\\Local\\Programs\\Python\\Python310\\lib\\site-packages\\scipy\\stats\\_stats_py.py:1214: RuntimeWarning: divide by zero encountered in divide\n",
      "  var *= np.divide(n, n-ddof)  # to avoid error on division by zero\n",
      "C:\\Users\\MANOJ\\AppData\\Local\\Programs\\Python\\Python310\\lib\\site-packages\\scipy\\stats\\_stats_py.py:1214: RuntimeWarning: invalid value encountered in scalar multiply\n",
      "  var *= np.divide(n, n-ddof)  # to avoid error on division by zero\n"
     ]
    }
   ],
   "source": [
    "import scipy.stats as stats\n",
    "import numpy as np\n",
    "\n",
    "sample_mean = 72\n",
    "sample_std = 10\n",
    "sample_size = 30\n",
    "population_mean = 70\n",
    "significance_level = 0.05\n",
    "\n",
    "# Calculate the standard error\n",
    "standard_error = sample_std / np.sqrt(sample_size)\n",
    "\n",
    "# Calculate the t-statistic and p-value for a one-sample t-test\n",
    "t_statistic, p_value = stats.ttest_1samp([sample_mean], population_mean)\n",
    "\n",
    "# Determine if the null hypothesis should be rejected\n",
    "if p_value < significance_level:\n",
    "    print(\"The population mean is significantly different from 70 (reject the null hypothesis).\")\n",
    "else:\n",
    "    print(\"The population mean is not significantly different from 70 (fail to reject the null hypothesis).\")\n",
    "\n",
    "# Print the test results\n",
    "print(\"Sample mean:\", sample_mean)\n",
    "print(\"Sample standard deviation:\", sample_std)\n",
    "print(\"Sample size:\", sample_size)\n",
    "print(\"Population mean:\", population_mean)\n",
    "print(\"Significance level:\", significance_level)\n",
    "print(\"t-statistic:\", t_statistic)\n",
    "print(\"p-value:\", p_value)\n",
    "\n"
   ]
  },
  {
   "cell_type": "code",
   "execution_count": null,
   "id": "35eb9da9",
   "metadata": {},
   "outputs": [],
   "source": []
  }
 ],
 "metadata": {
  "kernelspec": {
   "display_name": "Python 3 (ipykernel)",
   "language": "python",
   "name": "python3"
  },
  "language_info": {
   "codemirror_mode": {
    "name": "ipython",
    "version": 3
   },
   "file_extension": ".py",
   "mimetype": "text/x-python",
   "name": "python",
   "nbconvert_exporter": "python",
   "pygments_lexer": "ipython3",
   "version": "3.10.4"
  }
 },
 "nbformat": 4,
 "nbformat_minor": 5
}
