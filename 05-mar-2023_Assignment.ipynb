{
 "cells": [
  {
   "cell_type": "markdown",
   "id": "8c4e65ad",
   "metadata": {},
   "source": [
    "# Q1. How can you create a Bokeh plot using Python code?"
   ]
  },
  {
   "cell_type": "markdown",
   "id": "86eb4621",
   "metadata": {},
   "source": [
    "1.    Import the necessary modules: figure and output_file from bokeh.plotting, and show from bokeh.io.\n",
    "\n",
    "2.    Define the data to be plotted. You can use lists, arrays, or Pandas dataframes, depending on your data format.\n",
    "\n",
    "3.    Call the output_file function to specify the output file name and location (if you want to generate a static HTML file).\n",
    "\n",
    "4.    Call the figure function to create a new plot object, and set any necessary plot properties (e.g., title, axis labels, plot dimensions).\n",
    "\n",
    "5.    Add glyphs (e.g., circles, lines, bars) to the plot using the plot object's glyph methods (e.g., circle, line, vbar).\n",
    "\n",
    "6.    Call the show function to display the plot in the browser (if using a Jupyter notebook or Bokeh server), or save the plot to an HTML file using save function."
   ]
  },
  {
   "cell_type": "markdown",
   "id": "b1eded33",
   "metadata": {},
   "source": [
    "# Q2. What are glyphs in Bokeh, and how can you add them to a Bokeh plot? Explain with an example."
   ]
  },
  {
   "cell_type": "markdown",
   "id": "4252e9f2",
   "metadata": {},
   "source": [
    "Glyphs are the basic visual building blocks in Bokeh, which are used to create visualizations such as scatter plots, line plots, bar charts, and more. A glyph is a visual shape or mark that represents data points in a plot."
   ]
  },
  {
   "cell_type": "markdown",
   "id": "c22183f1",
   "metadata": {},
   "source": [
    "In Bokeh, you can add glyphs to a plot using the glyph methods of a figure object. These methods include circle, line, rect, text, and many others, which allow you to create a variety of visualizations."
   ]
  },
  {
   "cell_type": "code",
   "execution_count": 2,
   "id": "0ee7a298",
   "metadata": {},
   "outputs": [],
   "source": [
    "from bokeh.plotting import figure, output_file, show\n",
    "\n",
    "x = [1,2,3,4,5]\n",
    "y = [5,4,3,2,1]\n",
    "\n",
    "output_file(\"scatter_plot.html\")\n",
    "p = figure(title=\"Scatter Plot\", x_axis_label=\"X\", y_axis_label=\"Y\")\n",
    "p.circle(x,y, size=10, color=\"blue\")\n",
    "show(p)"
   ]
  },
  {
   "cell_type": "markdown",
   "id": "9b12f45c",
   "metadata": {},
   "source": [
    "# Q3. How can you customize the appearance of a Bokeh plot, including the axes, title, and legend?"
   ]
  },
  {
   "cell_type": "markdown",
   "id": "7c0b584c",
   "metadata": {},
   "source": [
    "# Customize the plot's title:\n",
    "p.title.text = \"My Plot\"\n",
    "\n",
    "p.title.text_font_size = \"16pt\"\n",
    "\n",
    "p.title.align = \"center\"\n",
    "\n",
    "In this code, we set the plot's title to \"My Plot\", set the font size to 16 points, and center-align the title."
   ]
  },
  {
   "cell_type": "markdown",
   "id": "67864296",
   "metadata": {},
   "source": [
    "# Customize the plot's axes:\n",
    "\n",
    "p.xaxis.axis_label = \"X-axis\"\n",
    "\n",
    "p.xaxis.axis_label_text_color = \"blue\"\n",
    "\n",
    "p.yaxis.axis_label = \"Y-axis\"\n",
    "\n",
    "p.yaxis.axis_label_text_font_style = \"italic\"\n",
    "\n",
    "In this code, we set the x-axis label to \"X-axis\", set the label color to blue, set the y-axis label to \"Y-axis\", and set the label font style to italic."
   ]
  },
  {
   "cell_type": "markdown",
   "id": "dcb9582c",
   "metadata": {},
   "source": [
    "# Customize the plot's legend:\n",
    "\n",
    "p.legend.title = \"Legend\"\n",
    "\n",
    "p.legend.label_text_font_size = \"12pt\"\n",
    "\n",
    "p.legend.location = \"top_left\"\n",
    "\n",
    "In this code, we set the legend title to \"Legend\", set the label font size to 12 points, and position the legend in the top-left corner of the plot."
   ]
  },
  {
   "cell_type": "code",
   "execution_count": 3,
   "id": "d9990f4e",
   "metadata": {},
   "outputs": [],
   "source": [
    "from bokeh.plotting import figure, output_file, show\n",
    "\n",
    "# define some data\n",
    "x = [1, 2, 3, 4, 5]\n",
    "y = [5, 4, 3, 2, 1]\n",
    "\n",
    "# specify the output file\n",
    "output_file(\"custom_plot.html\")\n",
    "\n",
    "# create a new plot with a title and axis labels\n",
    "p = figure(title=\"Custom Plot\", x_axis_label=\"X\", y_axis_label=\"Y\", background_fill_color=\"lightgray\")\n",
    "\n",
    "# add circles to the plot\n",
    "p.circle(x, y, size=10, color=\"blue\", alpha=0.5)\n",
    "\n",
    "# customize the plot appearance\n",
    "p.title.text_font_size = \"16pt\"\n",
    "p.title.align = \"center\"\n",
    "p.xaxis.axis_label_text_font_style = \"italic\"\n",
    "p.yaxis.axis_label_text_color = \"blue\"\n",
    "p.grid.grid_line_alpha = 0.5\n",
    "p.xaxis.bounds = (0, 6)\n",
    "p.y_range.start = 0\n",
    "\n",
    "# show the plot\n",
    "show(p)\n"
   ]
  },
  {
   "cell_type": "markdown",
   "id": "30bfdc21",
   "metadata": {},
   "source": [
    "# Q4. What is a Bokeh server, and how can you use it to create interactive plots that can be updated in real time?"
   ]
  },
  {
   "cell_type": "markdown",
   "id": "48793ace",
   "metadata": {},
   "source": [
    "Bokeh server is a Python library that allows you to create interactive plots that can be updated in real time. With Bokeh server, you can create complex dashboards and web applications that respond to user input, update data sources, and change the layout of the plots dynamically."
   ]
  },
  {
   "cell_type": "markdown",
   "id": "e7b32f59",
   "metadata": {},
   "source": [
    "To use Bokeh server, you need to define a Bokeh document, which is a container for all the Bokeh models that make up your plot or application. The Bokeh document can be modified dynamically, either by changing the properties of existing models or by adding and removing models from the document. When the document is modified, Bokeh server automatically updates the plot in the browser without the need to reload the entire web page."
   ]
  },
  {
   "cell_type": "markdown",
   "id": "32c8a49a",
   "metadata": {},
   "source": [
    "# Q5. How can you embed a Bokeh plot into a web page or dashboard using Flask or Django?"
   ]
  },
  {
   "cell_type": "code",
   "execution_count": null,
   "id": "c9189a73",
   "metadata": {},
   "outputs": [],
   "source": []
  }
 ],
 "metadata": {
  "kernelspec": {
   "display_name": "Python 3 (ipykernel)",
   "language": "python",
   "name": "python3"
  },
  "language_info": {
   "codemirror_mode": {
    "name": "ipython",
    "version": 3
   },
   "file_extension": ".py",
   "mimetype": "text/x-python",
   "name": "python",
   "nbconvert_exporter": "python",
   "pygments_lexer": "ipython3",
   "version": "3.10.4"
  }
 },
 "nbformat": 4,
 "nbformat_minor": 5
}
