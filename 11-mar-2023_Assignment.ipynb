{
 "cells": [
  {
   "cell_type": "markdown",
   "id": "b037d227",
   "metadata": {},
   "source": [
    "# Q1: What is the difference between a t-test and a z-test? Provide an example scenario where you would use each type of test."
   ]
  },
  {
   "cell_type": "markdown",
   "id": "3ac2dbf6",
   "metadata": {},
   "source": [
    "Both t-tests and z-tests are statistical hypothesis tests used to make inferences about population parameters based on sample data. The key difference between the two lies in the type of data and the available information about the population.\n",
    "\n",
    "A t-test is used when the population standard deviation is unknown, and the sample size is relatively small (typically less than 30). It is based on the t-distribution, which accounts for the increased uncertainty when working with smaller sample sizes. The t-test is appropriate when analyzing data from a small sample or when the population standard deviation is not known.\n",
    "\n",
    "Example scenario for using a t-test: Suppose you want to determine if there is a significant difference in the mean scores of two groups of students (e.g., a control group and an experimental group) who underwent different teaching methods. You would collect a small sample of scores from each group, calculate the sample means, and perform a t-test to determine if the difference in means is statistically significant.\n",
    "\n",
    "On the other hand, a z-test is used when the population standard deviation is known, or when the sample size is large (typically greater than 30). It is based on the standard normal distribution (z-distribution) and is often used for testing hypotheses about proportions or means.\n",
    "\n",
    "Example scenario for using a z-test: Let's say you are conducting a survey and want to determine if the proportion of people who prefer Brand A over Brand B is significantly different from a predefined value (e.g., 0.5). You collect a large sample of responses, calculate the proportion of individuals who prefer Brand A, and perform a z-test to assess whether the difference in proportions is statistically significant.\n",
    "\n",
    "a t-test is suitable for small sample sizes or when the population standard deviation is unknown, while a z-test is appropriate for large sample sizes or when the population standard deviation is known."
   ]
  },
  {
   "cell_type": "markdown",
   "id": "ade9a14a",
   "metadata": {},
   "source": [
    "# Q2: Differentiate between one-tailed and two-tailed tests."
   ]
  },
  {
   "cell_type": "markdown",
   "id": "aced5225",
   "metadata": {},
   "source": [
    "One-Tailed Test:\n",
    "A one-tailed test, also known as a directional test, is a statistical hypothesis test in which the alternative hypothesis is stated in a specific direction. It focuses on detecting an effect or difference in one specific direction. The critical region is defined on only one side of the sampling distribution.\n",
    "\n",
    "Two-Tailed Test:\n",
    "A two-tailed test, also known as a nondirectional test, is a statistical hypothesis test in which the alternative hypothesis is stated without specifying a particular direction. It aims to detect any significant difference, whether it is an increase or decrease, between the sample data and the null hypothesis. The critical region is divided between both sides of the sampling distribution.\n",
    "\n",
    " a one-tailed test is used when the alternative hypothesis is focused on detecting an effect in a specific direction, while a two-tailed test is used when the alternative hypothesis is nondirectional, aiming to detect any significant difference regardless of the direction."
   ]
  },
  {
   "cell_type": "markdown",
   "id": "2dd24240",
   "metadata": {},
   "source": [
    "# Q3: Explain the concept of Type 1 and Type 2 errors in hypothesis testing. Provide an example scenario for each type of error"
   ]
  },
  {
   "cell_type": "markdown",
   "id": "6c03282b",
   "metadata": {},
   "source": [
    "In hypothesis testing, Type 1 and Type 2 errors are two possible mistakes that can occur when making conclusions about a statistical hypothesis.\n",
    "\n",
    "Type 1 Error:\n",
    "A Type 1 error, also known as a false positive, occurs when the null hypothesis (H0) is incorrectly rejected, even though it is true. In other words, it is the error of concluding that there is a significant effect or difference when, in reality, there is no such effect or difference.\n",
    "\n",
    "Example scenario for Type 1 error: Let's consider a clinical trial for a new drug. The null hypothesis (H0) states that the drug has no effect on patients. However, due to random variability, the study results may lead to rejecting the null hypothesis and concluding that the drug is effective when it actually isn't. This would be a Type 1 error, as it falsely suggests a significant effect.\n",
    "\n",
    "Type 2 Error:\n",
    "A Type 2 error, also known as a false negative, occurs when the null hypothesis (H0) is incorrectly failed to be rejected, even though it is false. In other words, it is the error of concluding that there is no significant effect or difference when, in reality, there is such an effect or difference.\n",
    "\n",
    "Example scenario for Type 2 error: Let's consider a hypothesis test to determine if a new teaching method improves test scores. The null hypothesis (H0) states that there is no significant difference in scores. However, due to small sample size or insufficient statistical power, the study fails to reject the null hypothesis, concluding that the teaching method has no effect when it actually does. This would be a Type 2 error, as it incorrectly fails to detect a significant effect.\n",
    "\n",
    "Type 1 and Type 2 errors are inversely related. Reducing the probability of one type of error typically increases the probability of the other type. Therefore, it is necessary to strike a balance between the two based on the specific context and consequences of the errors in order to make valid conclusions in hypothesis testing."
   ]
  },
  {
   "cell_type": "markdown",
   "id": "2164bdc6",
   "metadata": {},
   "source": [
    "# Q4:  Explain Bayes's theorem with an example."
   ]
  },
  {
   "cell_type": "markdown",
   "id": "9174f7a9",
   "metadata": {},
   "source": [
    "Bayes's theorem is a fundamental concept in probability theory and statistics that allows us to update our beliefs or probabilities about an event based on new evidence. It relates the conditional probability of an event A given event B to the conditional probability of event B given event A. Bayes's theorem is stated as follows:\n",
    "\n",
    "P(A|B) = [P(B|A) * P(A)] / P(B)\n",
    "\n",
    "Where:\n",
    "P(A|B) is the probability of event A given event B.\n",
    "P(B|A) is the probability of event B given event A.\n",
    "P(A) is the probability of event A.\n",
    "P(B) is the probability of event B.\n",
    "\n",
    "To illustrate Bayes's theorem, let's consider a medical example:\n",
    "\n",
    "Suppose there is a rare disease that affects 1% of the population, and there is a test to diagnose this disease. The test is known to have a 95% accuracy rate, meaning that if a person has the disease, the test correctly detects it 95% of the time, and if a person does not have the disease, the test correctly gives a negative result 95% of the time.\n",
    "\n",
    "Now, let's say you take the test and it comes out positive. What is the probability that you actually have the disease?\n",
    "\n",
    "Let's define:\n",
    "A: Having the disease\n",
    "B: Testing positive\n",
    "\n",
    "We want to find P(A|B), the probability of having the disease given a positive test result.\n",
    "\n",
    "Using Bayes's theorem, we can calculate it:\n",
    "\n",
    "P(A|B) = [P(B|A) * P(A)] / P(B)\n",
    "\n",
    "P(B|A) = 0.95 (the probability of testing positive given having the disease)\n",
    "P(A) = 0.01 (the probability of having the disease)\n",
    "P(B) = P(B|A) * P(A) + P(B|~A) * P(~A)\n",
    "= 0.95 * 0.01 + 0.05 * 0.99 (the probability of testing positive)\n",
    "\n",
    "Plugging these values into the formula:\n",
    "\n",
    "P(A|B) = (0.95 * 0.01) / (0.95 * 0.01 + 0.05 * 0.99)\n",
    "= 0.161 (approximately)\n",
    "\n",
    "So, even with a positive test result, the probability of actually having the disease is only 16.1%. This is because the test has a small false positive rate (5%) and the disease is rare (1%), which affects the overall probability.\n",
    "\n",
    "This example demonstrates how Bayes's theorem allows us to update our prior belief (the probability of having the disease) based on new evidence (the positive test result) to obtain a more accurate posterior probability."
   ]
  },
  {
   "cell_type": "markdown",
   "id": "d0c44f09",
   "metadata": {},
   "source": [
    "# Q5: What is a confidence interval? How to calculate the confidence interval, explain with an example."
   ]
  },
  {
   "cell_type": "markdown",
   "id": "bf6e6418",
   "metadata": {},
   "source": [
    "A confidence interval is a range of values that provides an estimate of the true population parameter with a certain level of confidence. It quantifies the uncertainty associated with estimating a population parameter based on sample data. The confidence level represents the probability that the true parameter falls within the interval.\n",
    "\n",
    "To calculate a confidence interval, the following steps are generally followed:\n",
    "\n",
    "1.    Determine the sample data: Collect a representative sample from the population of interest.\n",
    "\n",
    "2.    Choose the desired confidence level: Specify the desired level of confidence, typically expressed as a percentage (e.g., 95%, 99%).\n",
    "\n",
    "3.    Select the appropriate statistical distribution: The choice of distribution depends on the sample size and the type of parameter being estimated (e.g., normal distribution for means, t-distribution for small sample sizes).\n",
    "\n",
    "4.    Calculate the standard error: The standard error is a measure of the variability or uncertainty in the estimate. It depends on the sample size and the standard deviation of the population or sample.\n",
    "\n",
    "5.    Determine the critical value(s): The critical value(s) corresponds to the desired confidence level and the chosen distribution. It defines the boundaries of the confidence interval.\n",
    "\n",
    "6.    Calculate the confidence interval: Using the sample statistic (e.g., mean, proportion) and the standard error, compute the lower and upper bounds of the confidence interval.\n",
    "\n",
    "Let's consider an example to illustrate the calculation of a confidence interval:\n",
    "\n",
    "Suppose you want to estimate the average height of students in a particular school. You collect a random sample of 50 students and measure their heights. The sample mean height is 165 cm, and the sample standard deviation is 8 cm.\n",
    "\n",
    "1.    Sample data: Sample size (n) = 50, Sample mean (x̄) = 165 cm, Sample standard deviation (s) = 8 cm.\n",
    "\n",
    "2.    Confidence level: Let's choose a 95% confidence level.\n",
    "\n",
    "3.    Statistical distribution: Since the sample size is relatively large (n > 30), we can assume the sampling distribution of the mean follows a normal distribution.\n",
    "\n",
    "4.    Standard error: The standard error (SE) is calculated as SE = s / sqrt(n), where s is the sample standard deviation and sqrt(n) is the square root of the sample size. In this example, SE = 8 / sqrt(50) ≈ 1.13 cm.\n",
    "\n",
    "5.    Critical value: The critical value for a 95% confidence level with a normal distribution is commonly denoted as z*. In this case, z* is approximately 1.96 (based on standard normal tables or statistical software).\n",
    "\n",
    "6.    Confidence interval calculation: Using the formula, Confidence Interval = x̄ ± (z* * SE), we can calculate the lower and upper bounds of the interval:\n",
    "    Confidence Interval = 165 ± (1.96 * 1.13)\n",
    "    = (162.81, 167.19)\n",
    "\n",
    "Therefore, we can be 95% confident that the true average height of students in the school falls within the range of 162.81 cm to 167.19 cm based on the given sample data.\n",
    "\n",
    "The confidence interval provides a range of plausible values for the population parameter and helps quantify the level of uncertainty in the estimation process."
   ]
  },
  {
   "cell_type": "markdown",
   "id": "da6418c8",
   "metadata": {},
   "source": [
    "# Q6. Use Bayes' Theorem to calculate the probability of an event occurring given prior knowledge of the event's probability and new evidence. Provide a sample problem and solution."
   ]
  },
  {
   "cell_type": "markdown",
   "id": "9da76311",
   "metadata": {},
   "source": [
    "Problem:\n",
    "In a population, 10% of individuals have a certain genetic condition. There is a diagnostic test for this condition, which has an accuracy rate of 95%. If a randomly selected individual tests positive for the condition, what is the probability that they actually have the condition?\n",
    "\n",
    "Solution:\n",
    "To solve this problem using Bayes' Theorem, we need to define the events and probabilities involved:\n",
    "\n",
    "A: Having the genetic condition\n",
    "B: Testing positive for the condition\n",
    "\n",
    "We want to find P(A|B), the probability of having the condition given a positive test result.\n",
    "\n",
    "Given:\n",
    "P(A) = 0.10 (the probability of having the condition, i.e., the prior probability)\n",
    "P(B|A) = 0.95 (the probability of testing positive given having the condition)\n",
    "P(B|~A) = 0.05 (the probability of testing positive given not having the condition)\n",
    "\n",
    "Now, let's calculate P(A|B) using Bayes' Theorem:\n",
    "\n",
    "P(A|B) = [P(B|A) * P(A)] / P(B)\n",
    "\n",
    "P(B) = P(B|A) * P(A) + P(B|~A) * P(~A)\n",
    "= 0.95 * 0.10 + 0.05 * 0.90 (using the law of total probability)\n",
    "= 0.095 + 0.045\n",
    "= 0.14\n",
    "\n",
    "P(A|B) = (0.95 * 0.10) / 0.14\n",
    "= 0.095 / 0.14\n",
    "≈ 0.679\n",
    "\n",
    "Therefore, if an individual tests positive for the genetic condition, the probability that they actually have the condition is approximately 0.679 or 67.9%.\n",
    "\n",
    "Bayes' Theorem allows us to update our prior probability (P(A)) based on new evidence (the positive test result) to obtain a more accurate posterior probability (P(A|B)). It demonstrates how our initial beliefs can be adjusted using the conditional probabilities to make more informed conclusions."
   ]
  },
  {
   "cell_type": "markdown",
   "id": "c20b5a26",
   "metadata": {},
   "source": [
    "# Q7. Calculate the 95% confidence interval for a sample of data with a mean of 50 and a standard deviation of 5. Interpret the results."
   ]
  },
  {
   "cell_type": "markdown",
   "id": "856f96e8",
   "metadata": {},
   "source": [
    "Confidence Interval = Sample Mean ± (Critical Value * Standard Error)\n",
    "\n",
    "First, let's determine the critical value associated with a 95% confidence level. Since the sample size is not provided, we will assume a large enough sample size, which allows us to use the standard normal distribution. The critical value for a 95% confidence level with a standard normal distribution is approximately 1.96.\n",
    "\n",
    "Next, we need to calculate the standard error, which is the standard deviation divided by the square root of the sample size. However, the sample size is not given, so we cannot calculate the exact standard error.\n",
    "\n",
    "Interpreting the results will be based on the assumption that the sample is representative of the population and satisfies the conditions for using a confidence interval.\n",
    "\n",
    "Assuming a large enough sample size, the 95% confidence interval can be calculated as follows:\n",
    "\n",
    "Confidence Interval = 50 ± (1.96 * (5 / sqrt(n)))\n",
    "\n",
    "Here, 'n' represents the sample size.\n",
    "\n",
    "Without the specific sample size, we cannot provide the exact confidence interval. However, we can demonstrate how the formula works. Let's assume a sample size of 100:\n",
    "\n",
    "Confidence Interval = 50 ± (1.96 * (5 / sqrt(100)))\n",
    "= 50 ± (1.96 * 0.5)\n",
    "= 50 ± 0.98\n",
    "= (49.02, 50.98)\n",
    "\n",
    "Therefore, with a 95% confidence level, the calculated confidence interval for a sample mean of 50 and a standard deviation of 5 (assuming a sample size of 100) would be approximately (49.02, 50.98). This means that we are 95% confident that the true population mean falls within this interval.\n",
    "\n",
    "Interpreting the results means that if we were to repeat the sampling process multiple times and construct confidence intervals in the same manner, approximately 95% of those intervals would contain the true population mean. In other words, we are quite confident that the population mean lies within this range based on the given sample data."
   ]
  },
  {
   "cell_type": "markdown",
   "id": "600730a0",
   "metadata": {},
   "source": [
    "# Q8. What is the margin of error in a confidence interval? How does sample size affect the margin of error? Provide an example of a scenario where a larger sample size would result in a smaller margin of error."
   ]
  },
  {
   "cell_type": "markdown",
   "id": "720fb9cc",
   "metadata": {},
   "source": [
    "The margin of error in a confidence interval represents the range of values that extends from the sample statistic (such as the sample mean) to the upper and lower bounds of the interval. It quantifies the precision or uncertainty associated with estimating the population parameter based on the sample data.\n",
    "\n",
    "The margin of error is influenced by several factors, including the desired level of confidence and the variability of the data. However, one crucial factor that directly affects the margin of error is the sample size.\n",
    "\n",
    "When the sample size increases, the margin of error decreases. A larger sample size provides more information and reduces the uncertainty associated with estimating the population parameter. This reduction in uncertainty leads to a narrower confidence interval and a smaller margin of error.\n",
    "\n",
    "To illustrate this relationship, let's consider the following scenario:\n",
    "\n",
    "Scenario:\n",
    "Suppose you want to estimate the proportion of voters in a city who support a particular candidate. You collect two different samples: Sample A with 100 voters and Sample B with 500 voters. You calculate the proportion of supporters and construct 95% confidence intervals for each sample.\n",
    "\n",
    "Sample A:\n",
    "Sample size (n) = 100\n",
    "Proportion of supporters (p) = 0.60\n",
    "\n",
    "Sample B:\n",
    "Sample size (n) = 500\n",
    "Proportion of supporters (p) = 0.60\n",
    "\n",
    "Using the formula for the margin of error for a proportion:\n",
    "\n",
    "Margin of Error = Critical Value * Standard Error\n",
    "= Z * sqrt((p * (1 - p)) / n)\n",
    "\n",
    "Assuming a Z-score of 1.96 for a 95% confidence level, we can calculate the margin of error for each sample:\n",
    "\n",
    "Sample A:\n",
    "Margin of Error = 1.96 * sqrt((0.60 * (1 - 0.60)) / 100)\n",
    "≈ 0.098\n",
    "\n",
    "Sample B:\n",
    "Margin of Error = 1.96 * sqrt((0.60 * (1 - 0.60)) / 500)\n",
    "≈ 0.044\n",
    "\n",
    "In this example, with a larger sample size of 500 (Sample B), the margin of error is smaller (approximately 0.044) compared to the margin of error for Sample A (approximately 0.098) with a sample size of 100. This means that the estimated proportion of supporters for Sample B is expected to be more precise and has a narrower range of values compared to Sample A.\n",
    "\n",
    "A larger sample size reduces the margin of error by providing more representative information about the population, resulting in a more reliable estimate of the parameter."
   ]
  },
  {
   "cell_type": "markdown",
   "id": "76903abe",
   "metadata": {},
   "source": [
    "# Q9. Calculate the z-score for a data point with a value of 75, a population mean of 70, and a population standard deviation of 5. Interpret the results."
   ]
  },
  {
   "cell_type": "markdown",
   "id": "dd18f7b6",
   "metadata": {},
   "source": [
    "To calculate the z-score for a data point, we use the formula:\n",
    "\n",
    "z = (x - μ) / σ\n",
    "\n",
    "Where:\n",
    "x is the data point value,\n",
    "μ is the population mean, and\n",
    "σ is the population standard deviation.\n",
    "\n",
    "In this case, the data point value is 75, the population mean is 70, and the population standard deviation is 5.\n",
    "\n",
    "Plugging these values into the formula, we get:\n",
    "\n",
    "z = (75 - 70) / 5\n",
    "= 5 / 5\n",
    "= 1\n",
    "\n",
    "Therefore, the z-score for the data point with a value of 75, a population mean of 70, and a population standard deviation of 5 is 1.\n",
    "\n",
    "Interpreting the result:\n",
    "The z-score of 1 indicates that the data point of 75 is one standard deviation above the population mean. It quantifies how far the data point deviates from the mean in terms of standard deviations. A positive z-score indicates that the data point is above the mean, while a negative z-score would indicate that the data point is below the mean.\n",
    "\n",
    "In this case, a z-score of 1 suggests that the data point of 75 is relatively close to the mean, with a deviation of one standard deviation. The z-score helps us understand the position of the data point within the distribution and provides a standardized measure for comparison with other data points or populations."
   ]
  },
  {
   "cell_type": "markdown",
   "id": "11ee1659",
   "metadata": {},
   "source": [
    "# Q10. In a study of the effectiveness of a new weight loss drug, a sample of 50 participants lost an average of 6 pounds with a standard deviation of 2.5 pounds. Conduct a hypothesis test to determine if the drug is significantly effective at a 95% confidence level using a t-test"
   ]
  },
  {
   "cell_type": "markdown",
   "id": "cbf89946",
   "metadata": {},
   "source": [
    "To conduct a hypothesis test to determine if the weight loss drug is significantly effective at a 95% confidence level using a t-test, we need to set up the null and alternative hypotheses, select the appropriate test statistic, calculate the test statistic value, and compare it to the critical value or p-value.\n",
    "\n",
    "Null Hypothesis (H₀): The weight loss drug is not significantly effective; the average weight loss is zero or negligible.\n",
    "Alternative Hypothesis (H₁): The weight loss drug is significantly effective; the average weight loss is not zero or negligible.\n",
    "\n",
    "We will use a two-tailed t-test because we want to determine if there is a significant difference between the sample mean and the hypothesized population mean of zero.\n",
    "\n",
    "Given:\n",
    "Sample size (n) = 50\n",
    "Sample mean (x̄) = 6 pounds\n",
    "Sample standard deviation (s) = 2.5 pounds\n",
    "Population mean (μ) = 0 (assuming no weight loss)\n",
    "\n",
    "Step 1: Calculate the test statistic value (t-value)\n",
    "The t-value is calculated using the formula:\n",
    "t = (x̄ - μ) / (s / sqrt(n))\n",
    "\n",
    "t = (6 - 0) / (2.5 / sqrt(50))\n",
    "t = 6 / (2.5 / 7.071)\n",
    "t = 6 / 1.767\n",
    "t ≈ 3.392\n",
    "\n",
    "Step 2: Determine the degrees of freedom\n",
    "Degrees of freedom (df) = n - 1\n",
    "df = 50 - 1 = 49\n",
    "\n",
    "Step 3: Find the critical value\n",
    "At a 95% confidence level and 49 degrees of freedom, the critical value for a two-tailed t-test is approximately ±2.009.\n",
    "\n",
    "Step 4: Compare the test statistic value to the critical value\n",
    "Since |t| (absolute value of t) > critical value (|t| > 2.009), we reject the null hypothesis.\n",
    "\n",
    "Step 5: Interpret the results\n",
    "Based on the hypothesis test, with a 95% confidence level, we have sufficient evidence to conclude that the weight loss drug is significantly effective. The sample data suggests that the average weight loss is significantly different from zero.\n",
    "\n",
    "It's important to note that this interpretation assumes the data is representative, the sample was randomly selected, and the assumptions for conducting a t-test (such as normality and independence) are met."
   ]
  },
  {
   "cell_type": "markdown",
   "id": "3d982c40",
   "metadata": {},
   "source": [
    "# Q11. In a survey of 500 people, 65% reported being satisfied with their current job. Calculate the 95% confidence interval for the true proportion of people who are satisfied with their job."
   ]
  },
  {
   "cell_type": "markdown",
   "id": "285379d3",
   "metadata": {},
   "source": [
    "To calculate the 95% confidence interval for the true proportion of people who are satisfied with their job, we can use the following formula:\n",
    "\n",
    "Confidence Interval = Sample Proportion ± (Critical Value * Standard Error)\n",
    "\n",
    "Given:\n",
    "Sample size (n) = 500\n",
    "Sample proportion (p) = 0.65 (65% reported being satisfied)\n",
    "\n",
    "First, let's determine the critical value associated with a 95% confidence level. Since the sample size is large (n > 30), we can use the standard normal distribution. The critical value for a 95% confidence level with a standard normal distribution is approximately 1.96.\n",
    "\n",
    "Next, we need to calculate the standard error, which is the square root of [(p * (1 - p)) / n].\n",
    "\n",
    "Standard Error = sqrt((p * (1 - p)) / n)\n",
    "= sqrt((0.65 * (1 - 0.65)) / 500)\n",
    "= sqrt(0.2275 / 500)\n",
    "≈ 0.0201\n",
    "\n",
    "Now we can calculate the confidence interval:\n",
    "\n",
    "Confidence Interval = 0.65 ± (1.96 * 0.0201)\n",
    "= 0.65 ± 0.0394\n",
    "= (0.6106, 0.6894)\n",
    "\n",
    "Therefore, with a 95% confidence level, the confidence interval for the true proportion of people who are satisfied with their job is approximately (0.6106, 0.6894). This means that we can be 95% confident that the true proportion of people who are satisfied with their job falls within this range based on the given sample data.\n",
    "\n",
    "Interpreting the results, we can say that, according to the survey, between approximately 61.06% and 68.94% of the population is satisfied with their current job, with 95% confidence."
   ]
  },
  {
   "cell_type": "markdown",
   "id": "3900ab05",
   "metadata": {},
   "source": [
    "# Q12. A researcher is testing the effectiveness of two different teaching methods on student performance. Sample A has a mean score of 85 with a standard deviation of 6, while sample B has a mean score of 82 with a standard deviation of 5. Conduct a hypothesis test to determine if the two teaching methods have a significant difference in student performance using a t-test with a significance level of 0.01."
   ]
  },
  {
   "cell_type": "markdown",
   "id": "8d6f87d9",
   "metadata": {},
   "source": [
    "To conduct a hypothesis test to determine if the two teaching methods have a significant difference in student performance, we need to set up the null and alternative hypotheses, select the appropriate test statistic, calculate the test statistic value, and compare it to the critical value or p-value.\n",
    "\n",
    "Null Hypothesis (H₀): There is no significant difference in student performance between the two teaching methods. μ₁ = μ₂ (population means are equal)\n",
    "Alternative Hypothesis (H₁): There is a significant difference in student performance between the two teaching methods. μ₁ ≠ μ₂ (population means are not equal)\n",
    "\n",
    "Given:\n",
    "Sample A:\n",
    "Sample mean (x̄₁) = 85\n",
    "Sample standard deviation (s₁) = 6\n",
    "\n",
    "Sample B:\n",
    "Sample mean (x̄₂) = 82\n",
    "Sample standard deviation (s₂) = 5\n",
    "\n",
    "Significance level (α) = 0.01\n",
    "\n",
    "Step 1: Calculate the test statistic value (t-value)\n",
    "The test statistic for comparing two means is calculated using the formula:\n",
    "t = (x̄₁ - x̄₂) / sqrt((s₁² / n₁) + (s₂² / n₂))\n",
    "\n",
    "Where:\n",
    "x̄₁ and x̄₂ are the sample means\n",
    "s₁ and s₂ are the sample standard deviations\n",
    "n₁ and n₂ are the sample sizes\n",
    "\n",
    "t = (85 - 82) / sqrt((6² / n₁) + (5² / n₂))\n",
    "\n",
    "Since the sample sizes (n₁ and n₂) are not provided, we cannot calculate the exact test statistic value.\n",
    "\n",
    "Step 2: Determine the degrees of freedom\n",
    "Degrees of freedom (df) = n₁ + n₂ - 2\n",
    "Since the sample sizes (n₁ and n₂) are not provided, we cannot calculate the exact degrees of freedom.\n",
    "\n",
    "Step 3: Find the critical value\n",
    "At a significance level of 0.01 and the degrees of freedom, we can use statistical software or tables to find the critical value. For a two-tailed t-test, it will be a positive and negative critical value.\n",
    "\n",
    "Step 4: Compare the test statistic value to the critical value\n",
    "We cannot perform this step without the exact test statistic value and critical value.\n",
    "\n",
    "Step 5: Interpret the results\n",
    "We cannot interpret the results without performing the hypothesis test and obtaining the test statistic value and critical value.\n",
    "\n",
    "In conclusion, without knowing the sample sizes (n₁ and n₂), we cannot calculate the test statistic value and critical value necessary to conduct the hypothesis test and interpret the results. The information provided is insufficient to perform the hypothesis test."
   ]
  },
  {
   "cell_type": "markdown",
   "id": "c619c2f3",
   "metadata": {},
   "source": [
    "# Q13. A population has a mean of 60 and a standard deviation of 8. A sample of 50 observations has a mean of 65. Calculate the 90% confidence interval for the true population mean."
   ]
  },
  {
   "cell_type": "markdown",
   "id": "fed9aa69",
   "metadata": {},
   "source": [
    "To calculate the 90% confidence interval for the true population mean, we can use the following formula:\n",
    "\n",
    "Confidence Interval = Sample Mean ± (Critical Value * Standard Error)\n",
    "\n",
    "Given:\n",
    "Population mean (μ) = 60\n",
    "Population standard deviation (σ) = 8\n",
    "Sample size (n) = 50\n",
    "Sample mean (x̄) = 65\n",
    "\n",
    "Step 1: Calculate the critical value\n",
    "To find the critical value, we need to determine the z-score associated with a 90% confidence level. Since the sample size is relatively large (n > 30), we can use the standard normal distribution. The critical value for a 90% confidence level is approximately 1.645.\n",
    "\n",
    "Step 2: Calculate the standard error\n",
    "The standard error (SE) represents the standard deviation of the sample mean and is calculated as σ / sqrt(n), where σ is the population standard deviation and n is the sample size.\n",
    "\n",
    "Standard Error (SE) = σ / sqrt(n)\n",
    "= 8 / sqrt(50)\n",
    "≈ 1.131\n",
    "\n",
    "Step 3: Calculate the confidence interval\n",
    "Using the formula for the confidence interval, we can calculate the lower and upper bounds:\n",
    "\n",
    "Confidence Interval = Sample Mean ± (Critical Value * Standard Error)\n",
    "= 65 ± (1.645 * 1.131)\n",
    "≈ 65 ± 1.862\n",
    "= (63.138, 66.862)\n",
    "\n",
    "Therefore, with a 90% confidence level, the confidence interval for the true population mean is approximately (63.138, 66.862). This means that we can be 90% confident that the true population mean falls within this range based on the given sample data.\n",
    "\n",
    "Interpreting the results, we can say that, according to the sample data, with 90% confidence, the true population mean is estimated to be between approximately 63.138 and 66.862."
   ]
  },
  {
   "cell_type": "markdown",
   "id": "ae8df9e5",
   "metadata": {},
   "source": [
    "# Q14. In a study of the effects of caffeine on reaction time, a sample of 30 participants had an average reaction time of 0.25 seconds with a standard deviation of 0.05 seconds. Conduct a hypothesis test to etermine if the caffeine has a significant effect on reaction time at a 90% confidence level using a t-test."
   ]
  },
  {
   "cell_type": "markdown",
   "id": "16e5af69",
   "metadata": {},
   "source": [
    "To conduct a hypothesis test to determine if caffeine has a significant effect on reaction time at a 90% confidence level using a t-test, we need to set up the null and alternative hypotheses, select the appropriate test statistic, calculate the test statistic value, and compare it to the critical value or p-value.\n",
    "\n",
    "Null Hypothesis (H₀): Caffeine does not have a significant effect on reaction time. μ = μ₀ (population mean is equal to a hypothesized value)\n",
    "Alternative Hypothesis (H₁): Caffeine has a significant effect on reaction time. μ ≠ μ₀ (population mean is not equal to a hypothesized value)\n",
    "\n",
    "Given:\n",
    "Sample size (n) = 30\n",
    "Sample mean (x̄) = 0.25 seconds\n",
    "Sample standard deviation (s) = 0.05 seconds\n",
    "Hypothesized population mean (μ₀) = ??? (not provided)\n",
    "\n",
    "Since the hypothesized population mean (μ₀) is not provided, we cannot perform the hypothesis test. The hypothesized value is necessary to calculate the t-value and compare it to the critical value.\n",
    "\n",
    "To proceed with the hypothesis test, we would need to specify a hypothesized population mean (μ₀) based on the context or specific research question. Once the hypothesized value is provided, we can calculate the test statistic value using the formula:\n",
    "\n",
    "t = (x̄ - μ₀) / (s / sqrt(n))\n",
    "\n",
    "The test statistic value can then be compared to the critical value or p-value to determine if there is a significant effect of caffeine on reaction time.\n",
    "\n",
    "Without the hypothesized population mean, we cannot proceed with the hypothesis test and interpret the results."
   ]
  },
  {
   "cell_type": "code",
   "execution_count": null,
   "id": "cc2014e0",
   "metadata": {},
   "outputs": [],
   "source": []
  }
 ],
 "metadata": {
  "kernelspec": {
   "display_name": "Python 3 (ipykernel)",
   "language": "python",
   "name": "python3"
  },
  "language_info": {
   "codemirror_mode": {
    "name": "ipython",
    "version": 3
   },
   "file_extension": ".py",
   "mimetype": "text/x-python",
   "name": "python",
   "nbconvert_exporter": "python",
   "pygments_lexer": "ipython3",
   "version": "3.10.4"
  }
 },
 "nbformat": 4,
 "nbformat_minor": 5
}
