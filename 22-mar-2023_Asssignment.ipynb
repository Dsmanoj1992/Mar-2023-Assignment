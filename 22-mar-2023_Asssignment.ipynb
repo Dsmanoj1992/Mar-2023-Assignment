{
 "cells": [
  {
   "cell_type": "markdown",
   "id": "52715b01",
   "metadata": {},
   "source": [
    "# Q1. Pearson correlation coefficient is a measure of the linear relationship between two variables. Suppose you have collected data on the amount of time students spend studying for an exam and their final exam scores. Calculate the Pearson correlation coefficient between these two variables and interpret the result."
   ]
  },
  {
   "cell_type": "markdown",
   "id": "ab209aef",
   "metadata": {},
   "source": [
    "1.    Organize our data: Create two lists or columns, one for the amount of time students spend studying and another for their corresponding final exam scores. Make sure both lists have the same number of entries.\n",
    "\n",
    "2.    Calculate the means: Find the mean (average) of both lists. Let's call them X̄ (mean of study time) and Ȳ (mean of exam scores).\n",
    "\n",
    "3.    Calculate the differences: Subtract the mean of each list from each corresponding entry. For each entry, subtract X̄ from the study time and subtract Ȳ from the exam score. Create a new list with these differences.\n",
    "\n",
    "4.    Square the differences: Take each difference from step 3 and square it. Create a new list with these squared differences.\n",
    "\n",
    "5.    Calculate the sums: Add up all the squared differences from step 4. Let's call this sum Σ(X-X̄)(Y-Ȳ).\n",
    "\n",
    "6.    Calculate the standard deviations: Find the standard deviation of both lists. Let's call them Sx (standard deviation of study time) and Sy (standard deviation of exam scores).\n",
    "\n",
    "7.    Multiply the standard deviations: Multiply Sx and Sy together. Let's call this product SxSy.\n",
    "\n",
    "8.    Calculate the Pearson correlation coefficient: Divide the sum from step 5 by the product from step 7. Finally, divide the result by the number of data points minus 1. The formula is:\n",
    "\n",
    "      r = (Σ(X-X̄)(Y-Ȳ)) / ((n-1) * Sx * Sy)\n",
    "\n",
    "      where r represents the Pearson correlation coefficient and n is the number of data points.\n",
    "   \n",
    "  Once we have calculated the Pearson correlation coefficient (r), we can interpret the result as follows:\n",
    "   \n",
    "    \n",
    "*    If r is close to 1, it indicates a strong positive linear relationship. This means that as the amount of time students spend studying increases, their exam scores also tend to increase.\n",
    "\n",
    "*    If r is close to -1, it indicates a strong negative linear relationship. This means that as the amount of time students spend studying increases, their exam scores tend to decrease.\n",
    "\n",
    "*    If r is close to 0, it indicates a weak or no linear relationship. This means that there is no significant association between the amount of time students spend studying and their exam scores."
   ]
  },
  {
   "cell_type": "markdown",
   "id": "1386e9f3",
   "metadata": {},
   "source": [
    "ormula to calculate the Pearson correlation coefficient (r) between two variables X and Y \n",
    "\n",
    "r = Σ((X - X̄)(Y - Ȳ)) / sqrt(Σ(X - X̄)² * Σ(Y - Ȳ)²)\n",
    "\n",
    "*    X and Y: The variables for which i want to calculate the correlation coefficient.\n",
    "*    X̄ and Ȳ: The means (averages) of variables X and Y, respectively.\n",
    "*    Σ: The summation symbol, which represents the sum of values.\n",
    "*    (X - X̄) and (Y - Ȳ): The differences between each data point and its corresponding mean.\n",
    "*    sqrt: The square root function.\n",
    "*    ²: The symbol for squaring a value.\n",
    "\n",
    "calculate the correlation coefficient, we need to compute the sum of the products of the differences between each data point and its corresponding mean for both X and Y. Then, divide that sum by the product of the square roots of the sums of the squared differences for X and Y."
   ]
  },
  {
   "cell_type": "code",
   "execution_count": 1,
   "id": "998ac4d9",
   "metadata": {},
   "outputs": [],
   "source": [
    "import pandas as pd\n",
    "import numpy as np"
   ]
  },
  {
   "cell_type": "code",
   "execution_count": 2,
   "id": "8fa310cc",
   "metadata": {},
   "outputs": [],
   "source": [
    "# Create a sample DataFrame with study time and exam scores\n",
    "data = {'Study Time': [5, 10, 15, 20, 25],\n",
    "        'Exam Scores': [60, 75, 85, 90, 95]}"
   ]
  },
  {
   "cell_type": "code",
   "execution_count": 3,
   "id": "d451c309",
   "metadata": {},
   "outputs": [],
   "source": [
    "df = pd.DataFrame(data)"
   ]
  },
  {
   "cell_type": "code",
   "execution_count": 4,
   "id": "3d069cf7",
   "metadata": {},
   "outputs": [
    {
     "data": {
      "text/html": [
       "<div>\n",
       "<style scoped>\n",
       "    .dataframe tbody tr th:only-of-type {\n",
       "        vertical-align: middle;\n",
       "    }\n",
       "\n",
       "    .dataframe tbody tr th {\n",
       "        vertical-align: top;\n",
       "    }\n",
       "\n",
       "    .dataframe thead th {\n",
       "        text-align: right;\n",
       "    }\n",
       "</style>\n",
       "<table border=\"1\" class=\"dataframe\">\n",
       "  <thead>\n",
       "    <tr style=\"text-align: right;\">\n",
       "      <th></th>\n",
       "      <th>Study Time</th>\n",
       "      <th>Exam Scores</th>\n",
       "    </tr>\n",
       "  </thead>\n",
       "  <tbody>\n",
       "    <tr>\n",
       "      <th>0</th>\n",
       "      <td>5</td>\n",
       "      <td>60</td>\n",
       "    </tr>\n",
       "    <tr>\n",
       "      <th>1</th>\n",
       "      <td>10</td>\n",
       "      <td>75</td>\n",
       "    </tr>\n",
       "    <tr>\n",
       "      <th>2</th>\n",
       "      <td>15</td>\n",
       "      <td>85</td>\n",
       "    </tr>\n",
       "    <tr>\n",
       "      <th>3</th>\n",
       "      <td>20</td>\n",
       "      <td>90</td>\n",
       "    </tr>\n",
       "    <tr>\n",
       "      <th>4</th>\n",
       "      <td>25</td>\n",
       "      <td>95</td>\n",
       "    </tr>\n",
       "  </tbody>\n",
       "</table>\n",
       "</div>"
      ],
      "text/plain": [
       "   Study Time  Exam Scores\n",
       "0           5           60\n",
       "1          10           75\n",
       "2          15           85\n",
       "3          20           90\n",
       "4          25           95"
      ]
     },
     "execution_count": 4,
     "metadata": {},
     "output_type": "execute_result"
    }
   ],
   "source": [
    "df"
   ]
  },
  {
   "cell_type": "code",
   "execution_count": 5,
   "id": "a114ecce",
   "metadata": {},
   "outputs": [],
   "source": [
    "# Calculate the Pearson correlation coefficient\n",
    "correlation_coefficient = df['Study Time'].corr(df['Exam Scores'])"
   ]
  },
  {
   "cell_type": "code",
   "execution_count": 6,
   "id": "c4d469f1",
   "metadata": {},
   "outputs": [],
   "source": [
    "df[\"Pearson Correlation Coefficient:\"] = correlation_coefficient"
   ]
  },
  {
   "cell_type": "code",
   "execution_count": 7,
   "id": "131fc0d7",
   "metadata": {},
   "outputs": [
    {
     "data": {
      "text/html": [
       "<div>\n",
       "<style scoped>\n",
       "    .dataframe tbody tr th:only-of-type {\n",
       "        vertical-align: middle;\n",
       "    }\n",
       "\n",
       "    .dataframe tbody tr th {\n",
       "        vertical-align: top;\n",
       "    }\n",
       "\n",
       "    .dataframe thead th {\n",
       "        text-align: right;\n",
       "    }\n",
       "</style>\n",
       "<table border=\"1\" class=\"dataframe\">\n",
       "  <thead>\n",
       "    <tr style=\"text-align: right;\">\n",
       "      <th></th>\n",
       "      <th>Study Time</th>\n",
       "      <th>Exam Scores</th>\n",
       "      <th>Pearson Correlation Coefficient:</th>\n",
       "    </tr>\n",
       "  </thead>\n",
       "  <tbody>\n",
       "    <tr>\n",
       "      <th>0</th>\n",
       "      <td>5</td>\n",
       "      <td>60</td>\n",
       "      <td>0.968665</td>\n",
       "    </tr>\n",
       "    <tr>\n",
       "      <th>1</th>\n",
       "      <td>10</td>\n",
       "      <td>75</td>\n",
       "      <td>0.968665</td>\n",
       "    </tr>\n",
       "    <tr>\n",
       "      <th>2</th>\n",
       "      <td>15</td>\n",
       "      <td>85</td>\n",
       "      <td>0.968665</td>\n",
       "    </tr>\n",
       "    <tr>\n",
       "      <th>3</th>\n",
       "      <td>20</td>\n",
       "      <td>90</td>\n",
       "      <td>0.968665</td>\n",
       "    </tr>\n",
       "    <tr>\n",
       "      <th>4</th>\n",
       "      <td>25</td>\n",
       "      <td>95</td>\n",
       "      <td>0.968665</td>\n",
       "    </tr>\n",
       "  </tbody>\n",
       "</table>\n",
       "</div>"
      ],
      "text/plain": [
       "   Study Time  Exam Scores  Pearson Correlation Coefficient:\n",
       "0           5           60                          0.968665\n",
       "1          10           75                          0.968665\n",
       "2          15           85                          0.968665\n",
       "3          20           90                          0.968665\n",
       "4          25           95                          0.968665"
      ]
     },
     "execution_count": 7,
     "metadata": {},
     "output_type": "execute_result"
    }
   ],
   "source": [
    "df"
   ]
  },
  {
   "cell_type": "markdown",
   "id": "f7737be0",
   "metadata": {},
   "source": [
    "# Q2. Spearman's rank correlation is a measure of the monotonic relationship between two variables. Suppose you have collected data on the amount of sleep individuals get each night and their overall job satisfaction level on a scale of 1 to 10. Calculate the Spearman's rank correlation between these two variables and interpret the result."
   ]
  },
  {
   "cell_type": "markdown",
   "id": "f84db58f",
   "metadata": {},
   "source": [
    "formula to calculate the Spearman's rank correlation coefficient (rho) \n",
    "\n",
    "ρ = 1 - ((6 * Σd^2) / (n * (n^2 - 1)))\n",
    "\n",
    "where:\n",
    "\n",
    "   ρ represents the Spearman's rank correlation coefficient\n",
    "   Σd^2 is the sum of the squared differences between the ranks of the paired data points\n",
    "   n is the number of data points\n",
    "\n",
    "In the formula, Σd^2 represents the sum of the squared differences between the ranks of the paired data points. It quantifies the extent to which the ranks of the two variables deviate from perfect monotonicity. The denominator term, n * (n^2 - 1), represents the total number of rank differences that could occur if the ranks were assigned randomly.\n",
    "\n",
    "By subtracting the ratio of the sum of squared differences to the total possible rank differences from 1, we obtain the Spearman's rank correlation coefficient, which ranges from -1 to 1. A value of -1 indicates a perfect negative monotonic relationship, 1 indicates a perfect positive monotonic relationship, and 0 indicates no monotonic relationship between the variables."
   ]
  },
  {
   "cell_type": "markdown",
   "id": "fa6679f6",
   "metadata": {},
   "source": [
    "Let's assume we have collected data from 10 individuals.\n",
    "\n",
    "Amount of Sleep: [7, 6, 8, 5, 7, 6, 9, 8, 6, 5]\n",
    "\n",
    "Job Satisfaction: [8, 5, 9, 4, 7, 6, 9, 8, 7, 5]"
   ]
  },
  {
   "cell_type": "markdown",
   "id": "f610a16d",
   "metadata": {},
   "source": [
    "Now, calculate the Spearman's rank correlation coefficient\n",
    "\n",
    "1.    Rank the data for both variables:\n",
    "\n",
    "Amount of Sleep (Ranked): [4, 2, 6, 1, 4, 2, 8, 6, 2, 1]\n",
    "\n",
    "Job Satisfaction (Ranked): [7, 2, 9, 1, 5, 3, 9, 7, 5, 2]\n",
    "\n",
    "2.    Calculate the difference between the ranks:\n",
    "\n",
    "Rank Differences: [3, 0, 3, 0, 1, 1, 1, 1, 3, 1]\n",
    "\n",
    "3.    Square the differences:\n",
    "\n",
    "Squared Differences: [9, 0, 9, 0, 1, 1, 1, 1, 9, 1]\n",
    "\n",
    "4.    Sum up the squared differences:\n",
    "\n",
    "Sum of Squared Differences = 32\n",
    "\n",
    "5.    Calculate the Spearman's rank correlation coefficient (rho):\n",
    "\n",
    "n = 10\n",
    "\n",
    "rho = 1 - ((6 * 32) / (10 * (10^2 - 1)))\n",
    "\n",
    "= 1 - (192 / 990)\n",
    "\n",
    "= 1 - 0.194\n",
    "\n",
    "= 0.806\n",
    "\n",
    "Interpretation:\n",
    "The Spearman's rank correlation coefficient (rho) is 0.806. This indicates a strong positive monotonic relationship between the amount of sleep individuals get each night and their overall job satisfaction level. In simpler terms, as the amount of sleep increases, job satisfaction tends to increase as well, and vice versa."
   ]
  },
  {
   "cell_type": "code",
   "execution_count": 19,
   "id": "f3744e85",
   "metadata": {},
   "outputs": [],
   "source": [
    "import pandas as pd\n",
    "from scipy.stats import spearmanr"
   ]
  },
  {
   "cell_type": "code",
   "execution_count": 20,
   "id": "a97e9d00",
   "metadata": {},
   "outputs": [],
   "source": [
    "# Sample dataset\n",
    "data = {\n",
    "    'Amount of Sleep': [7, 6, 8, 5, 7, 6, 9, 8, 6, 5],\n",
    "    'Job Satisfaction': [8, 5, 9, 4, 7, 6, 9, 8, 7, 5]\n",
    "}"
   ]
  },
  {
   "cell_type": "code",
   "execution_count": 21,
   "id": "7817fb84",
   "metadata": {},
   "outputs": [],
   "source": [
    "df = pd.DataFrame(data)"
   ]
  },
  {
   "cell_type": "code",
   "execution_count": 22,
   "id": "67b90ea6",
   "metadata": {},
   "outputs": [
    {
     "data": {
      "text/html": [
       "<div>\n",
       "<style scoped>\n",
       "    .dataframe tbody tr th:only-of-type {\n",
       "        vertical-align: middle;\n",
       "    }\n",
       "\n",
       "    .dataframe tbody tr th {\n",
       "        vertical-align: top;\n",
       "    }\n",
       "\n",
       "    .dataframe thead th {\n",
       "        text-align: right;\n",
       "    }\n",
       "</style>\n",
       "<table border=\"1\" class=\"dataframe\">\n",
       "  <thead>\n",
       "    <tr style=\"text-align: right;\">\n",
       "      <th></th>\n",
       "      <th>Amount of Sleep</th>\n",
       "      <th>Job Satisfaction</th>\n",
       "    </tr>\n",
       "  </thead>\n",
       "  <tbody>\n",
       "    <tr>\n",
       "      <th>0</th>\n",
       "      <td>7</td>\n",
       "      <td>8</td>\n",
       "    </tr>\n",
       "    <tr>\n",
       "      <th>1</th>\n",
       "      <td>6</td>\n",
       "      <td>5</td>\n",
       "    </tr>\n",
       "    <tr>\n",
       "      <th>2</th>\n",
       "      <td>8</td>\n",
       "      <td>9</td>\n",
       "    </tr>\n",
       "    <tr>\n",
       "      <th>3</th>\n",
       "      <td>5</td>\n",
       "      <td>4</td>\n",
       "    </tr>\n",
       "    <tr>\n",
       "      <th>4</th>\n",
       "      <td>7</td>\n",
       "      <td>7</td>\n",
       "    </tr>\n",
       "    <tr>\n",
       "      <th>5</th>\n",
       "      <td>6</td>\n",
       "      <td>6</td>\n",
       "    </tr>\n",
       "    <tr>\n",
       "      <th>6</th>\n",
       "      <td>9</td>\n",
       "      <td>9</td>\n",
       "    </tr>\n",
       "    <tr>\n",
       "      <th>7</th>\n",
       "      <td>8</td>\n",
       "      <td>8</td>\n",
       "    </tr>\n",
       "    <tr>\n",
       "      <th>8</th>\n",
       "      <td>6</td>\n",
       "      <td>7</td>\n",
       "    </tr>\n",
       "    <tr>\n",
       "      <th>9</th>\n",
       "      <td>5</td>\n",
       "      <td>5</td>\n",
       "    </tr>\n",
       "  </tbody>\n",
       "</table>\n",
       "</div>"
      ],
      "text/plain": [
       "   Amount of Sleep  Job Satisfaction\n",
       "0                7                 8\n",
       "1                6                 5\n",
       "2                8                 9\n",
       "3                5                 4\n",
       "4                7                 7\n",
       "5                6                 6\n",
       "6                9                 9\n",
       "7                8                 8\n",
       "8                6                 7\n",
       "9                5                 5"
      ]
     },
     "execution_count": 22,
     "metadata": {},
     "output_type": "execute_result"
    }
   ],
   "source": [
    "df"
   ]
  },
  {
   "cell_type": "code",
   "execution_count": 23,
   "id": "8f2e385f",
   "metadata": {},
   "outputs": [],
   "source": [
    "# Calculate Spearman's rank correlation coefficient\n",
    "rho, p_value = spearmanr(df['Amount of Sleep'], df['Job Satisfaction'])"
   ]
  },
  {
   "cell_type": "code",
   "execution_count": 24,
   "id": "d26f4559",
   "metadata": {},
   "outputs": [],
   "source": [
    "# Add correlation coefficient column to DataFrame\n",
    "df['Spearman Correlation'] = rho"
   ]
  },
  {
   "cell_type": "code",
   "execution_count": 26,
   "id": "cec59fd9",
   "metadata": {},
   "outputs": [
    {
     "data": {
      "text/html": [
       "<div>\n",
       "<style scoped>\n",
       "    .dataframe tbody tr th:only-of-type {\n",
       "        vertical-align: middle;\n",
       "    }\n",
       "\n",
       "    .dataframe tbody tr th {\n",
       "        vertical-align: top;\n",
       "    }\n",
       "\n",
       "    .dataframe thead th {\n",
       "        text-align: right;\n",
       "    }\n",
       "</style>\n",
       "<table border=\"1\" class=\"dataframe\">\n",
       "  <thead>\n",
       "    <tr style=\"text-align: right;\">\n",
       "      <th></th>\n",
       "      <th>Amount of Sleep</th>\n",
       "      <th>Job Satisfaction</th>\n",
       "      <th>Spearman Correlation</th>\n",
       "    </tr>\n",
       "  </thead>\n",
       "  <tbody>\n",
       "    <tr>\n",
       "      <th>0</th>\n",
       "      <td>7</td>\n",
       "      <td>8</td>\n",
       "      <td>0.937346</td>\n",
       "    </tr>\n",
       "    <tr>\n",
       "      <th>1</th>\n",
       "      <td>6</td>\n",
       "      <td>5</td>\n",
       "      <td>0.937346</td>\n",
       "    </tr>\n",
       "    <tr>\n",
       "      <th>2</th>\n",
       "      <td>8</td>\n",
       "      <td>9</td>\n",
       "      <td>0.937346</td>\n",
       "    </tr>\n",
       "    <tr>\n",
       "      <th>3</th>\n",
       "      <td>5</td>\n",
       "      <td>4</td>\n",
       "      <td>0.937346</td>\n",
       "    </tr>\n",
       "    <tr>\n",
       "      <th>4</th>\n",
       "      <td>7</td>\n",
       "      <td>7</td>\n",
       "      <td>0.937346</td>\n",
       "    </tr>\n",
       "    <tr>\n",
       "      <th>5</th>\n",
       "      <td>6</td>\n",
       "      <td>6</td>\n",
       "      <td>0.937346</td>\n",
       "    </tr>\n",
       "    <tr>\n",
       "      <th>6</th>\n",
       "      <td>9</td>\n",
       "      <td>9</td>\n",
       "      <td>0.937346</td>\n",
       "    </tr>\n",
       "    <tr>\n",
       "      <th>7</th>\n",
       "      <td>8</td>\n",
       "      <td>8</td>\n",
       "      <td>0.937346</td>\n",
       "    </tr>\n",
       "    <tr>\n",
       "      <th>8</th>\n",
       "      <td>6</td>\n",
       "      <td>7</td>\n",
       "      <td>0.937346</td>\n",
       "    </tr>\n",
       "    <tr>\n",
       "      <th>9</th>\n",
       "      <td>5</td>\n",
       "      <td>5</td>\n",
       "      <td>0.937346</td>\n",
       "    </tr>\n",
       "  </tbody>\n",
       "</table>\n",
       "</div>"
      ],
      "text/plain": [
       "   Amount of Sleep  Job Satisfaction  Spearman Correlation\n",
       "0                7                 8              0.937346\n",
       "1                6                 5              0.937346\n",
       "2                8                 9              0.937346\n",
       "3                5                 4              0.937346\n",
       "4                7                 7              0.937346\n",
       "5                6                 6              0.937346\n",
       "6                9                 9              0.937346\n",
       "7                8                 8              0.937346\n",
       "8                6                 7              0.937346\n",
       "9                5                 5              0.937346"
      ]
     },
     "execution_count": 26,
     "metadata": {},
     "output_type": "execute_result"
    }
   ],
   "source": [
    "df"
   ]
  },
  {
   "cell_type": "markdown",
   "id": "cab07946",
   "metadata": {},
   "source": [
    "# Q3. Suppose you are conducting a study to examine the relationship between the number of hours of exercise per week and body mass index (BMI) in a sample of adults. You collected data on both variables for 50 participants. Calculate the Pearson correlation coefficient and the Spearman's rank correlation between these two variables and compare the results."
   ]
  },
  {
   "cell_type": "markdown",
   "id": "c686f565",
   "metadata": {},
   "source": [
    "1    Pearson Correlation Coefficient (r):\n",
    "    The Pearson correlation coefficient measures the linear relationship between two variables.\n",
    "\n",
    "Step 1: Calculate the means of both variables:\n",
    "\n",
    "*    Let's denote the number of hours of exercise as X, and BMI as Y.\n",
    "*    Calculate the mean of X, denoted as X̄, and the mean of Y, denoted as Ȳ.\n",
    "\n",
    "Step 2: Calculate the standard deviations of both variables:\n",
    "\n",
    "*    Calculate the standard deviation of X, denoted as sX.\n",
    "*    Calculate the standard deviation of Y, denoted as sY.\n",
    "\n",
    "Step 3: Calculate the covariance between X and Y:\n",
    "\n",
    "*    Calculate the sum of the products of the differences from the means:\n",
    "     Σ[(Xi - X̄)(Yi - Ȳ)]\n",
    "*    Divide this sum by (n-1), where n is the number of data points.\n",
    "\n",
    "Step 4: Calculate the Pearson correlation coefficient (r):\n",
    "\n",
    "*    Divide the covariance by the product of the standard deviations:\n",
    "*    r = Σ[(Xi - X̄)(Yi - Ȳ)] / [(n-1) * sX * sY]\n",
    "\n",
    "1    Spearman's Rank Correlation (ρ):\n",
    "     Spearman's rank correlation is a non-parametric measure of the monotonic relationship between two variables.\n",
    "\n",
    "Step 1: Rank the data:\n",
    "\n",
    "*    Rank the values of X and Y separately, from smallest to largest.\n",
    "*    If there are ties, assign the average rank to the tied values.\n",
    "\n",
    "Step 2: Calculate the difference in ranks for each pair of data points:\n",
    "\n",
    "*    Calculate the differences in ranks, denoted as di, for each pair of data points (Xi, Yi).\n",
    "\n",
    "Step 3: Calculate Spearman's rank correlation coefficient (ρ):\n",
    "\n",
    "*    Use the formula:\n",
    "     ρ = 1 - [6 * Σ(di^2)] / [n * (n^2 - 1)]\n",
    "     \n",
    "     \n",
    "Now, once we have the data and calculate these coefficients, we can compare the results. The Pearson correlation coefficient measures the linear relationship between the variables, while Spearman's rank correlation measures the monotonic relationship (the direction and strength of the relationship, regardless of linearity). The Pearson correlation coefficient can range from -1 to +1, where -1 indicates a perfect negative linear relationship, +1 indicates a perfect positive linear relationship, and 0 indicates no linear relationship. Spearman's rank correlation also ranges from -1 to +1, with similar interpretations."
   ]
  },
  {
   "cell_type": "code",
   "execution_count": 5,
   "id": "301e10e7",
   "metadata": {},
   "outputs": [],
   "source": [
    "import numpy as np\n",
    "import pandas as pd\n",
    "import scipy.stats as stats"
   ]
  },
  {
   "cell_type": "code",
   "execution_count": 6,
   "id": "1d5e5b18",
   "metadata": {},
   "outputs": [],
   "source": [
    "# Example data (replace with actual data)\n",
    "data = {\n",
    "    'hours_of_exercise': [5, 8, 4, 6, 7, 3, 2, 9, 4, 6, 5, 7, 8, 9, 3, 2, 1, 6, 7, 4, 8, 5, 3, 9, 2, 4, 6, 7, 8, 5, 4, 3, 1, 2, 6, 5, 7, 8, 4, 2, 3, 5, 6, 7, 8, 4, 5, 6, 7, 3, 9],\n",
    "    'bmi': [25, 27, 30, 22, 23, 28, 29, 26, 24, 20, 21, 26, 25, 22, 30, 28, 29, 25, 24, 27, 22, 23, 24, 25, 29, 26, 28, 23, 27, 22, 24, 26, 28, 27, 30, 29, 25, 23, 22, 24, 26, 27, 28, 30, 25, 23, 24, 26, 29, 22, 28]\n",
    "}"
   ]
  },
  {
   "cell_type": "code",
   "execution_count": 7,
   "id": "7c34fd67",
   "metadata": {},
   "outputs": [],
   "source": [
    "df = pd.DataFrame(data)"
   ]
  },
  {
   "cell_type": "code",
   "execution_count": 8,
   "id": "bb3bdd97",
   "metadata": {},
   "outputs": [],
   "source": [
    "# Pearson correlation coefficient\n",
    "pearson_corr = df['hours_of_exercise'].corr(df['bmi'], method='pearson')"
   ]
  },
  {
   "cell_type": "code",
   "execution_count": 9,
   "id": "22cb6668",
   "metadata": {},
   "outputs": [],
   "source": [
    "# Spearman's rank correlation\n",
    "spearman_corr = df['hours_of_exercise'].corr(df['bmi'], method='spearman')"
   ]
  },
  {
   "cell_type": "code",
   "execution_count": 10,
   "id": "60e6f0f0",
   "metadata": {},
   "outputs": [],
   "source": [
    "df[\"Pearson correlation coefficient:\"] = pearson_corr"
   ]
  },
  {
   "cell_type": "code",
   "execution_count": 11,
   "id": "ca1729b1",
   "metadata": {},
   "outputs": [],
   "source": [
    "df[\"Spearman's rank correlation:\"] = spearman_corr"
   ]
  },
  {
   "cell_type": "code",
   "execution_count": 12,
   "id": "6e86d4a8",
   "metadata": {},
   "outputs": [
    {
     "data": {
      "text/html": [
       "<div>\n",
       "<style scoped>\n",
       "    .dataframe tbody tr th:only-of-type {\n",
       "        vertical-align: middle;\n",
       "    }\n",
       "\n",
       "    .dataframe tbody tr th {\n",
       "        vertical-align: top;\n",
       "    }\n",
       "\n",
       "    .dataframe thead th {\n",
       "        text-align: right;\n",
       "    }\n",
       "</style>\n",
       "<table border=\"1\" class=\"dataframe\">\n",
       "  <thead>\n",
       "    <tr style=\"text-align: right;\">\n",
       "      <th></th>\n",
       "      <th>hours_of_exercise</th>\n",
       "      <th>bmi</th>\n",
       "      <th>Pearson correlation coefficient:</th>\n",
       "      <th>Spearman's rank correlation:</th>\n",
       "    </tr>\n",
       "  </thead>\n",
       "  <tbody>\n",
       "    <tr>\n",
       "      <th>0</th>\n",
       "      <td>5</td>\n",
       "      <td>25</td>\n",
       "      <td>-0.228821</td>\n",
       "      <td>-0.219207</td>\n",
       "    </tr>\n",
       "    <tr>\n",
       "      <th>1</th>\n",
       "      <td>8</td>\n",
       "      <td>27</td>\n",
       "      <td>-0.228821</td>\n",
       "      <td>-0.219207</td>\n",
       "    </tr>\n",
       "    <tr>\n",
       "      <th>2</th>\n",
       "      <td>4</td>\n",
       "      <td>30</td>\n",
       "      <td>-0.228821</td>\n",
       "      <td>-0.219207</td>\n",
       "    </tr>\n",
       "    <tr>\n",
       "      <th>3</th>\n",
       "      <td>6</td>\n",
       "      <td>22</td>\n",
       "      <td>-0.228821</td>\n",
       "      <td>-0.219207</td>\n",
       "    </tr>\n",
       "    <tr>\n",
       "      <th>4</th>\n",
       "      <td>7</td>\n",
       "      <td>23</td>\n",
       "      <td>-0.228821</td>\n",
       "      <td>-0.219207</td>\n",
       "    </tr>\n",
       "  </tbody>\n",
       "</table>\n",
       "</div>"
      ],
      "text/plain": [
       "   hours_of_exercise  bmi  Pearson correlation coefficient:  \\\n",
       "0                  5   25                         -0.228821   \n",
       "1                  8   27                         -0.228821   \n",
       "2                  4   30                         -0.228821   \n",
       "3                  6   22                         -0.228821   \n",
       "4                  7   23                         -0.228821   \n",
       "\n",
       "   Spearman's rank correlation:  \n",
       "0                     -0.219207  \n",
       "1                     -0.219207  \n",
       "2                     -0.219207  \n",
       "3                     -0.219207  \n",
       "4                     -0.219207  "
      ]
     },
     "execution_count": 12,
     "metadata": {},
     "output_type": "execute_result"
    }
   ],
   "source": [
    "df.head()"
   ]
  },
  {
   "cell_type": "markdown",
   "id": "84378869",
   "metadata": {},
   "source": [
    "# Q4. A researcher is interested in examining the relationship between the number of hours individuals spend watching television per day and their level of physical activity. The researcher collected data on both variables from a sample of 50 participants. Calculate the Pearson correlation coefficient between these two variables."
   ]
  },
  {
   "cell_type": "markdown",
   "id": "0779f139",
   "metadata": {},
   "source": [
    "the Pearson correlation coefficient measures the linear relationship between two variables and ranges from -1 to 1.\n",
    "\n",
    "1.    Enter the number of hours spent watching television per day in one column, let's say column A, and the corresponding level       of physical activity in another column, let's say column B.\n",
    "2.    Select an empty cell where we want to calculate the correlation coefficient, let's say cell D1.\n",
    "3.    Use the correlation function in Excel by typing the following formula: =CORREL(A1:A50, B1:B50)\n",
    "4.    Press Enter to calculate the Pearson correlation coefficient.\n",
    "\n",
    "The resulting value will be between -1 and 1. A positive correlation coefficient indicates a positive relationship between the variables, meaning that as the number of hours spent watching television per day increases, the level of physical activity also tends to increase. A negative correlation coefficient indicates an inverse relationship, where as the number of hours spent watching television per day increases, the level of physical activity tends to decrease. The closer the correlation coefficient is to -1 or 1, the stronger the relationship between the variables. A correlation coefficient close to 0 suggests a weak or no linear relationship."
   ]
  },
  {
   "cell_type": "code",
   "execution_count": 2,
   "id": "311654bf",
   "metadata": {},
   "outputs": [],
   "source": [
    "import pandas as pd"
   ]
  },
  {
   "cell_type": "code",
   "execution_count": 22,
   "id": "301a759c",
   "metadata": {},
   "outputs": [],
   "source": [
    "# Create a DataFrame with the data\n",
    "data = {'TV_hours': [4, 3, 2, 5, 6, 2, 1, 3, 4, 5, 6, 2, 3, 4, 5, 1, 2, 3, 4, 5, 2, 1, 3, 4, 2, 1, 3, 4, 5, 6, 2, 3, 4, 1, 2, 3, 4, 5, 6, 2, 3, 1, 2, 3, 4, 5, 6, 1, 2, 3, 4, 5],\n",
    "        'Physical_activity': [60, 45, 30, 90, 120, 30, 15, 45, 60, 90, 120, 30, 45, 60, 90, 15, 30, 45, 60, 90, 30, 15, 45, 60, 30, 15, 45, 60, 90, 120, 30, 45, 60, 15, 30, 45, 60, 90, 120, 30, 45, 15, 30, 45, 60, 90, 120, 15, 30, 45, 60, 90]}\n"
   ]
  },
  {
   "cell_type": "code",
   "execution_count": 23,
   "id": "079bdd28",
   "metadata": {},
   "outputs": [],
   "source": [
    "df = pd.DataFrame(data)"
   ]
  },
  {
   "cell_type": "code",
   "execution_count": 24,
   "id": "8d8e66ad",
   "metadata": {},
   "outputs": [],
   "source": [
    "# Calculate the correlation coefficient\n",
    "correlation_coefficient = df['TV_hours'].corr(df['Physical_activity'])"
   ]
  },
  {
   "cell_type": "code",
   "execution_count": 25,
   "id": "6f434dc5",
   "metadata": {},
   "outputs": [],
   "source": [
    "df[\"Pearson correlation coefficient:\"] = correlation_coefficient"
   ]
  },
  {
   "cell_type": "code",
   "execution_count": 26,
   "id": "c1f5fd8f",
   "metadata": {},
   "outputs": [
    {
     "data": {
      "text/html": [
       "<div>\n",
       "<style scoped>\n",
       "    .dataframe tbody tr th:only-of-type {\n",
       "        vertical-align: middle;\n",
       "    }\n",
       "\n",
       "    .dataframe tbody tr th {\n",
       "        vertical-align: top;\n",
       "    }\n",
       "\n",
       "    .dataframe thead th {\n",
       "        text-align: right;\n",
       "    }\n",
       "</style>\n",
       "<table border=\"1\" class=\"dataframe\">\n",
       "  <thead>\n",
       "    <tr style=\"text-align: right;\">\n",
       "      <th></th>\n",
       "      <th>TV_hours</th>\n",
       "      <th>Physical_activity</th>\n",
       "      <th>Pearson correlation coefficient:</th>\n",
       "    </tr>\n",
       "  </thead>\n",
       "  <tbody>\n",
       "    <tr>\n",
       "      <th>0</th>\n",
       "      <td>4</td>\n",
       "      <td>60</td>\n",
       "      <td>0.981398</td>\n",
       "    </tr>\n",
       "    <tr>\n",
       "      <th>1</th>\n",
       "      <td>3</td>\n",
       "      <td>45</td>\n",
       "      <td>0.981398</td>\n",
       "    </tr>\n",
       "    <tr>\n",
       "      <th>2</th>\n",
       "      <td>2</td>\n",
       "      <td>30</td>\n",
       "      <td>0.981398</td>\n",
       "    </tr>\n",
       "    <tr>\n",
       "      <th>3</th>\n",
       "      <td>5</td>\n",
       "      <td>90</td>\n",
       "      <td>0.981398</td>\n",
       "    </tr>\n",
       "    <tr>\n",
       "      <th>4</th>\n",
       "      <td>6</td>\n",
       "      <td>120</td>\n",
       "      <td>0.981398</td>\n",
       "    </tr>\n",
       "  </tbody>\n",
       "</table>\n",
       "</div>"
      ],
      "text/plain": [
       "   TV_hours  Physical_activity  Pearson correlation coefficient:\n",
       "0         4                 60                          0.981398\n",
       "1         3                 45                          0.981398\n",
       "2         2                 30                          0.981398\n",
       "3         5                 90                          0.981398\n",
       "4         6                120                          0.981398"
      ]
     },
     "execution_count": 26,
     "metadata": {},
     "output_type": "execute_result"
    }
   ],
   "source": [
    "df.head()"
   ]
  },
  {
   "attachments": {
    "image.png": {
     "image/png": "[encoded data removed]"
    }
   },
   "cell_type": "markdown",
   "id": "906048bb",
   "metadata": {},
   "source": [
    "# Q5. A survey was conducted to examine the relationship between age and preference for a particular brand of soft drink. The survey results are shown below:\n",
    "\n",
    "![image.png](attachment:image.png)"
   ]
  },
  {
   "cell_type": "code",
   "execution_count": 3,
   "id": "9134dea3",
   "metadata": {},
   "outputs": [
    {
     "data": {
      "text/html": [
       "<div>\n",
       "<style scoped>\n",
       "    .dataframe tbody tr th:only-of-type {\n",
       "        vertical-align: middle;\n",
       "    }\n",
       "\n",
       "    .dataframe tbody tr th {\n",
       "        vertical-align: top;\n",
       "    }\n",
       "\n",
       "    .dataframe thead th {\n",
       "        text-align: right;\n",
       "    }\n",
       "</style>\n",
       "<table border=\"1\" class=\"dataframe\">\n",
       "  <thead>\n",
       "    <tr style=\"text-align: right;\">\n",
       "      <th></th>\n",
       "      <th>Age(Years)</th>\n",
       "      <th>Soft Drink Preference</th>\n",
       "    </tr>\n",
       "  </thead>\n",
       "  <tbody>\n",
       "    <tr>\n",
       "      <th>0</th>\n",
       "      <td>25</td>\n",
       "      <td>Coke</td>\n",
       "    </tr>\n",
       "    <tr>\n",
       "      <th>1</th>\n",
       "      <td>42</td>\n",
       "      <td>Pepsi</td>\n",
       "    </tr>\n",
       "    <tr>\n",
       "      <th>2</th>\n",
       "      <td>37</td>\n",
       "      <td>Mountain Dew</td>\n",
       "    </tr>\n",
       "    <tr>\n",
       "      <th>3</th>\n",
       "      <td>19</td>\n",
       "      <td>Coke</td>\n",
       "    </tr>\n",
       "    <tr>\n",
       "      <th>4</th>\n",
       "      <td>31</td>\n",
       "      <td>Pepsi</td>\n",
       "    </tr>\n",
       "    <tr>\n",
       "      <th>5</th>\n",
       "      <td>28</td>\n",
       "      <td>Coke</td>\n",
       "    </tr>\n",
       "  </tbody>\n",
       "</table>\n",
       "</div>"
      ],
      "text/plain": [
       "   Age(Years) Soft Drink Preference\n",
       "0          25                  Coke\n",
       "1          42                 Pepsi\n",
       "2          37          Mountain Dew\n",
       "3          19                  Coke\n",
       "4          31                 Pepsi\n",
       "5          28                  Coke"
      ]
     },
     "execution_count": 3,
     "metadata": {},
     "output_type": "execute_result"
    }
   ],
   "source": [
    "df = pd.DataFrame({\n",
    "    \"Age(Years)\": [25, 42, 37, 19, 31, 28],\n",
    "    \"Soft Drink Preference\": ['Coke', 'Pepsi', 'Mountain Dew', 'Coke', 'Pepsi', 'Coke']\n",
    "})\n",
    "df"
   ]
  },
  {
   "cell_type": "markdown",
   "id": "25b020fd",
   "metadata": {},
   "source": [
    "For finding Pearson correlation, we first need to convert the categorical variable to numerical variable. We can do so by encoding it:"
   ]
  },
  {
   "cell_type": "code",
   "execution_count": 4,
   "id": "e95f66b9",
   "metadata": {},
   "outputs": [
    {
     "data": {
      "text/html": [
       "<div>\n",
       "<style scoped>\n",
       "    .dataframe tbody tr th:only-of-type {\n",
       "        vertical-align: middle;\n",
       "    }\n",
       "\n",
       "    .dataframe tbody tr th {\n",
       "        vertical-align: top;\n",
       "    }\n",
       "\n",
       "    .dataframe thead th {\n",
       "        text-align: right;\n",
       "    }\n",
       "</style>\n",
       "<table border=\"1\" class=\"dataframe\">\n",
       "  <thead>\n",
       "    <tr style=\"text-align: right;\">\n",
       "      <th></th>\n",
       "      <th>Age(Years)</th>\n",
       "      <th>Soft Drink Preference Enc</th>\n",
       "    </tr>\n",
       "  </thead>\n",
       "  <tbody>\n",
       "    <tr>\n",
       "      <th>0</th>\n",
       "      <td>25</td>\n",
       "      <td>0</td>\n",
       "    </tr>\n",
       "    <tr>\n",
       "      <th>1</th>\n",
       "      <td>42</td>\n",
       "      <td>2</td>\n",
       "    </tr>\n",
       "    <tr>\n",
       "      <th>2</th>\n",
       "      <td>37</td>\n",
       "      <td>1</td>\n",
       "    </tr>\n",
       "    <tr>\n",
       "      <th>3</th>\n",
       "      <td>19</td>\n",
       "      <td>0</td>\n",
       "    </tr>\n",
       "    <tr>\n",
       "      <th>4</th>\n",
       "      <td>31</td>\n",
       "      <td>2</td>\n",
       "    </tr>\n",
       "    <tr>\n",
       "      <th>5</th>\n",
       "      <td>28</td>\n",
       "      <td>0</td>\n",
       "    </tr>\n",
       "  </tbody>\n",
       "</table>\n",
       "</div>"
      ],
      "text/plain": [
       "   Age(Years)  Soft Drink Preference Enc\n",
       "0          25                          0\n",
       "1          42                          2\n",
       "2          37                          1\n",
       "3          19                          0\n",
       "4          31                          2\n",
       "5          28                          0"
      ]
     },
     "execution_count": 4,
     "metadata": {},
     "output_type": "execute_result"
    }
   ],
   "source": [
    "from sklearn.preprocessing import LabelEncoder\n",
    "encoder = LabelEncoder()\n",
    "encoded_col = encoder.fit_transform(df['Soft Drink Preference'])\n",
    "df_encoded = pd.DataFrame(encoded_col, columns=['Soft Drink Preference Enc'])\n",
    "df_new = pd.concat([df, df_encoded], axis=1)\n",
    "df_new = df_new.drop('Soft Drink Preference', axis=1)\n",
    "df_new"
   ]
  },
  {
   "cell_type": "markdown",
   "id": "1efb6af4",
   "metadata": {},
   "source": [
    "### Pearson's Coefficient Correlation:"
   ]
  },
  {
   "cell_type": "code",
   "execution_count": 5,
   "id": "034c6bee",
   "metadata": {},
   "outputs": [
    {
     "data": {
      "text/html": [
       "<div>\n",
       "<style scoped>\n",
       "    .dataframe tbody tr th:only-of-type {\n",
       "        vertical-align: middle;\n",
       "    }\n",
       "\n",
       "    .dataframe tbody tr th {\n",
       "        vertical-align: top;\n",
       "    }\n",
       "\n",
       "    .dataframe thead th {\n",
       "        text-align: right;\n",
       "    }\n",
       "</style>\n",
       "<table border=\"1\" class=\"dataframe\">\n",
       "  <thead>\n",
       "    <tr style=\"text-align: right;\">\n",
       "      <th></th>\n",
       "      <th>Age(Years)</th>\n",
       "      <th>Soft Drink Preference Enc</th>\n",
       "    </tr>\n",
       "  </thead>\n",
       "  <tbody>\n",
       "    <tr>\n",
       "      <th>Age(Years)</th>\n",
       "      <td>1.000000</td>\n",
       "      <td>0.769175</td>\n",
       "    </tr>\n",
       "    <tr>\n",
       "      <th>Soft Drink Preference Enc</th>\n",
       "      <td>0.769175</td>\n",
       "      <td>1.000000</td>\n",
       "    </tr>\n",
       "  </tbody>\n",
       "</table>\n",
       "</div>"
      ],
      "text/plain": [
       "                           Age(Years)  Soft Drink Preference Enc\n",
       "Age(Years)                   1.000000                   0.769175\n",
       "Soft Drink Preference Enc    0.769175                   1.000000"
      ]
     },
     "execution_count": 5,
     "metadata": {},
     "output_type": "execute_result"
    }
   ],
   "source": [
    "df_new.corr(method='pearson')"
   ]
  },
  {
   "cell_type": "markdown",
   "id": "605c89be",
   "metadata": {},
   "source": [
    "# Q6. A company is interested in examining the relationship between the number of sales calls made per day and the number of sales made per week. The company collected data on both variables from a sample of 30 sales representatives. Calculate the Pearson correlation coefficient between these two variables."
   ]
  },
  {
   "cell_type": "code",
   "execution_count": 2,
   "id": "0eadc52a",
   "metadata": {},
   "outputs": [
    {
     "name": "stdout",
     "output_type": "stream",
     "text": [
      "|   Sales Calls/Day |   Sales/Week |\n",
      "|------------------:|-------------:|\n",
      "|                10 |          150 |\n",
      "|                12 |          180 |\n",
      "|                15 |          200 |\n",
      "|                18 |          220 |\n",
      "|                20 |          240 |\n",
      "|                22 |          260 |\n",
      "|                25 |          280 |\n",
      "|                28 |          300 |\n",
      "|                30 |          320 |\n"
     ]
    }
   ],
   "source": [
    "from tabulate import tabulate\n",
    "\n",
    "data = [[10, 150], [12, 180], [15, 200], [18, 220], [20, 240], [22, 260], [25, 280], [28, 300], [30, 320]]\n",
    "headers = [\"Sales Calls/Day\", \"Sales/Week\"]\n",
    "table = tabulate(data, headers=headers, tablefmt='pipe')\n",
    "\n",
    "print(table)\n"
   ]
  },
  {
   "cell_type": "markdown",
   "id": "007f773a",
   "metadata": {},
   "source": [
    "To calculate the Pearson correlation coefficient, we can use the following formula:"
   ]
  },
  {
   "cell_type": "markdown",
   "id": "c1b9488e",
   "metadata": {},
   "source": [
    "where:\n",
    "\n",
    "* r is the Pearson correlation coefficient\n",
    "\n",
    "* x is the number of sales calls made per day\n",
    "\n",
    "* y is the number of sales made per week\n",
    "\n",
    "* x̄ is the mean of the number of sales calls made per day\n",
    "\n",
    "* ȳ is the mean of the number of sales made per week\n",
    "\n",
    "First, we need to calculate the mean of the number of sales calls made per day and the number of sales made per week."
   ]
  },
  {
   "cell_type": "code",
   "execution_count": 5,
   "id": "5971d1ca",
   "metadata": {},
   "outputs": [],
   "source": [
    "x̄ = 20\n",
    "ȳ = 250"
   ]
  },
  {
   "cell_type": "markdown",
   "id": "c58577a9",
   "metadata": {},
   "source": [
    "Now, we can calculate the numerator of the formula:\n",
    "\n",
    "∑(x - x̄)(y - ȳ) = (10 - 20)(150 - 250) + (12 - 20)(180 - 250) + ... + (30 - 20)(320 - 250) = -1500\n",
    "\n",
    "Next, we need to calculate the square of the standard deviation of the number of sales calls made per day and the number of sales made per week."
   ]
  },
  {
   "cell_type": "markdown",
   "id": "1478f2ce",
   "metadata": {},
   "source": [
    "∑(x - x̄)^2 = 100 + 100 + ... + 100 = 600\n",
    "\n",
    "∑(y - ȳ)^2 = 2500 + 2500 + ... + 2500 = 15000"
   ]
  },
  {
   "cell_type": "markdown",
   "id": "1e999cca",
   "metadata": {},
   "source": [
    "Finally, we can calculate the Pearson correlation coefficient:\n",
    "    \n",
    "r = -1500 / √600 √15000 = -0.20\n"
   ]
  },
  {
   "cell_type": "markdown",
   "id": "f1055c66",
   "metadata": {},
   "source": [
    "Therefore, the Pearson correlation coefficient between the number of sales calls made per day and the number of sales made per week is -0.20. This indicates that there is a weak negative correlation between these two variables. In other words, as the number of sales calls made per day increases, the number of sales made per week tends to decrease."
   ]
  },
  {
   "cell_type": "code",
   "execution_count": 6,
   "id": "93a245cb",
   "metadata": {},
   "outputs": [],
   "source": [
    "import pandas as pd"
   ]
  },
  {
   "cell_type": "code",
   "execution_count": 7,
   "id": "28d176a9",
   "metadata": {},
   "outputs": [],
   "source": [
    "# Create a DataFrame with the sales data\n",
    "data = {'Sales Calls/Day': [10, 12, 15, 18, 20, 22, 25, 28, 30],\n",
    "        'Sales/Week': [150, 180, 200, 220, 240, 260, 280, 300, 320]}"
   ]
  },
  {
   "cell_type": "code",
   "execution_count": 8,
   "id": "c6de9964",
   "metadata": {},
   "outputs": [],
   "source": [
    "df = pd.DataFrame(data)"
   ]
  },
  {
   "cell_type": "code",
   "execution_count": 9,
   "id": "f27dd8c4",
   "metadata": {},
   "outputs": [
    {
     "data": {
      "text/html": [
       "<div>\n",
       "<style scoped>\n",
       "    .dataframe tbody tr th:only-of-type {\n",
       "        vertical-align: middle;\n",
       "    }\n",
       "\n",
       "    .dataframe tbody tr th {\n",
       "        vertical-align: top;\n",
       "    }\n",
       "\n",
       "    .dataframe thead th {\n",
       "        text-align: right;\n",
       "    }\n",
       "</style>\n",
       "<table border=\"1\" class=\"dataframe\">\n",
       "  <thead>\n",
       "    <tr style=\"text-align: right;\">\n",
       "      <th></th>\n",
       "      <th>Sales Calls/Day</th>\n",
       "      <th>Sales/Week</th>\n",
       "    </tr>\n",
       "  </thead>\n",
       "  <tbody>\n",
       "    <tr>\n",
       "      <th>0</th>\n",
       "      <td>10</td>\n",
       "      <td>150</td>\n",
       "    </tr>\n",
       "    <tr>\n",
       "      <th>1</th>\n",
       "      <td>12</td>\n",
       "      <td>180</td>\n",
       "    </tr>\n",
       "    <tr>\n",
       "      <th>2</th>\n",
       "      <td>15</td>\n",
       "      <td>200</td>\n",
       "    </tr>\n",
       "    <tr>\n",
       "      <th>3</th>\n",
       "      <td>18</td>\n",
       "      <td>220</td>\n",
       "    </tr>\n",
       "    <tr>\n",
       "      <th>4</th>\n",
       "      <td>20</td>\n",
       "      <td>240</td>\n",
       "    </tr>\n",
       "    <tr>\n",
       "      <th>5</th>\n",
       "      <td>22</td>\n",
       "      <td>260</td>\n",
       "    </tr>\n",
       "    <tr>\n",
       "      <th>6</th>\n",
       "      <td>25</td>\n",
       "      <td>280</td>\n",
       "    </tr>\n",
       "    <tr>\n",
       "      <th>7</th>\n",
       "      <td>28</td>\n",
       "      <td>300</td>\n",
       "    </tr>\n",
       "    <tr>\n",
       "      <th>8</th>\n",
       "      <td>30</td>\n",
       "      <td>320</td>\n",
       "    </tr>\n",
       "  </tbody>\n",
       "</table>\n",
       "</div>"
      ],
      "text/plain": [
       "   Sales Calls/Day  Sales/Week\n",
       "0               10         150\n",
       "1               12         180\n",
       "2               15         200\n",
       "3               18         220\n",
       "4               20         240\n",
       "5               22         260\n",
       "6               25         280\n",
       "7               28         300\n",
       "8               30         320"
      ]
     },
     "execution_count": 9,
     "metadata": {},
     "output_type": "execute_result"
    }
   ],
   "source": [
    "df"
   ]
  },
  {
   "cell_type": "code",
   "execution_count": 10,
   "id": "f5bcc9eb",
   "metadata": {},
   "outputs": [],
   "source": [
    "# Calculate Pearson correlation coefficient\n",
    "correlation_coefficient = df['Sales Calls/Day'].corr(df['Sales/Week'])"
   ]
  },
  {
   "cell_type": "code",
   "execution_count": 11,
   "id": "1510eaba",
   "metadata": {},
   "outputs": [],
   "source": [
    "df[\"Pearson correlation coefficient:\"] = correlation_coefficient"
   ]
  },
  {
   "cell_type": "code",
   "execution_count": 12,
   "id": "97c820aa",
   "metadata": {},
   "outputs": [
    {
     "data": {
      "text/html": [
       "<div>\n",
       "<style scoped>\n",
       "    .dataframe tbody tr th:only-of-type {\n",
       "        vertical-align: middle;\n",
       "    }\n",
       "\n",
       "    .dataframe tbody tr th {\n",
       "        vertical-align: top;\n",
       "    }\n",
       "\n",
       "    .dataframe thead th {\n",
       "        text-align: right;\n",
       "    }\n",
       "</style>\n",
       "<table border=\"1\" class=\"dataframe\">\n",
       "  <thead>\n",
       "    <tr style=\"text-align: right;\">\n",
       "      <th></th>\n",
       "      <th>Sales Calls/Day</th>\n",
       "      <th>Sales/Week</th>\n",
       "      <th>Pearson correlation coefficient:</th>\n",
       "    </tr>\n",
       "  </thead>\n",
       "  <tbody>\n",
       "    <tr>\n",
       "      <th>0</th>\n",
       "      <td>10</td>\n",
       "      <td>150</td>\n",
       "      <td>0.997157</td>\n",
       "    </tr>\n",
       "    <tr>\n",
       "      <th>1</th>\n",
       "      <td>12</td>\n",
       "      <td>180</td>\n",
       "      <td>0.997157</td>\n",
       "    </tr>\n",
       "    <tr>\n",
       "      <th>2</th>\n",
       "      <td>15</td>\n",
       "      <td>200</td>\n",
       "      <td>0.997157</td>\n",
       "    </tr>\n",
       "    <tr>\n",
       "      <th>3</th>\n",
       "      <td>18</td>\n",
       "      <td>220</td>\n",
       "      <td>0.997157</td>\n",
       "    </tr>\n",
       "    <tr>\n",
       "      <th>4</th>\n",
       "      <td>20</td>\n",
       "      <td>240</td>\n",
       "      <td>0.997157</td>\n",
       "    </tr>\n",
       "    <tr>\n",
       "      <th>5</th>\n",
       "      <td>22</td>\n",
       "      <td>260</td>\n",
       "      <td>0.997157</td>\n",
       "    </tr>\n",
       "    <tr>\n",
       "      <th>6</th>\n",
       "      <td>25</td>\n",
       "      <td>280</td>\n",
       "      <td>0.997157</td>\n",
       "    </tr>\n",
       "    <tr>\n",
       "      <th>7</th>\n",
       "      <td>28</td>\n",
       "      <td>300</td>\n",
       "      <td>0.997157</td>\n",
       "    </tr>\n",
       "    <tr>\n",
       "      <th>8</th>\n",
       "      <td>30</td>\n",
       "      <td>320</td>\n",
       "      <td>0.997157</td>\n",
       "    </tr>\n",
       "  </tbody>\n",
       "</table>\n",
       "</div>"
      ],
      "text/plain": [
       "   Sales Calls/Day  Sales/Week  Pearson correlation coefficient:\n",
       "0               10         150                          0.997157\n",
       "1               12         180                          0.997157\n",
       "2               15         200                          0.997157\n",
       "3               18         220                          0.997157\n",
       "4               20         240                          0.997157\n",
       "5               22         260                          0.997157\n",
       "6               25         280                          0.997157\n",
       "7               28         300                          0.997157\n",
       "8               30         320                          0.997157"
      ]
     },
     "execution_count": 12,
     "metadata": {},
     "output_type": "execute_result"
    }
   ],
   "source": [
    "df"
   ]
  },
  {
   "cell_type": "code",
   "execution_count": null,
   "id": "5dd7cb3e",
   "metadata": {},
   "outputs": [],
   "source": []
  }
 ],
 "metadata": {
  "kernelspec": {
   "display_name": "Python 3 (ipykernel)",
   "language": "python",
   "name": "python3"
  },
  "language_info": {
   "codemirror_mode": {
    "name": "ipython",
    "version": 3
   },
   "file_extension": ".py",
   "mimetype": "text/x-python",
   "name": "python",
   "nbconvert_exporter": "python",
   "pygments_lexer": "ipython3",
   "version": "3.10.4"
  }
 },
 "nbformat": 4,
 "nbformat_minor": 5
}
