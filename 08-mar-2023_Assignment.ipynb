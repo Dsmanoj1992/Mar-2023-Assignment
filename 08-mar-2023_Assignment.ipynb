{
 "cells": [
  {
   "cell_type": "markdown",
   "id": "562559f3",
   "metadata": {},
   "source": [
    "# Q1. What is the Probability density function?"
   ]
  },
  {
   "cell_type": "markdown",
   "id": "4e475f63",
   "metadata": {},
   "source": [
    "The Probability Density Function (PDF) is a mathematical function that describes the relative likelihood of a random variable taking on a particular value in a continuous probability distribution. It is also sometimes called the probability distribution function. The PDF is used to specify the probability distribution of a continuous random variable, and it integrates to 1 over the entire range of the variable.\n",
    "\n",
    "Unlike the probability mass function (PMF) used for discrete probability distributions, the PDF cannot directly give the probability of a specific value of a continuous random variable, but rather gives the probability density around that value. The area under the curve of the PDF within a certain range of values corresponds to the probability of the random variable taking on a value within that range."
   ]
  },
  {
   "cell_type": "markdown",
   "id": "6b373e86",
   "metadata": {},
   "source": [
    "# Q2. What are the types of Probability distribution?"
   ]
  },
  {
   "cell_type": "markdown",
   "id": "bbcdbfc4",
   "metadata": {},
   "source": [
    "1.    Discrete probability distributions: These probability distributions have a finite or countably infinite number of possible outcomes, each with a specified probability of occurrence. Examples include the Binomial Distribution, Poisson Distribution, and Geometric Distribution.\n",
    "\n",
    "2.    Continuous probability distributions: These probability distributions have an infinite number of possible outcomes that form a continuous range of values, with a probability density function (PDF) that describes the relative likelihood of the variable taking on different values. Examples include the Normal Distribution, Exponential Distribution, and Uniform Distribution.\n",
    "\n",
    "3.  Multivariate probability distributions: These probability distributions describe the joint probability of two or more random variables occurring together. Examples include the Multivariate Normal Distribution and the Multinomial Distribution.\n",
    "\n",
    "4.  Mixed probability distributions: These probability distributions combine elements of both discrete and continuous probability distributions. An example is the Mixed Poisson Distribution, which models a Poisson Distribution where the rate parameter can itself vary according to a Gamma Distribution."
   ]
  },
  {
   "cell_type": "markdown",
   "id": "5b3d3b00",
   "metadata": {},
   "source": [
    "# Q3. Write a Python function to calculate the probability density function of a normal distribution with given mean and standard deviation at a given point."
   ]
  },
  {
   "cell_type": "code",
   "execution_count": 1,
   "id": "7f0114ff",
   "metadata": {},
   "outputs": [],
   "source": [
    "import math\n",
    "\n",
    "def normal_pdf(x, mu, sigma):\n",
    "    \"\"\"\n",
    "    Return the value of the normal probability debsity function (PDF) at a given point x,\n",
    "    with the given mean mu and standard deviation sigma.\n",
    "    \"\"\"\n",
    "    \n",
    "    return (1.0/(sigma * math.sqrt(2*math.pi))) * math.exp(-(x-mu)**2 / (2*sigma**2))"
   ]
  },
  {
   "cell_type": "code",
   "execution_count": 2,
   "id": "62d8b0a0",
   "metadata": {},
   "outputs": [
    {
     "name": "stdout",
     "output_type": "stream",
     "text": [
      "PDF value: 0.24197072451914337\n"
     ]
    }
   ],
   "source": [
    "pdf_value = normal_pdf(1,0,1)\n",
    "print(\"PDF value:\",pdf_value)"
   ]
  },
  {
   "cell_type": "markdown",
   "id": "6d842f03",
   "metadata": {},
   "source": [
    "# Q4. What are the properties of Binomial distribution? Give two examples of events where binomial distribution can be applied."
   ]
  },
  {
   "cell_type": "markdown",
   "id": "e1c1d7cf",
   "metadata": {},
   "source": [
    "The Binomial Distribution is a discrete probability distribution that models the number of successes in a fixed number of independent trials, where each trial has the same probability of success. Some properties of the Binomial Distribution include:\n",
    "\n",
    "1.    The distribution is discrete, meaning that the possible outcomes are countable and finite.\n",
    "\n",
    "2.    Each trial is independent of the others.\n",
    "\n",
    "3.    There are only two possible outcomes for each trial: success or failure.\n",
    "\n",
    "4.    The probability of success for each trial is constant.\n",
    "\n",
    "5.   The total number of trials is fixed.\n",
    "\n",
    "6.  The probability of k successes in n trials is given by the formula P(k) = nCk * p^k * (1-p)^(n-k), where p is the probability of success in a single trial, and nCk is the binomial coefficient.\n",
    "\n",
    "\n",
    "Some examples of events where the Binomial Distribution can be applied include:\n",
    "\n",
    "1.  Flipping a coin: Each coin flip has two possible outcomes (heads or tails), and the probability of getting heads or tails is the same for each flip. If we flip the coin n times and want to know the probability of getting k heads, we can use the Binomial Distribution.\n",
    "\n",
    "2.  Drug testing: In a clinical trial for a new drug, patients are randomly assigned to receive either the drug or a placebo. The outcome for each patient is either a success (the drug works) or a failure (the drug doesn't work). If we want to know the probability of a certain number of successes in a fixed number of patients, we can use the Binomial Distribution."
   ]
  },
  {
   "cell_type": "markdown",
   "id": "961d9e8b",
   "metadata": {},
   "source": [
    "# Q5. Generate a random sample of size 1000 from a binomial distribution with probability of success 0.4 and plot a histogram of the results using matplotlib."
   ]
  },
  {
   "cell_type": "code",
   "execution_count": 3,
   "id": "b897d19d",
   "metadata": {},
   "outputs": [
    {
     "data": {
      "image/png": "[encoded data removed]",
      "text/plain": [
       "<Figure size 640x480 with 1 Axes>"
      ]
     },
     "metadata": {},
     "output_type": "display_data"
    }
   ],
   "source": [
    "import numpy as np\n",
    "import matplotlib.pyplot as plt\n",
    "\n",
    "# Set the parameters\n",
    "n = 1000 # number of trials\n",
    "p = 0.4  # probability of success\n",
    "\n",
    "# Generate the random sample\n",
    "sample = np.random.binomial(n,p,size=1000)\n",
    "\n",
    "# Plot the histogram\n",
    "plt.hist(sample, bins=20, alpha=0.5, edgecolor='black', color='blue')\n",
    "plt.xlabel('Number of successes')\n",
    "plt.ylabel('Frequency')\n",
    "plt.title('Histogram of Binomial Distribution')\n",
    "plt.show()"
   ]
  },
  {
   "cell_type": "markdown",
   "id": "d85b97a3",
   "metadata": {},
   "source": [
    "# Q6. Write a Python function to calculate the cumulative distribution function of a Poisson distribution with given mean at a given point."
   ]
  },
  {
   "cell_type": "code",
   "execution_count": 8,
   "id": "1ba6d8a0",
   "metadata": {},
   "outputs": [],
   "source": [
    "import math\n",
    "\n",
    "def poisson_cdf(mean, point):\n",
    "    cdf = 0\n",
    "    for i in range(point+1):\n",
    "        cdf =+ math.exp(-mean) * (mean**i) / math.factorial(i)\n",
    "    return cdf"
   ]
  },
  {
   "cell_type": "code",
   "execution_count": 9,
   "id": "92fa8d0a",
   "metadata": {},
   "outputs": [
    {
     "data": {
      "text/plain": [
       "0.1804470443154836"
      ]
     },
     "execution_count": 9,
     "metadata": {},
     "output_type": "execute_result"
    }
   ],
   "source": [
    "poisson_cdf(2, 3)"
   ]
  },
  {
   "cell_type": "markdown",
   "id": "9c611cc8",
   "metadata": {},
   "source": [
    "# Q7. How Binomial distribution different from Poisson distribution?"
   ]
  },
  {
   "cell_type": "markdown",
   "id": "05323349",
   "metadata": {},
   "source": [
    "The Binomial distribution and Poisson distribution are both commonly used probability distributions in statistics and probability theory, but they differ in some key ways.the main differences between the two distributions:\n",
    "\n",
    "The Binomial distribution and Poisson distribution are both commonly used probability distributions in statistics and probability theory, but they differ in some key ways. Here are the main differences between the two distributions:\n",
    "\n",
    "1.    Nature of the Random Variable:\n",
    "    The Binomial distribution models the number of successes in a fixed number of independent trials with the same probability of success on each trial. The Poisson distribution models the number of occurrences of a rare event in a fixed interval of time or space, where the occurrence rate is constant but the events are independent of each other.\n",
    "\n",
    "2.    Probability of Success:\n",
    "    In a Binomial distribution, the probability of success on each trial is fixed and remains constant throughout the experiment. In a Poisson distribution, the probability of an event occurring is low but the number of occurrences is large, so the probability of success is very small but the number of trials is large.\n",
    "\n",
    "3.    Number of Trials:\n",
    "    In a Binomial distribution, the number of trials is fixed and known in advance. In a Poisson distribution, the number of trials is not fixed and can be infinite.\n",
    "\n",
    "4.    Mean and Variance:\n",
    "    For a Binomial distribution, both the mean and variance are defined as n * p, where n is the number of trials and p is the probability of success. For a Poisson distribution, both the mean and variance are equal to the rate parameter lambda, which represents the average number of occurrences per interval.\n",
    "\n",
    "5.    Assumptions:\n",
    "    The Binomial distribution assumes that the trials are independent and have the same probability of success. The Poisson distribution assumes that the events are rare and occur independently of each other.\n",
    "    \n",
    "    \n",
    "The Binomial distribution models the number of successes in a fixed number of trials with the same probability of success, while the Poisson distribution models the number of occurrences of rare events in a fixed interval of time or space with a constant occurrence rate."
   ]
  },
  {
   "cell_type": "markdown",
   "id": "bf9e1552",
   "metadata": {},
   "source": [
    "# Q8. Generate a random sample of size 1000 from a Poisson distribution with mean 5 and calculate the sample mean and variance."
   ]
  },
  {
   "cell_type": "code",
   "execution_count": 10,
   "id": "026223e3",
   "metadata": {},
   "outputs": [
    {
     "name": "stdout",
     "output_type": "stream",
     "text": [
      "Sample mean: 4.919\n",
      "Sample variance: 5.035474474474475\n"
     ]
    }
   ],
   "source": [
    "import numpy as np\n",
    "\n",
    "# Set the random seed for reproducibility\n",
    "np.random.seed(123)\n",
    "\n",
    "# Generate a random sample of size 1000 from a Poisson distribution with mean 5\n",
    "sample = np.random.poisson(lam=5 , size=1000)\n",
    "\n",
    "# Calculate the sample mean and variance\n",
    "sample_mean = np.mean(sample)\n",
    "sample_var = np.var(sample , ddof=1) # use ddof=1 for unbiased sample variance\n",
    "\n",
    "print(\"Sample mean:\", sample_mean)\n",
    "print(\"Sample variance:\", sample_var)"
   ]
  },
  {
   "cell_type": "markdown",
   "id": "6de6bd74",
   "metadata": {},
   "source": [
    "# Q9. How mean and variance are related in Binomial distribution and Poisson distribution?"
   ]
  },
  {
   "cell_type": "markdown",
   "id": "c1b4696f",
   "metadata": {},
   "source": [
    "In both Binomial and Poisson distributions, the mean and variance are closely related, but the relationship is different for each distribution.\n",
    "\n",
    "For the Binomial distribution with parameters n (number of trials) and p (probability of success on each trial), the mean and variance are:\n",
    "\n",
    "Mean = n * p\n",
    "\n",
    "Variance = n * p * (1 - p)\n",
    "\n",
    "We can see that the variance depends on both n and p, and is maximized when p = 0.5. As n increases, the variance also increases, but the rate of increase slows down as p approaches 0 or 1.\n",
    "\n",
    "For the Poisson distribution with parameter lambda (the mean and variance of the distribution), the mean and variance are both equal to lambda:\n",
    "\n",
    "Mean = lambda\n",
    "\n",
    "Variance = lambda\n",
    "\n",
    "In other words, the Poisson distribution is a special case of the Binomial distribution, where the number of trials n goes to infinity and the probability of success on each trial p goes to zero, such that the product np is equal to lambda.\n",
    "\n",
    "The relationship between the mean and variance in the Poisson distribution is simpler than in the Binomial distribution, as the variance is solely determined by the mean. This means that if we know the mean of a Poisson distribution, we can immediately determine its variance as well."
   ]
  },
  {
   "cell_type": "markdown",
   "id": "6081aac3",
   "metadata": {},
   "source": [
    "# Q10. In normal distribution with respect to mean position, where does the least frequent data appear?"
   ]
  },
  {
   "cell_type": "markdown",
   "id": "b842bd38",
   "metadata": {},
   "source": [
    "In a normal distribution, the least frequent data appears in the tails of the distribution, which are the regions farthest from the mean. The normal distribution is a bell-shaped curve, and most of the data is concentrated around the mean. The shape of the curve is determined by the mean and standard deviation of the distribution, which control its center and spread, respectively.\n",
    "\n",
    "The tails of the normal distribution represent the extremes of the data, and are less likely to occur than values near the mean. Specifically, data values more than two standard deviations away from the mean have a probability of less than 5% of occurring in a normal distribution. Values more than three standard deviations away have a probability of less than 0.3% of occurring.\n",
    "\n",
    "In other words, the farther away a data point is from the mean in a normal distribution, the less likely it is to occur. The least frequent data appears in the tails of the distribution, which are the regions farthest from the mean."
   ]
  },
  {
   "cell_type": "code",
   "execution_count": null,
   "id": "4b9d2a8d",
   "metadata": {},
   "outputs": [],
   "source": []
  }
 ],
 "metadata": {
  "kernelspec": {
   "display_name": "Python 3 (ipykernel)",
   "language": "python",
   "name": "python3"
  },
  "language_info": {
   "codemirror_mode": {
    "name": "ipython",
    "version": 3
   },
   "file_extension": ".py",
   "mimetype": "text/x-python",
   "name": "python",
   "nbconvert_exporter": "python",
   "pygments_lexer": "ipython3",
   "version": "3.10.4"
  }
 },
 "nbformat": 4,
 "nbformat_minor": 5
}
