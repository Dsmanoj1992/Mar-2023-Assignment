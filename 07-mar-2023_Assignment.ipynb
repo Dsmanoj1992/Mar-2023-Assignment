{
 "cells": [
  {
   "cell_type": "markdown",
   "id": "bc72440c",
   "metadata": {},
   "source": [
    "# Q1. What are the three measures of central tendency?"
   ]
  },
  {
   "cell_type": "markdown",
   "id": "6a05d63c",
   "metadata": {},
   "source": [
    "The three measures of central tendency are:\n",
    "\n",
    "1.    Mean: The mean is the average of a set of numbers, which is calculated by adding up all the numbers in the set and dividing by the total number of values in the set.\n",
    "\n",
    "2.    Median: The median is the middle value in a set of numbers when they are arranged in order from smallest to largest. If there are an even number of values, the median is the average of the two middle values.\n",
    "\n",
    "3.    Mode: The mode is the most frequently occurring value in a set of numbers. If there are two or more values that occur with the same highest frequency, then the set has multiple modes."
   ]
  },
  {
   "cell_type": "markdown",
   "id": "d61e6383",
   "metadata": {},
   "source": [
    "# Q2. What is the difference between the mean, median, and mode? How are they used to measure the central tendency of a dataset?"
   ]
  },
  {
   "cell_type": "markdown",
   "id": "7ed3687d",
   "metadata": {},
   "source": [
    "The mean, median, and mode are all measures of central tendency, which means that they are used to describe the center of a dataset. However, they are each calculated differently and can sometimes provide different information about the dataset.\n",
    "\n",
    "The mean is calculated by adding up all the values in the dataset and dividing by the total number of values. The mean is sensitive to extreme values or outliers, which can greatly affect its value. For example, if a dataset contains a few very large values, the mean will be pulled towards these values and may not be representative of the typical value in the dataset.\n",
    "\n",
    "The median is the middle value in a dataset when the values are arranged in order from smallest to largest. The median is not sensitive to extreme values because it only depends on the position of the values in the dataset. If a dataset contains extreme values, the median will not be affected as long as there are still enough values on both sides of the median to make it the middle value.\n",
    "\n",
    "The mode is the value that occurs most frequently in a dataset. The mode is useful for identifying the most common value in the dataset, but it does not provide any information about the spread or variability of the data.\n",
    "\n",
    "the mean, median, and mode are all useful measures of central tendency that can be used to describe the center of a dataset. The mean is sensitive to extreme values, while the median and mode are not. Choosing which measure to use depends on the nature of the dataset and the specific question being asked."
   ]
  },
  {
   "cell_type": "markdown",
   "id": "723bc3e7",
   "metadata": {},
   "source": [
    "# Q3. Measure the three measures of central tendency for the given height data:\n",
    "\n",
    " [178,177,176,177,178.2,178,175,179,180,175,178.9,176.2,177,172.5,178,176.5]"
   ]
  },
  {
   "cell_type": "markdown",
   "id": "3eb94c13",
   "metadata": {},
   "source": [
    "To calculate the three measures of central tendency (mean, median, and mode) for the given height data, we can use the following formulas:\n",
    "\n",
    "1.Mean: The mean is calculated by adding up all the values in the dataset and dividing by the total number of values.\n",
    "\n",
    "mean = (178 + 177 + 176 + 177 + 178.2 + 178 + 175 + 179 + 180 + 175 + 178.9 + 176.2 + 177 + 172.5 + 178 + 176.5) / 16\n",
    "\n",
    "= 1767.3 / 16\n",
    "\n",
    "= 110.45625\n",
    "\n",
    "Therefore, the mean height is approximately 176.73 cm.\n",
    "\n",
    "2.Median: The median is the middle value in a dataset when the values are arranged in order from smallest to largest.\n",
    "\n",
    "First, we need to arrange the heights in ascending order:\n",
    "\n",
    "172.5, 175, 175, 176, 176, 176.2, 176.5, 177, 177, 178, 178, 178, 178.2, 178.9, 179, 180\n",
    "\n",
    "Since there are an even number of values, we take the average of the two middle values:\n",
    "\n",
    "median = (176 + 176.2) / 2\n",
    "\n",
    "= 176.1\n",
    "\n",
    "Therefore, the median height is approximately 176.1 cm.\n",
    "\n",
    "3.Mode: The mode is the value that occurs most frequently in a dataset.\n",
    "\n",
    "In this case, there are two values that occur most frequently, 177 and 178. Therefore, the dataset has two modes.\n",
    "\n",
    "Therefore, the mode(s) of the height data are 177 cm and 178 cm.\n",
    "\n",
    "In summary, the mean height of the dataset is approximately 176.73 cm, the median height is approximately 176.1 cm, and the mode(s) are 177 cm and 178 cm."
   ]
  },
  {
   "cell_type": "markdown",
   "id": "e31fa80e",
   "metadata": {},
   "source": [
    "# Q4. Find the standard deviation for the given data:\n",
    "\n",
    "[178,177,176,177,178.2,178,175,179,180,175,178.9,176.2,177,172.5,178,176.5]"
   ]
  },
  {
   "cell_type": "markdown",
   "id": "00a0a9ef",
   "metadata": {},
   "source": [
    "To find the standard deviation of the given data, we can use the following formula:\n",
    "\n",
    "σ = sqrt( Σ(x - μ)^2 / N )\n",
    "\n",
    "where:\n",
    "\n",
    "σ = standard deviation\n",
    "\n",
    "Σ = sum of\n",
    "\n",
    "x = each value in the dataset\n",
    "\n",
    "μ = mean of the dataset\n",
    "\n",
    "N = total number of values in the dataset\n",
    "\n",
    "First, we need to calculate the mean of the dataset (which we have already calculated in the previous question):\n",
    "\n",
    "mean = 176.73\n",
    "\n",
    "Next, we can calculate the deviation of each value from the mean:\n",
    "\n",
    "178 - 176.73 = 1.27\n",
    "\n",
    "177 - 176.73 = 0.27\n",
    "\n",
    "176 - 176.73 = -0.73\n",
    "\n",
    "177 - 176.73 = 0.27\n",
    "\n",
    "178.2 - 176.73 = 1.47\n",
    "\n",
    "178 - 176.73 = 1.27\n",
    "\n",
    "175 - 176.73 = -1.73\n",
    "\n",
    "179 - 176.73 = 2.27\n",
    "\n",
    "180 - 176.73 = 3.27\n",
    "\n",
    "175 - 176.73 = -1.73\n",
    "\n",
    "178.9 - 176.73 = 2.17\n",
    "\n",
    "176.2 - 176.73 = -0.53\n",
    "\n",
    "177 - 176.73 = 0.27\n",
    "\n",
    "172.5 - 176.73 = -4.23\n",
    "\n",
    "178 - 176.73 = 1.27\n",
    "\n",
    "176.5 - 176.73 = -0.23\n",
    "\n",
    "Then, we square each deviation:\n",
    "\n",
    "1.27^2 = 1.6129\n",
    "\n",
    "0.27^2 = 0.0729\n",
    "\n",
    "(-0.73)^2 = 0.5329\n",
    "\n",
    "0.27^2 = 0.0729\n",
    "\n",
    "1.47^2 = 2.1609\n",
    "\n",
    "1.27^2 = 1.6129\n",
    "\n",
    "(-1.73)^2 = 2.9929\n",
    "\n",
    "2.27^2 = 5.1529\n",
    "\n",
    "3.27^2 = 10.6929\n",
    "\n",
    "(-1.73)^2 = 2.9929\n",
    "\n",
    "2.17^2 = 4.7089\n",
    "(-0.53)^2 = 0.2809\n",
    "0.27^2 = 0.0729\n",
    "(-4.23)^2 = 17.8929\n",
    "1.27^2 = 1.6129\n",
    "(-0.23)^2 = 0.0529\n",
    "\n",
    "Next, we add up all the squared deviations:\n",
    "\n",
    "Σ(x - μ)^2 = 52.5239\n",
    "\n",
    "Finally, we can plug these values into the formula for standard deviation:"
   ]
  },
  {
   "cell_type": "markdown",
   "id": "cdfae309",
   "metadata": {},
   "source": [
    "# Q5. How are measures of dispersion such as range, variance, and standard deviation used to describe the spread of a dataset? Provide an example."
   ]
  },
  {
   "cell_type": "markdown",
   "id": "cdcd8565",
   "metadata": {},
   "source": [
    "Measures of dispersion such as range, variance, and standard deviation are used to describe how spread out the values in a dataset are. A dataset with a large range, variance, or standard deviation indicates that the values are more spread out, while a dataset with a small range, variance, or standard deviation indicates that the values are more tightly clustered around the center.\n",
    "\n",
    "For example, consider the following two datasets:\n",
    "\n",
    "Dataset 1: [10, 11, 12, 13, 14]\n",
    "\n",
    "Dataset 2: [0, 5, 10, 15, 20]\n",
    "\n",
    "Both datasets have the same mean (12), but they have different measures of dispersion. The range of Dataset 1 is 4, while the range of Dataset 2 is 20. This indicates that the values in Dataset 2 are more spread out than the values in Dataset 1. The variance of Dataset 1 is 2, while the variance of Dataset 2 is 50. This indicates that the values in Dataset 2 are more spread out than the values in Dataset 1. Finally, the standard deviation of Dataset 1 is approximately 1.41, while the standard deviation of Dataset 2 is approximately 7.07. This again indicates that the values in Dataset 2 are more spread out than the values in Dataset 1.\n",
    "\n",
    "Overall, measures of dispersion provide valuable information about the spread of a dataset, which can help us better understand the characteristics and variability of the underlying population."
   ]
  },
  {
   "cell_type": "markdown",
   "id": "cc3a114a",
   "metadata": {},
   "source": [
    "# Q6. What is a Venn diagram?"
   ]
  },
  {
   "cell_type": "markdown",
   "id": "4153fa1e",
   "metadata": {},
   "source": [
    "A Venn diagram is a graphical representation of the relationships between different sets of elements. It is composed of overlapping circles or other shapes, with each circle representing a set and the overlapping regions representing the intersection of those sets.\n",
    "\n",
    "Venn diagrams are commonly used to illustrate set theory concepts, such as union, intersection, complement, and subsets. They can also be used to compare and contrast different groups of objects or to visualize the overlap and differences between various categories or concepts.\n",
    "\n",
    "For example, a Venn diagram could be used to represent the relationship between different types of fruits. The circle for \"apples\" would contain all the types of apples, the circle for \"oranges\" would contain all the types of oranges, and the overlapping region would contain the types of fruit that are both apples and oranges (such as tangelo). A Venn diagram can help to illustrate how the different types of fruit are related to each other and can provide a clear visual representation of their similarities and differences."
   ]
  },
  {
   "cell_type": "markdown",
   "id": "50fb9b82",
   "metadata": {},
   "source": [
    "# Q7. For the two given sets A = (2,3,4,5,6,7) & B = (0,2,6,8,10). Find:\n",
    "\n",
    "(i) \tA B\n",
    "\n",
    "(ii)\tA ⋃ B"
   ]
  },
  {
   "cell_type": "markdown",
   "id": "e51e30c2",
   "metadata": {},
   "source": [
    "(i) A B represents the intersection of sets A and B, which contains all the elements that are common to both sets. To find A B, we need to identify the elements that are in both A and B. In this case, the only element that is in both sets is 2. Therefore, A B = {2}.\n",
    "\n",
    "(ii) A ⋃ B represents the union of sets A and B, which contains all the elements that are in either set. To find A ⋃ B, we need to combine all the elements in both sets without duplication. In this case, the combined set of A and B contains the elements {0, 2, 3, 4, 5, 6, 7, 8, 10}. Therefore, A ⋃ B = {0, 2, 3, 4, 5, 6, 7, 8, 10}."
   ]
  },
  {
   "cell_type": "markdown",
   "id": "bcc31bb9",
   "metadata": {},
   "source": [
    "# Q8. What do you understand about skewness in data?"
   ]
  },
  {
   "cell_type": "markdown",
   "id": "fb2a0238",
   "metadata": {},
   "source": [
    "Skewness is a measure of the asymmetry of a probability distribution or dataset. It is a measure of how much the distribution \"leans\" to one side or the other. A perfectly symmetrical distribution has a skewness of 0, while a distribution that leans to the left has negative skewness, and a distribution that leans to the right has positive skewness.\n",
    "\n",
    "In a positively skewed distribution, the tail of the distribution is longer on the right side than on the left side. This means that the majority of the values in the distribution are clustered on the left side, with a few extreme values on the right side. In contrast, a negatively skewed distribution has a longer tail on the left side and most of the values are clustered on the right side.\n",
    "\n",
    "Skewness can have an impact on the interpretation of statistical analyses, such as the mean and standard deviation. When a dataset is positively skewed, the mean tends to be larger than the median, and when a dataset is negatively skewed, the mean tends to be smaller than the median. Therefore, the median may be a better measure of central tendency for skewed distributions than the mean.\n",
    "\n",
    "Skewness can also be visualized using a histogram or a box plot. In a histogram, a positively skewed distribution appears as a \"hump\" on the left side and a long tail on the right side, while a negatively skewed distribution appears as a \"hump\" on the right side and a long tail on the left side. In a box plot, a positively skewed distribution appears with a longer whisker on the right side, while a negatively skewed distribution has a longer whisker on the left side."
   ]
  },
  {
   "cell_type": "markdown",
   "id": "a7b8aad4",
   "metadata": {},
   "source": [
    "# Q9. If a data is right skewed then what will be the position of median with respect to mean?"
   ]
  },
  {
   "cell_type": "markdown",
   "id": "5d238edf",
   "metadata": {},
   "source": [
    "If a data is right skewed, then the median will be less than the mean. This is because the right-skewed distribution has a long tail on the right side with a few extreme values that pull the mean to the right of the median. The median is not affected by these extreme values, so it stays closer to the center of the distribution, where most of the values are clustered.\n",
    "\n",
    "For example, consider the following set of data: 1, 2, 3, 4, 5, 10. The median of this data set is 3.5, which is the average of the two middle values (3 and 4). The mean of this data set is (1+2+3+4+5+10)/6 = 25/6, which is approximately 4.17. Since the distribution is right-skewed, the mean is pulled to the right of the median by the extreme value of 10. Therefore, in this example, the median (3.5) is less than the mean (4.17)."
   ]
  },
  {
   "cell_type": "markdown",
   "id": "9fd42799",
   "metadata": {},
   "source": [
    "# Q10. Explain the difference between covariance and correlation. How are these measures used in statistical analysis?"
   ]
  },
  {
   "cell_type": "markdown",
   "id": "7c7ddce1",
   "metadata": {},
   "source": [
    "Covariance and correlation are both measures of the relationship between two variables. However, there are some key differences between these measures:\n",
    "\n",
    "Covariance: Covariance is a measure of how much two variables vary together. It measures the direction and strength of the linear relationship between two variables. If two variables are positively related, then the covariance is positive. If two variables are negatively related, then the covariance is negative. If there is no relationship between the variables, then the covariance is zero. One limitation of covariance is that it does not provide information about the magnitude or scale of the relationship between two variables, which makes it difficult to interpret.\n",
    "\n",
    "Correlation: Correlation is a standardized version of covariance, which measures the strength and direction of the linear relationship between two variables. Correlation coefficients range from -1 to 1, with values of -1 indicating a perfect negative correlation, 0 indicating no correlation, and 1 indicating a perfect positive correlation. Unlike covariance, correlation is scale-independent, which means that it does not depend on the scale or units of measurement of the variables being analyzed.\n",
    "\n",
    "In statistical analysis, covariance and correlation are used to assess the strength and direction of the relationship between two variables. They are commonly used in regression analysis to build predictive models and to identify important predictors or factors that influence the outcome of interest. They are also used in exploratory data analysis to identify patterns and relationships between variables and to assess the reliability of measurement instruments.\n",
    "\n",
    "While both covariance and correlation are useful measures of the relationship between variables, correlation is generally preferred because it is easier to interpret and compare across different datasets and variables. Covariance is less commonly used due to its limitations in terms of interpretation and scale-dependency."
   ]
  },
  {
   "cell_type": "markdown",
   "id": "a899a96c",
   "metadata": {},
   "source": [
    "# Q11. What is the formula for calculating the sample mean? Provide an example calculation for a dataset."
   ]
  },
  {
   "cell_type": "markdown",
   "id": "8b53c7df",
   "metadata": {},
   "source": [
    "The formula for calculating the sample mean is:\n",
    "\n",
    "sample mean = (sum of all values in the sample) / (number of values in the sample)\n",
    "\n",
    "In other words, to calculate the sample mean, you add up all the values in the sample and divide by the total number of values in the sample.\n",
    "\n",
    "For example, consider the following dataset:\n",
    "\n",
    "2, 4, 6, 8, 10\n",
    "\n",
    "To find the sample mean of this dataset, you would first add up all the values:\n",
    "\n",
    "2 + 4 + 6 + 8 + 10 = 30\n",
    "\n",
    "Next, you would divide the sum by the number of values in the sample, which in this case is 5:\n",
    "\n",
    "30 / 5 = 6\n",
    "\n",
    "Therefore, the sample mean of the dataset is 6."
   ]
  },
  {
   "cell_type": "markdown",
   "id": "1796415e",
   "metadata": {},
   "source": [
    "# Q12. For a normal distribution data what is the relationship between its measure of central tendency?"
   ]
  },
  {
   "cell_type": "markdown",
   "id": "4869a382",
   "metadata": {},
   "source": [
    "For a normal distribution, the measures of central tendency (i.e., mean, median, and mode) are equal to each other. In other words, they all represent the same value and are located at the center of the distribution.\n",
    "\n",
    "This is because a normal distribution is a symmetric bell-shaped curve that is characterized by the mean and standard deviation. The mean is located at the center of the distribution and represents the balance point of the curve, while the standard deviation describes how spread out the data is around the mean.\n",
    "\n",
    "Since the normal distribution is symmetric, the median (the value that divides the data into two equal parts) is also located at the center of the distribution and is equal to the mean. The mode (the most frequently occurring value) is also located at the center of the distribution and is equal to the mean and median.\n",
    "\n",
    "Therefore, in a normal distribution, the mean, median, and mode are all equal to each other and are located at the center of the distribution."
   ]
  },
  {
   "cell_type": "markdown",
   "id": "ba8eb646",
   "metadata": {},
   "source": [
    "# Q13. How is covariance different from correlation?"
   ]
  },
  {
   "cell_type": "markdown",
   "id": "272b98f8",
   "metadata": {},
   "source": [
    "Covariance and correlation are both measures of the relationship between two variables, but they have some key differences:\n",
    "\n",
    "    Definition: Covariance measures the extent to which two variables vary together, while correlation measures the strength and direction of the linear relationship between two variables.\n",
    "\n",
    "    Scale-dependency: Covariance is scale-dependent, which means that it can be affected by the units of measurement of the variables being analyzed. In contrast, correlation is scale-independent and does not depend on the units of measurement.\n",
    "\n",
    "    Range: Covariance can take any value between negative infinity and positive infinity, while correlation can only take values between -1 and 1.\n",
    "\n",
    "    Interpretation: Correlation is easier to interpret than covariance, because it is standardized and can be compared across different datasets and variables. Covariance, on the other hand, is difficult to interpret because it does not provide information about the magnitude or scale of the relationship between two variables.\n",
    "    \n",
    "In summary, covariance and correlation are both useful measures of the relationship between variables, but correlation is generally preferred because it is easier to interpret and compare across different datasets and variables."
   ]
  },
  {
   "cell_type": "markdown",
   "id": "45299092",
   "metadata": {},
   "source": [
    "# Q14. How do outliers affect measures of central tendency and dispersion? Provide an example."
   ]
  },
  {
   "cell_type": "markdown",
   "id": "2a46adb9",
   "metadata": {},
   "source": [
    "Outliers are extreme values that are significantly different from the other values in a dataset. Outliers can have a significant impact on measures of central tendency and dispersion, as they can pull these measures away from the true center or spread of the data.\n",
    "\n",
    "For example, consider the following dataset:\n",
    "\n",
    "1, 2, 3, 4, 5, 6, 7, 8, 9, 10\n",
    "\n",
    "The mean of this dataset is 5.5, which represents the center of the data. The standard deviation is 2.87, which represents the spread of the data. However, if we add an outlier to this dataset, such as 100, the measures of central tendency and dispersion will be significantly affected:\n",
    "\n",
    "1, 2, 3, 4, 5, 6, 7, 8, 9, 10, 100\n",
    "\n",
    "The mean of this dataset is now 14.45, which is significantly higher than the true center of the data. The standard deviation is 29.6, which is also much higher than the true spread of the data. This is because the outlier value of 100 has a much greater influence on the mean and standard deviation than the other values in the dataset.\n",
    "\n",
    "In summary, outliers can greatly affect measures of central tendency and dispersion, and it is important to be aware of their presence and their impact on these measures when analyzing data."
   ]
  },
  {
   "cell_type": "code",
   "execution_count": null,
   "id": "2e0cb7e1",
   "metadata": {},
   "outputs": [],
   "source": []
  }
 ],
 "metadata": {
  "kernelspec": {
   "display_name": "Python 3 (ipykernel)",
   "language": "python",
   "name": "python3"
  },
  "language_info": {
   "codemirror_mode": {
    "name": "ipython",
    "version": 3
   },
   "file_extension": ".py",
   "mimetype": "text/x-python",
   "name": "python",
   "nbconvert_exporter": "python",
   "pygments_lexer": "ipython3",
   "version": "3.10.4"
  }
 },
 "nbformat": 4,
 "nbformat_minor": 5
}
