{
 "cells": [
  {
   "cell_type": "markdown",
   "id": "1ea3e0ca",
   "metadata": {},
   "source": [
    "# Q1: What is Estimation Statistics? Explain point estimate and interval estimate."
   ]
  },
  {
   "cell_type": "markdown",
   "id": "95198d9b",
   "metadata": {},
   "source": [
    "Estimation statistics is a branch of statistics that involves estimating unknown parameters or characteristics of a population based on sample data. It provides a way to make inferences or draw conclusions about the population using the information obtained from a sample.\n",
    "\n",
    "Point estimate refers to a single numerical value that is used to estimate an unknown population parameter. It is calculated based on the sample data and serves as the best estimate for the parameter of interest. For example, if we want to estimate the mean height of adults in a population, we can calculate the sample mean height and use it as the point estimate for the population mean.\n",
    "\n",
    "Interval estimate, on the other hand, provides a range of values within which the population parameter is believed to lie, along with a certain level of confidence. It takes into account the uncertainty associated with the estimation process. The interval is constructed based on the sample data and statistical techniques, such as confidence intervals. For example, a 95% confidence interval for the mean height of adults may be stated as \"We are 95% confident that the population mean height falls between X and Y.\" This interval estimate provides a range of plausible values for the population mean."
   ]
  },
  {
   "cell_type": "markdown",
   "id": "33328b90",
   "metadata": {},
   "source": [
    "# Q2. Write a Python function to estimate the population mean using a sample mean and standard deviation."
   ]
  },
  {
   "cell_type": "code",
   "execution_count": 4,
   "id": "2bb9a24d",
   "metadata": {},
   "outputs": [],
   "source": [
    "import math\n",
    "def estimate_population_mean(sample_mean):\n",
    "    return sample_mean\n"
   ]
  },
  {
   "cell_type": "code",
   "execution_count": 5,
   "id": "4d918ff9",
   "metadata": {},
   "outputs": [
    {
     "name": "stdout",
     "output_type": "stream",
     "text": [
      "Estimated population mean: 10.5\n"
     ]
    }
   ],
   "source": [
    "sample_mean = 10.5\n",
    "\n",
    "population_mean = estimate_population_mean(sample_mean)\n",
    "print(\"Estimated population mean:\", population_mean)\n"
   ]
  },
  {
   "cell_type": "markdown",
   "id": "05e593fe",
   "metadata": {},
   "source": [
    "# Q3: What is Hypothesis testing? Why is it used? State the importance of Hypothesis testing."
   ]
  },
  {
   "cell_type": "markdown",
   "id": "2330cb9e",
   "metadata": {},
   "source": [
    "Hypothesis testing is a statistical method used to make inferences or draw conclusions about a population based on sample data. It involves formulating a hypothesis about a population parameter, collecting sample data, and assessing the evidence against the null hypothesis. The null hypothesis represents the status quo or a statement of no effect or no difference, while the alternative hypothesis represents the research hypothesis or the claim to be tested.\n",
    "\n",
    "Hypothesis testing is used to evaluate the validity of assumptions, test research questions, make predictions, and guide decision-making processes. It provides a structured and objective approach to assess the evidence in favor or against a particular claim or hypothesis. By using statistical techniques and a predefined significance level, hypothesis testing allows researchers and analysts to make informed conclusions about the population based on sample data.\n",
    "\n",
    "The importance of hypothesis testing lies in its ability to support evidence-based decision-making, scientific research, and problem-solving. Some key reasons for its importance are:\n",
    "\n",
    "1.  Decision making: Hypothesis testing helps in making decisions by providing evidence to accept or reject a claim or hypothesis. This is crucial in various fields, such as medicine, business, and engineering, where decisions can have significant implications.\n",
    "\n",
    "2.  Scientific research: Hypothesis testing is fundamental to scientific research as it allows researchers to test theories, validate assumptions, and contribute to the existing body of knowledge. It provides a rigorous framework to evaluate hypotheses and draw valid conclusions.\n",
    "\n",
    "3.  Problem-solving: Hypothesis testing aids in problem-solving by providing a systematic way to assess the evidence for or against a proposed solution or intervention. It helps in understanding whether a proposed solution has a significant impact or if observed differences are merely due to chance.\n",
    "\n",
    "4.  Quality control and improvement: Hypothesis testing is used extensively in quality control processes to monitor and improve product or process performance. It enables organizations to detect and address deviations, identify sources of variation, and make data-driven decisions for quality improvement.\n",
    "\n",
    "hypothesis testing plays a crucial role in statistical analysis, research, and decision-making by providing a rigorous and structured approach to evaluate claims, draw conclusions, and support evidence-based reasoning."
   ]
  },
  {
   "cell_type": "markdown",
   "id": "b35a066c",
   "metadata": {},
   "source": [
    "# Q4. Create a hypothesis that states whether the average weight of male college students is greater than the average weight of female college students."
   ]
  },
  {
   "cell_type": "code",
   "execution_count": 5,
   "id": "1f46031c",
   "metadata": {},
   "outputs": [
    {
     "name": "stdout",
     "output_type": "stream",
     "text": [
      "The average weight of male college students is significantly greater than the average weight of female college students.\n",
      "Male Mean Weight: 82.5\n",
      "Female Mean Weight: 69.6\n"
     ]
    }
   ],
   "source": [
    "import numpy as np\n",
    "from scipy import stats\n",
    "\n",
    "male_weights = [80, 85, 78, 73, 90, 82, 79, 88, 84, 86]\n",
    "female_weights = [65, 70, 68, 73, 66, 71, 67, 69, 72, 75]\n",
    "\n",
    "male_mean = np.mean(male_weights)\n",
    "female_mean = np.mean(female_weights)\n",
    "\n",
    "t_statistics, p_value = stats.ttest_ind(male_weights, female_weights)\n",
    "\n",
    "alpha = 0.05\n",
    "\n",
    "if p_value < alpha:\n",
    "    print(\"The average weight of male college students is significantly greater than the average weight of female college students.\")\n",
    "else:\n",
    "    print(\"There is no significant difference in the average weight between male and female college students.\")\n",
    "\n",
    "print(\"Male Mean Weight:\", male_mean)\n",
    "print(\"Female Mean Weight:\", female_mean)"
   ]
  },
  {
   "cell_type": "markdown",
   "id": "0618a4b0",
   "metadata": {},
   "source": [
    "# Q5. Write a Python script to conduct a hypothesis test on the difference between two population means, given a sample from each population"
   ]
  },
  {
   "cell_type": "code",
   "execution_count": 7,
   "id": "71596b99",
   "metadata": {},
   "outputs": [
    {
     "name": "stdout",
     "output_type": "stream",
     "text": [
      "Sample 1 mean: 3.0\n",
      "Sample 2 mean: 8.0\n",
      "Test statistic (t): -5.0\n",
      "Degrees of freedom: 8\n",
      "Critical value: 2.3060041350333704\n",
      "P-value: 0.0010528257933664076\n",
      "Reject the null hypothesis: There is a significant difference between the population means.\n"
     ]
    }
   ],
   "source": [
    "import numpy as np\n",
    "from scipy import stats\n",
    "\n",
    "# Define the samples from each population\n",
    "sample1 = np.array([1, 2, 3, 4, 5])  # Sample from population 1\n",
    "sample2 = np.array([6, 7, 8, 9, 10])  # Sample from population 2\n",
    "\n",
    "# Set the significance level (alpha)\n",
    "alpha = 0.05\n",
    "\n",
    "# Calculate the sample means and standard deviations\n",
    "mean1 = np.mean(sample1)\n",
    "mean2 = np.mean(sample2)\n",
    "std1 = np.std(sample1, ddof=1)\n",
    "std2 = np.std(sample2, ddof=1)\n",
    "\n",
    "# Calculate the test statistic (assuming equal variances)\n",
    "n1 = len(sample1)\n",
    "n2 = len(sample2)\n",
    "pooled_std = np.sqrt(((n1 - 1) * std1 ** 2 + (n2 - 1) * std2 ** 2) / (n1 + n2 - 2))\n",
    "t = (mean1 - mean2) / (pooled_std * np.sqrt(1 / n1 + 1 / n2))\n",
    "\n",
    "# Calculate the degrees of freedom\n",
    "df = n1 + n2 - 2\n",
    "\n",
    "# Calculate the critical value\n",
    "critical_value = stats.t.ppf(1 - alpha / 2, df)\n",
    "\n",
    "# Calculate the p-value\n",
    "p_value = 2 * (1 - stats.t.cdf(abs(t), df))\n",
    "\n",
    "# Print the results\n",
    "print(\"Sample 1 mean:\", mean1)\n",
    "print(\"Sample 2 mean:\", mean2)\n",
    "print(\"Test statistic (t):\", t)\n",
    "print(\"Degrees of freedom:\", df)\n",
    "print(\"Critical value:\", critical_value)\n",
    "print(\"P-value:\", p_value)\n",
    "\n",
    "# Perform the hypothesis test\n",
    "if p_value < alpha:\n",
    "    print(\"Reject the null hypothesis: There is a significant difference between the population means.\")\n",
    "else:\n",
    "    print(\"Fail to reject the null hypothesis: There is no significant difference between the population means.\")\n",
    "\n"
   ]
  },
  {
   "cell_type": "markdown",
   "id": "57cacc2b",
   "metadata": {},
   "source": [
    "# Q6: What is a null and alternative hypothesis? Give some examples."
   ]
  },
  {
   "cell_type": "markdown",
   "id": "dfe77853",
   "metadata": {},
   "source": [
    "In statistical hypothesis testing, the null hypothesis (H₀) and alternative hypothesis (H₁ or Ha) are statements about a population or populations that are subject to testing based on sample data. The null hypothesis represents the status quo or the absence of an effect, while the alternative hypothesis represents a claim or hypothesis that contradicts the null hypothesis. The goal of hypothesis testing is to determine whether the sample data provides enough evidence to reject the null hypothesis in favor of the alternative hypothesis.\n",
    "\n",
    "Here are some examples of null and alternative hypotheses:\n",
    "\n",
    "1.    Example: Testing a New Drug\n",
    "        Null hypothesis (H₀): The new drug has no effect on reducing blood pressure.\n",
    "        Alternative hypothesis (H₁): The new drug effectively reduces blood pressure.\n",
    "\n",
    "2.    Example: Testing a Website Change\n",
    "        Null hypothesis (H₀): The website change does not significantly impact user engagement.\n",
    "        Alternative hypothesis (H₁): The website change leads to increased user engagement.\n",
    "\n",
    "3.    Example: Testing a Marketing Campaign\n",
    "        Null hypothesis (H₀): The marketing campaign does not increase product sales.\n",
    "        Alternative hypothesis (H₁): The marketing campaign increases product sales.\n",
    "\n",
    "4.    Example: Testing a Quality Control Process\n",
    "        Null hypothesis (H₀): The quality control process is effective in preventing defects.\n",
    "        Alternative hypothesis (H₁): The quality control process fails to prevent defects.\n",
    "\n",
    "5.    Example: Testing an Education Intervention\n",
    "        Null hypothesis (H₀): The educational intervention has no effect on student performance.\n",
    "        Alternative hypothesis (H₁): The educational intervention improves student performance.\n",
    "        \n",
    "These examples illustrate how the null hypothesis assumes no effect, no difference, or no relationship, while the alternative hypothesis suggests the presence of an effect, difference, or relationship. The hypothesis testing process helps determine whether the sample data provides sufficient evidence to reject the null hypothesis and support the alternative hypothesis."
   ]
  },
  {
   "cell_type": "markdown",
   "id": "5a42cba4",
   "metadata": {},
   "source": [
    "# Q7: Write down the steps involved in hypothesis testing."
   ]
  },
  {
   "cell_type": "markdown",
   "id": "7f9c893c",
   "metadata": {},
   "source": [
    "The steps involved in hypothesis testing are as follows:\n",
    "\n",
    "1.Formulate the Hypotheses:\n",
    "        \n",
    "Null Hypothesis (H₀): This represents the status quo, the absence of an effect, or no difference. It is denoted as H₀.Alternative Hypothesis (H₁ or Ha): This represents a claim or hypothesis that contradicts the null hypothesis. It is denoted as H₁ or Ha.\n",
    "\n",
    "2.Set the Significance Level (α):\n",
    "        \n",
    "The significance level (α) is the threshold used to determine the level of evidence required to reject the null hypothesis. It represents the probability of rejecting the null hypothesis when it is true.Commonly used significance levels include 0.05 (5%) and 0.01 (1%).\n",
    "\n",
    "3.Choose the Test Statistic:\n",
    "        \n",
    "The choice of the test statistic depends on the type of data and the hypothesis being tested. It could be a t-statistic, z-statistic, chi-square statistic, or others, depending on the specific hypothesis test.\n",
    "\n",
    "4.Determine the Critical Region:\n",
    "        \n",
    "The critical region is the range of values of the test statistic that would lead to rejecting the null hypothesis.It is determined based on the chosen significance level (α) and the distribution of the test statistic.\n",
    "\n",
    "5.Collect and Analyze the Sample Data:\n",
    "        \n",
    "Gather a representative sample from the population(s) of interest.\n",
    "Compute the test statistic using the sample data and the chosen test statistic formula.\n",
    "\n",
    "6.Calculate the P-value:\n",
    "        \n",
    "The p-value is the probability of observing a test statistic as extreme as, or more extreme than, the one obtained from the sample data, assuming the null hypothesis is true.The p-value is calculated based on the test statistic and the distribution associated with it.\n",
    "\n",
    "7.Make a Decision:\n",
    "        \n",
    "Compare the p-value with the significance level (α) to make a decision:\n",
    "If the p-value is less than α, reject the null hypothesis.If the p-value is greater than or equal to α, fail to reject the null hypothesis.\n",
    "\n",
    "8.Draw Conclusions:\n",
    "        \n",
    "Based on the decision made in the previous step, draw conclusions about the population(s) based on the sample data.\n",
    "If the null hypothesis is rejected, provide evidence in support of the alternative hypothesis.\n",
    "If the null hypothesis is not rejected, the evidence is not sufficient to support the alternative hypothesis.\n",
    "\n",
    "It's important to note that hypothesis testing is a rigorous process that requires careful consideration of assumptions, appropriate test selection, and interpretation of results.\n"
   ]
  },
  {
   "cell_type": "markdown",
   "id": "5ddfe868",
   "metadata": {},
   "source": [
    "# Q8. Define p-value and explain its significance in hypothesis testing."
   ]
  },
  {
   "cell_type": "markdown",
   "id": "1ad19bc0",
   "metadata": {},
   "source": [
    "The p-value is a measure of the strength of evidence against the null hypothesis in hypothesis testing. It quantifies the probability of obtaining the observed sample data, or more extreme data, assuming that the null hypothesis is true. In other words, it tells us how likely it is to observe the data we have if the null hypothesis is correct.\n",
    "\n",
    "The significance of the p-value in hypothesis testing can be understood in the following way:\n",
    "\n",
    "\n",
    "If the p-value is small (typically smaller than the chosen significance level, α), it indicates that the observed data is unlikely to occur if the null hypothesis is true. This suggests that there is strong evidence against the null hypothesis, and we may reject it in favor of the alternative hypothesis.\n",
    "\n",
    "If the p-value is large (typically larger than α), it means that the observed data is likely to occur even if the null hypothesis is true. This suggests that there is not enough evidence to reject the null hypothesis, and we fail to reject it.\n",
    "\n",
    "Key points about the p-value:\n",
    "\n",
    "\n",
    "The p-value does not provide direct information about the truth or falsity of the null hypothesis or the alternative hypothesis. It measures the strength of evidence against the null hypothesis based on the observed data.\n",
    "\n",
    "The p-value is a continuous measure, ranging between 0 and 1. A smaller p-value indicates stronger evidence against the null hypothesis.\n",
    "\n",
    "The choice of the significance level (α) is crucial in interpreting the p-value. By setting α before conducting the test, we determine the threshold for rejecting the null hypothesis. Commonly used values for α are 0.05 (5%) and 0.01 (1%).\n",
    "\n",
    "The p-value is not an indication of the magnitude or practical significance of the observed effect. It only assesses the statistical significance of the evidence against the null hypothesis.\n",
    "\n",
    "It is important to consider other factors such as effect size, context, and prior knowledge in addition to the p-value when drawing conclusions from hypothesis tests.\n",
    "\n",
    "the p-value serves as a statistical measure to assess the strength of evidence against the null hypothesis, aiding in the decision-making process in hypothesis testing."
   ]
  },
  {
   "cell_type": "markdown",
   "id": "b0751e02",
   "metadata": {},
   "source": [
    "# Q9. Generate a Student's t-distribution plot using Python's matplotlib library, with the degrees of freedom parameter set to 10."
   ]
  },
  {
   "cell_type": "code",
   "execution_count": 8,
   "id": "d990195f",
   "metadata": {},
   "outputs": [
    {
     "data": {
      "image/png": "[encoded data removed]",
      "text/plain": [
       "<Figure size 640x480 with 1 Axes>"
      ]
     },
     "metadata": {},
     "output_type": "display_data"
    }
   ],
   "source": [
    "import numpy as np\n",
    "import matplotlib.pyplot as plt\n",
    "from scipy.stats import t\n",
    "\n",
    "# Set the degrees of freedom\n",
    "df = 10\n",
    "\n",
    "# Generate x values for the t-distribution plot\n",
    "x = np.linspace(t.ppf(0.001, df), t.ppf(0.999, df), 100)\n",
    "\n",
    "# Calculate the y values (probability density function) for the t-distribution\n",
    "y = t.pdf(x, df)\n",
    "\n",
    "# Plot the t-distribution\n",
    "plt.plot(x, y, 'r-', label='t-distribution (df=10)')\n",
    "\n",
    "# Set plot title and labels\n",
    "plt.title(\"Student's t-distribution (df=10)\")\n",
    "plt.xlabel('x')\n",
    "plt.ylabel('Probability Density')\n",
    "\n",
    "# Display the legend\n",
    "plt.legend()\n",
    "\n",
    "# Show the plot\n",
    "plt.show()\n"
   ]
  },
  {
   "cell_type": "markdown",
   "id": "2d0f2dd2",
   "metadata": {},
   "source": [
    "This code generates a plot of the Student's t-distribution with degrees of freedom (df) set to 10. It uses the t.ppf() function to calculate the percent point function (inverse of the cumulative distribution function) to obtain the x-values for the plot. The t.pdf() function calculates the probability density function to obtain the corresponding y-values. Finally, the plot is displayed using plt.show()."
   ]
  },
  {
   "cell_type": "markdown",
   "id": "1ff9944e",
   "metadata": {},
   "source": [
    "# Q10. Write a Python program to calculate the two-sample t-test for independent samples, given two random samples of equal size and a null hypothesis that the population means are equal."
   ]
  },
  {
   "cell_type": "code",
   "execution_count": 9,
   "id": "07a7c49c",
   "metadata": {},
   "outputs": [
    {
     "name": "stdout",
     "output_type": "stream",
     "text": [
      "Sample 1 mean: 3.0\n",
      "Sample 2 mean: 8.0\n",
      "T-statistic: -5.0\n",
      "P-value: 0.001052825793366539\n",
      "Reject the null hypothesis: The population means are not equal.\n"
     ]
    }
   ],
   "source": [
    "import numpy as np\n",
    "from scipy import stats\n",
    "\n",
    "# Define the two samples\n",
    "sample1 = np.array([1, 2, 3, 4, 5])  # Sample 1\n",
    "sample2 = np.array([6, 7, 8, 9, 10])  # Sample 2\n",
    "\n",
    "# Set the significance level (alpha)\n",
    "alpha = 0.05\n",
    "\n",
    "# Calculate the sample means and standard deviations\n",
    "mean1 = np.mean(sample1)\n",
    "mean2 = np.mean(sample2)\n",
    "std1 = np.std(sample1, ddof=1)\n",
    "std2 = np.std(sample2, ddof=1)\n",
    "\n",
    "# Calculate the t-statistic and p-value\n",
    "t_stat, p_value = stats.ttest_ind(sample1, sample2)\n",
    "\n",
    "# Print the results\n",
    "print(\"Sample 1 mean:\", mean1)\n",
    "print(\"Sample 2 mean:\", mean2)\n",
    "print(\"T-statistic:\", t_stat)\n",
    "print(\"P-value:\", p_value)\n",
    "\n",
    "# Perform the hypothesis test\n",
    "if p_value < alpha:\n",
    "    print(\"Reject the null hypothesis: The population means are not equal.\")\n",
    "else:\n",
    "    print(\"Fail to reject the null hypothesis: The population means are equal.\")\n"
   ]
  },
  {
   "cell_type": "markdown",
   "id": "c7c3025a",
   "metadata": {},
   "source": [
    "The program calculates the sample means and standard deviations using the NumPy functions np.mean() and np.std(). The stats.ttest_ind() function from SciPy calculates the t-statistic and p-value for the two-sample t-test. The program then prints the results and performs the hypothesis test based on the specified significance level (alpha)."
   ]
  },
  {
   "cell_type": "markdown",
   "id": "74ad302e",
   "metadata": {},
   "source": [
    "# Q11: What is Student’s t distribution? When to use the t-Distribution"
   ]
  },
  {
   "cell_type": "markdown",
   "id": "c67f3eb6",
   "metadata": {},
   "source": [
    "Student's t-distribution, also known as the t-distribution, is a probability distribution that is used in statistical inference to estimate and make inferences about the population mean when the sample size is small or when the population standard deviation is unknown.\n",
    "\n",
    "The t-distribution is similar in shape to the standard normal distribution (Z-distribution) but has heavier tails. It is characterized by its degrees of freedom (df), which determine the shape of the distribution. As the degrees of freedom increase, the t-distribution approaches the standard normal distribution.\n",
    "\n",
    "The t-distribution is used in situations where the sample size is small (typically less than 30) or when the population standard deviation is unknown. It is commonly used in the following scenarios:\n",
    "\n",
    "1.    Estimating a population mean: When the population standard deviation is unknown and the sample size is small, the t-distribution is used to construct confidence intervals for the population mean.\n",
    "\n",
    "2.    Hypothesis testing for means: When comparing two sample means or conducting a hypothesis test on a single sample mean with a small sample size and unknown population standard deviation, the t-distribution is used.\n",
    "\n",
    "3.    Regression analysis: In linear regression, the t-distribution is used to test the significance of regression coefficients and perform hypothesis tests on the coefficients.\n",
    "\n",
    "The t-distribution allows for greater uncertainty due to the smaller sample size, providing more robust estimates and tests compared to the standard normal distribution when the sample size is small or the population standard deviation is unknown.\n",
    "\n",
    "It's important as the sample size increases, the t-distribution converges to the standard normal distribution. Therefore, when the sample size is large (typically greater than 30) and the population standard deviation is unknown, the t-distribution is often approximated by the standard normal distribution."
   ]
  },
  {
   "cell_type": "markdown",
   "id": "a281abe3",
   "metadata": {},
   "source": [
    "# Q12: What is t-statistic? State the formula for t-statistic."
   ]
  },
  {
   "cell_type": "markdown",
   "id": "9be9d2a2",
   "metadata": {},
   "source": [
    "The t-statistic is a measure that quantifies the difference between a sample mean and a hypothesized population mean in terms of the standard error of the sample mean. It is used in hypothesis testing to assess whether the observed difference is statistically significant or likely to have occurred by chance.\n",
    "\n",
    "The formula for the t-statistic depends on the specific scenario and hypothesis being tested. Here are the formulas for commonly used scenarios:\n",
    "\n",
    "One-sample t-test:\n",
    "\n",
    "    Population mean (μ) is unknown, and a single sample is available.\n",
    "    Formula: t = (x̄ - μ) / (s / √n)\n",
    "        x̄ is the sample mean\n",
    "        μ is the hypothesized population mean\n",
    "        s is the sample standard deviation\n",
    "        n is the sample size\n",
    "        \n",
    "Independent two-sample t-test:\n",
    "\n",
    "    Two independent samples are available, and the objective is to compare their means.\n",
    "    Formula: t = (x̄₁ - x̄₂) / √((s₁²/n₁) + (s₂²/n₂))\n",
    "        x̄₁, x̄₂ are the sample means of the two samples\n",
    "        s₁, s₂ are the sample standard deviations of the two samples\n",
    "        n₁, n₂ are the sample sizes of the two samples\n",
    "        \n",
    "Paired two-sample t-test:\n",
    "\n",
    "    Two dependent or paired samples are available, and the objective is to compare their means.\n",
    "    Formula: t = (x̄₁ - x̄₂) / (s₋ᵖ / √n)\n",
    "        x̄₁, x̄₂ are the paired sample means\n",
    "        s₋ᵖ is the standard deviation of the differences between paired observations\n",
    "        n is the number of pairs        \n",
    "        \n",
    "In all cases, the t-statistic measures the standardized difference between the sample mean(s) and the hypothesized population mean, taking into account the variability within the sample(s). A larger absolute t-statistic value indicates a larger difference between the observed data and the hypothesized value.\n",
    "\n",
    "The calculated t-statistic is then compared to critical values from the t-distribution or used to calculate the p-value to determine the statistical significance of the observed difference and make conclusions in hypothesis testing.        "
   ]
  },
  {
   "cell_type": "markdown",
   "id": "1d158d2e",
   "metadata": {},
   "source": [
    "# Q13. A coffee shop owner wants to estimate the average daily revenue for their shop. They take a random sample of 50 days and find the sample mean revenue to be $ 500  with  a  standard  deviation of $ 50. Estimate the population mean revenue with a 95% confidence interval."
   ]
  },
  {
   "cell_type": "markdown",
   "id": "e16a3891",
   "metadata": {},
   "source": [
    "To estimate the population mean revenue with a 95% confidence interval, we can use the t-distribution since the population standard deviation is unknown and the sample size is relatively small"
   ]
  },
  {
   "cell_type": "code",
   "execution_count": 1,
   "id": "f2a2b5e6",
   "metadata": {},
   "outputs": [
    {
     "name": "stdout",
     "output_type": "stream",
     "text": [
      "95% Confidence Interval:\n",
      "Lower bound: 485.79015724388137\n",
      "upper bound: 514.2098427561186\n"
     ]
    }
   ],
   "source": [
    "import numpy as np\n",
    "from scipy import stats\n",
    "\n",
    "# Sample statistics\n",
    "sample_mean = 500 \n",
    "sample_std = 50\n",
    "sample_size = 50\n",
    "\n",
    "# Set the desired confidence level\n",
    "confidence_level = 0.95\n",
    "\n",
    "# Calculate the critical value (t*) based on the confidence level and degrees of freedom\n",
    "degrees_of_freedom = sample_size - 1\n",
    "t_critical = stats.t.ppf((1 + confidence_level) / 2, df=degrees_of_freedom)\n",
    "\n",
    "\n",
    "# Calculate the margin of error\n",
    "margin_of_error = t_critical * (sample_std / np.sqrt(sample_size))\n",
    "\n",
    "# Calculate the lower and upper bounds of the confidence interval\n",
    "lower_bound = sample_mean - margin_of_error\n",
    "upper_bound = sample_mean + margin_of_error\n",
    "\n",
    "# Print the confidence interval\n",
    "print(\"95% Confidence Interval:\")\n",
    "print(\"Lower bound:\", lower_bound)\n",
    "print(\"upper bound:\", upper_bound)"
   ]
  },
  {
   "cell_type": "markdown",
   "id": "755aa071",
   "metadata": {},
   "source": [
    "In this program, we use the stats.t.ppf() function from the scipy module to calculate the critical value (t*) based on the desired confidence level and degrees of freedom. The degrees of freedom is equal to the sample size minus 1. We then calculate the margin of error by multiplying the critical value with the standard error of the sample mean, which is the sample standard deviation divided by the square root of the sample size.\n",
    "\n",
    "Finally, we calculate the lower and upper bounds of the confidence interval by subtracting and adding the margin of error to the sample mean, respectively. The resulting confidence interval represents the range within which we can estimate the population mean revenue with 95% confidence.\n",
    "\n",
    "the confidence interval assumes that the sample is representative of the population and that the data satisfies the assumptions of normality and independence."
   ]
  },
  {
   "cell_type": "markdown",
   "id": "b3d05204",
   "metadata": {},
   "source": [
    "# Q14. A researcher hypothesizes that a new drug will decrease blood pressure by 10 mmHg. They conduct a clinical trial with 100 patients and find that the sample mean decrease in blood pressure is 8 mmHg with a standard deviation of 3 mmHg. Test the hypothesis with a significance level of 0.05."
   ]
  },
  {
   "cell_type": "markdown",
   "id": "7439b76f",
   "metadata": {},
   "source": [
    "To test the hypothesis that the new drug decreases blood pressure by 10 mmHg with a significance level of 0.05, we can perform a one-sample t-test."
   ]
  },
  {
   "cell_type": "code",
   "execution_count": 2,
   "id": "960feb4e",
   "metadata": {},
   "outputs": [
    {
     "name": "stdout",
     "output_type": "stream",
     "text": [
      "Null Hypothesis: The drug does not decrease blood pressure by 10 mmHg\n",
      "Sample Mean: 8\n",
      "Sample Size: 100\n",
      "Degrees of Freedom: 99\n",
      "t-statistic: -6.666666666666667\n",
      "p-value: 1.5012289189542116e-09\n",
      "Reject the null hypothesis: The drug significantly decreases blood pressure.\n"
     ]
    }
   ],
   "source": [
    "import numpy as np\n",
    "from scipy import stats\n",
    "\n",
    "# Null hypothesis: The drug does not decrease blood pressure by 10 mmHg\n",
    "null_hypothesis = 10\n",
    "\n",
    "# Sample statistics\n",
    "sample_mean = 8\n",
    "sample_std = 3\n",
    "sample_size = 100\n",
    "\n",
    "# Set the significance level (alpha)\n",
    "alpha = 0.05\n",
    "\n",
    "# Calculate the degrees of freedom\n",
    "degrees_of_freedom = sample_size -1\n",
    "\n",
    "# Calculate the t-statistic\n",
    "t_stat = (sample_mean - null_hypothesis) / (sample_std / np.sqrt(sample_size))\n",
    "\n",
    "# Calculate the p-value\n",
    "p_value = 2 * (1 - stats.t.cdf(np.abs(t_stat), df=degrees_of_freedom))\n",
    "\n",
    "# Print the results\n",
    "print(\"Null Hypothesis: The drug does not decrease blood pressure by 10 mmHg\")\n",
    "print(\"Sample Mean:\", sample_mean)\n",
    "print(\"Sample Size:\", sample_size)\n",
    "print(\"Degrees of Freedom:\", degrees_of_freedom)\n",
    "print(\"t-statistic:\", t_stat)\n",
    "print(\"p-value:\", p_value)\n",
    "\n",
    "# Perform the hypothesis test\n",
    "if p_value < alpha:\n",
    "    print(\"Reject the null hypothesis: The drug significantly decreases blood pressure.\")\n",
    "else:\n",
    "    print(\"Fail to reject the null hypothesis: The drug does not significantly decrease blood pressure.\")"
   ]
  },
  {
   "cell_type": "markdown",
   "id": "585531de",
   "metadata": {},
   "source": [
    "In this program, we compare the sample mean decrease in blood pressure (8 mmHg) to the hypothesized decrease (10 mmHg) using a one-sample t-test. The t-statistic is calculated by dividing the difference between the sample mean and the null hypothesis by the standard error of the sample mean.\n",
    "\n",
    "The p-value is then calculated based on the t-statistic and the degrees of freedom. We use the stats.t.cdf() function from SciPy to calculate the cumulative distribution function (CDF) of the t-distribution and obtain the p-value.\n",
    "\n",
    "Finally, we compare the p-value to the significance level (alpha) and make a decision. If the p-value is less than alpha, we reject the null hypothesis, indicating that the drug significantly decreases blood pressure. Otherwise, if the p-value is greater than or equal to alpha, we fail to reject the null hypothesis, suggesting that the drug does not significantly decrease blood pressure."
   ]
  },
  {
   "cell_type": "markdown",
   "id": "d66bf8bd",
   "metadata": {},
   "source": [
    "# Q15. An electronics company produces a certain type of product with a mean weight of 5 pounds and a standard deviation of 0.5 pounds. A random sample of 25 products is taken, and the sample mean weight is found to be 4.8 pounds. Test the hypothesis that the true mean weight of the products is less than 5pounds with a significance level of 0.01."
   ]
  },
  {
   "cell_type": "markdown",
   "id": "aa37749a",
   "metadata": {},
   "source": [
    "To test the hypothesis that the true mean weight of the products is less than 5 pounds with a significance level of 0.01, we can perform a one-sample t-test. "
   ]
  },
  {
   "cell_type": "code",
   "execution_count": 3,
   "id": "a9f9d849",
   "metadata": {},
   "outputs": [
    {
     "name": "stdout",
     "output_type": "stream",
     "text": [
      "Null Hypothesis: The true mean weight of the products is 5 pounds\n",
      "Sample Mean: 4.8\n",
      "Sample Size: 25\n",
      "Degrees of Freedom: 24\n",
      "t-statistic: -2.0000000000000018\n",
      "p-value: 0.02846992496829572\n",
      "Fail to reject the null hypothesis: The true mean weight of the products is not less than 5 pounds.\n"
     ]
    }
   ],
   "source": [
    "import numpy as np\n",
    "from scipy import stats\n",
    "\n",
    "# Null hypothesis: The true mean weight of the products is 5 pounds\n",
    "null_hypothesis = 5\n",
    "\n",
    "# Sample statistics\n",
    "sample_mean = 4.8\n",
    "sample_size = 25\n",
    "sample_std = 0.5\n",
    "\n",
    "# Set the significance level (alpha)\n",
    "alpha = 0.01\n",
    "\n",
    "# Calculate the degrees of freedom\n",
    "degrees_of_freedom = sample_size - 1\n",
    "\n",
    "# Calculate the t-statistic\n",
    "t_stat = (sample_mean - null_hypothesis) / (sample_std / np.sqrt(sample_size))\n",
    "\n",
    "# Calculate the p-value\n",
    "p_value = stats.t.cdf(t_stat, df=degrees_of_freedom)\n",
    "\n",
    "# Print the results\n",
    "print(\"Null Hypothesis: The true mean weight of the products is 5 pounds\")\n",
    "print(\"Sample Mean:\", sample_mean)\n",
    "print(\"Sample Size:\", sample_size)\n",
    "print(\"Degrees of Freedom:\", degrees_of_freedom)\n",
    "print(\"t-statistic:\", t_stat)\n",
    "print(\"p-value:\", p_value)\n",
    "\n",
    "# Perform the hypothesis test\n",
    "if p_value < alpha:\n",
    "    print(\"Reject the null hypothesis: The true mean weight of the products is less than 5 pounds.\")\n",
    "else:\n",
    "    print(\"Fail to reject the null hypothesis: The true mean weight of the products is not less than 5 pounds.\")\n"
   ]
  },
  {
   "cell_type": "markdown",
   "id": "3048128d",
   "metadata": {},
   "source": [
    "In this program, we compare the sample mean weight of the products (4.8 pounds) to the null hypothesis mean weight (5 pounds) using a one-sample t-test. The t-statistic is calculated by dividing the difference between the sample mean and the null hypothesis by the standard error of the sample mean.\n",
    "\n",
    "The p-value is then calculated based on the t-statistic and the degrees of freedom. We use the stats.t.cdf() function from SciPy to calculate the cumulative distribution function (CDF) of the t-distribution and obtain the p-value.\n",
    "\n",
    "Finally, we compare the p-value to the significance level (alpha) and make a decision. If the p-value is less than alpha, we reject the null hypothesis, indicating that the true mean weight of the products is less than 5 pounds. Otherwise, if the p-value is greater than or equal to alpha, we fail to reject the null hypothesis, suggesting that the true mean weight of the products is not less than 5 pounds."
   ]
  },
  {
   "cell_type": "markdown",
   "id": "39e9ac9d",
   "metadata": {},
   "source": [
    "# Q16. Two groups of students are given different study materials to prepare for a test. The first group (n1 =30) has a mean score of 80 with a standard deviation of 10, and the second group (n2 = 40) has a mean score of 75 with a standard deviation of 8. Test the hypothesis that the population means for the two groups are equal with a significance level of 0.01."
   ]
  },
  {
   "cell_type": "markdown",
   "id": "ba4aa39e",
   "metadata": {},
   "source": [
    "To test the hypothesis that the population means for the two groups are equal with a significance level of 0.01, we can perform a two-sample t-test for independent samples."
   ]
  },
  {
   "cell_type": "code",
   "execution_count": 4,
   "id": "01876fb4",
   "metadata": {},
   "outputs": [
    {
     "name": "stdout",
     "output_type": "stream",
     "text": [
      "Null Hypothesis: The population means for the two groups are equal\n",
      "Group 1 Mean: 80\n",
      "Group 1 Sample Size: 30\n",
      "Group 1 Standard Deviation: 10\n",
      "Group 2 Mean: 75\n",
      "Group 2 Sample Size: 40\n",
      "Group 2 Standard Deviation: 8\n",
      "Degrees of Freedom: 68\n",
      "t-statistic: 2.3239677296992913\n",
      "p-value: 0.023123013413725912\n",
      "Fail to reject the null hypothesis: The population means for the two groups are equal.\n"
     ]
    }
   ],
   "source": [
    "import numpy as np\n",
    "from scipy import stats\n",
    "\n",
    "# Sample statistics for Group 1\n",
    "mean1 = 80\n",
    "std1 = 10\n",
    "n1 = 30\n",
    "\n",
    "# Sample statistics for Group 2\n",
    "mean2 = 75\n",
    "std2 = 8\n",
    "n2 = 40\n",
    "\n",
    "# Set the significance level (alpha)\n",
    "alpha = 0.01\n",
    "\n",
    "# Calculate the degrees of freedom\n",
    "degrees_of_freedom = n1 + n2 - 2\n",
    "\n",
    "# Calculate the pooled standard deviation\n",
    "pooled_std = np.sqrt(((n1 - 1) * std1**2 + (n2 - 1) * std2**2) / degrees_of_freedom)\n",
    "\n",
    "# Calculate the t-statistic\n",
    "t_stat = (mean1 - mean2) / (pooled_std * np.sqrt((1/n1) + (1/n2)))\n",
    "\n",
    "# Calculate the p-value\n",
    "p_value = 2 * (1 - stats.t.cdf(np.abs(t_stat), df=degrees_of_freedom))\n",
    "\n",
    "# Print the results\n",
    "print(\"Null Hypothesis: The population means for the two groups are equal\")\n",
    "print(\"Group 1 Mean:\", mean1)\n",
    "print(\"Group 1 Sample Size:\", n1)\n",
    "print(\"Group 1 Standard Deviation:\", std1)\n",
    "print(\"Group 2 Mean:\", mean2)\n",
    "print(\"Group 2 Sample Size:\", n2)\n",
    "print(\"Group 2 Standard Deviation:\", std2)\n",
    "print(\"Degrees of Freedom:\", degrees_of_freedom)\n",
    "print(\"t-statistic:\", t_stat)\n",
    "print(\"p-value:\", p_value)\n",
    "\n",
    "# Perform the hypothesis test\n",
    "if p_value < alpha:\n",
    "    print(\"Reject the null hypothesis: The population means for the two groups are not equal.\")\n",
    "else:\n",
    "    print(\"Fail to reject the null hypothesis: The population means for the two groups are equal.\")\n"
   ]
  },
  {
   "cell_type": "markdown",
   "id": "7fc7bccf",
   "metadata": {},
   "source": [
    "In this program, we calculate the t-statistic for independent samples by comparing the means of the two groups (Group 1 and Group 2) and taking into account the sample sizes and standard deviations. The pooled standard deviation is calculated to account for the variability within each group.\n",
    "\n",
    "The p-value is then calculated based on the t-statistic and the degrees of freedom. We use the stats.t.cdf() function from SciPy to calculate the cumulative distribution function (CDF) of the t-distribution and obtain the p-value.\n",
    "\n",
    "Finally, we compare the p-value to the significance level (alpha) and make a decision. If the p-value is less than alpha, we reject the null hypothesis, indicating that the population means for the two groups are not equal. Otherwise, if the p-value is greater than or equal to alpha, we fail to reject the null hypothesis, suggesting that the population means for the two groups are equal."
   ]
  },
  {
   "cell_type": "markdown",
   "id": "e2df0ca8",
   "metadata": {},
   "source": [
    "# Q17. A marketing company wants to estimate the average number of ads        watched by viewers during a TVprogram. They take a random sample of 50 viewers and find that the sample mean is 4 with a standard\n",
    "deviation of 1.5. Estimate the population mean with a 99% confidence interval."
   ]
  },
  {
   "cell_type": "markdown",
   "id": "2220ebd5",
   "metadata": {},
   "source": [
    "To estimate the population mean number of ads watched by viewers during a TV program with a 99% confidence interval, we can use the t-distribution since the population standard deviation is unknown and the sample size is relatively small (n = 50). "
   ]
  },
  {
   "cell_type": "code",
   "execution_count": 5,
   "id": "507b81f1",
   "metadata": {},
   "outputs": [
    {
     "name": "stdout",
     "output_type": "stream",
     "text": [
      "99% Confidence Interval:\n",
      "Lower bound: 3.4314963358572577\n",
      "Upper bound: 4.568503664142742\n"
     ]
    }
   ],
   "source": [
    "import numpy as np\n",
    "from scipy import stats\n",
    "\n",
    "# Sample statistics\n",
    "sample_mean = 4\n",
    "sample_std = 1.5\n",
    "sample_size = 50\n",
    "\n",
    "# Set the desired confidence level\n",
    "confidence_level = 0.99\n",
    "\n",
    "# Calculate the critical value (t*) based on the confidence level and degrees of freedom\n",
    "degrees_of_freedom = sample_size - 1\n",
    "t_critical = stats.t.ppf((1 + confidence_level) / 2, df=degrees_of_freedom)\n",
    "\n",
    "# Calculate the margin of error\n",
    "margin_of_error = t_critical * (sample_std / np.sqrt(sample_size))\n",
    "\n",
    "# Calculate the lower and upper bounds of the confidence interval\n",
    "lower_bound = sample_mean - margin_of_error\n",
    "upper_bound = sample_mean + margin_of_error\n",
    "\n",
    "# Print the confidence interval\n",
    "print(\"99% Confidence Interval:\")\n",
    "print(\"Lower bound:\", lower_bound)\n",
    "print(\"Upper bound:\", upper_bound)\n"
   ]
  },
  {
   "cell_type": "markdown",
   "id": "c5ff1626",
   "metadata": {},
   "source": [
    "In this program, we use the stats.t.ppf() function from the scipy module to calculate the critical value (t*) based on the desired confidence level and degrees of freedom. The degrees of freedom is equal to the sample size minus 1. We then calculate the margin of error by multiplying the critical value with the standard error of the sample mean, which is the sample standard deviation divided by the square root of the sample size.\n",
    "\n",
    "Finally, we calculate the lower and upper bounds of the confidence interval by subtracting and adding the margin of error to the sample mean, respectively. The resulting confidence interval represents the range within which we can estimate the population mean number of ads watched by viewers during a TV program with 99% confidence.\n",
    "\n",
    "Please note that the confidence interval assumes that the sample is representative of the population and that the data satisfies the assumptions of normality and independence.\n"
   ]
  }
 ],
 "metadata": {
  "kernelspec": {
   "display_name": "Python 3 (ipykernel)",
   "language": "python",
   "name": "python3"
  },
  "language_info": {
   "codemirror_mode": {
    "name": "ipython",
    "version": 3
   },
   "file_extension": ".py",
   "mimetype": "text/x-python",
   "name": "python",
   "nbconvert_exporter": "python",
   "pygments_lexer": "ipython3",
   "version": "3.10.4"
  }
 },
 "nbformat": 4,
 "nbformat_minor": 5
}
