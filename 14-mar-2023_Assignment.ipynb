{
 "cells": [
  {
   "cell_type": "markdown",
   "id": "5f891f77",
   "metadata": {},
   "source": [
    "# Q1. Write a Python function that takes in two arrays of data and calculates the F-value for a variance ratio test. The function should return the F-value and the corresponding p-value for the test."
   ]
  },
  {
   "cell_type": "code",
   "execution_count": 1,
   "id": "162cce97",
   "metadata": {},
   "outputs": [],
   "source": [
    "import numpy as np\n",
    "from scipy import stats\n",
    "\n",
    "def calculate_f_value(data1, data2):\n",
    "    # Calculate the variances\n",
    "    var1 = np.var(data1, ddof=1)  # ddof=1 for sample variance\n",
    "    var2 = np.var(data2, ddof=1)\n",
    "\n",
    "    # Calculate the F-value and p-value\n",
    "    f_value = var1 / var2\n",
    "    df1 = len(data1) - 1\n",
    "    df2 = len(data2) - 1\n",
    "    p_value = stats.f.sf(f_value, df1, df2)\n",
    "\n",
    "    return f_value, p_value\n"
   ]
  },
  {
   "cell_type": "code",
   "execution_count": 2,
   "id": "dd527055",
   "metadata": {},
   "outputs": [
    {
     "name": "stdout",
     "output_type": "stream",
     "text": [
      "F-value: 1.0\n",
      "p-value: 0.5\n"
     ]
    }
   ],
   "source": [
    "data1 = [1, 2, 3, 4, 5]\n",
    "data2 = [6, 7, 8, 9, 10]\n",
    "\n",
    "f_value, p_value = calculate_f_value(data1, data2)\n",
    "\n",
    "print(\"F-value:\", f_value)\n",
    "print(\"p-value:\", p_value)\n"
   ]
  },
  {
   "cell_type": "markdown",
   "id": "25237323",
   "metadata": {},
   "source": [
    "we first calculate the variances of the two input arrays using np.var(). The ddof=1 argument is set to calculate the sample variances instead of the population variances.\n",
    "\n",
    "Next, we calculate the F-value by dividing the first variance by the second variance. Then, we calculate the degrees of freedom (df1 and df2) using the lengths of the data arrays minus 1.\n",
    "\n",
    "Finally, we use stats.f.sf() from the scipy.stats module to calculate the p-value. The sf function returns the survival function, which is 1 minus the cumulative distribution function (CDF) for the F-distribution. It takes the F-value, along with the degrees of freedom (df1 and df2), as arguments.\n",
    "\n",
    "The function returns the calculated F-value and the corresponding p-value."
   ]
  },
  {
   "cell_type": "markdown",
   "id": "c8e68221",
   "metadata": {},
   "source": [
    "# Q2. Given a significance level of 0.05 and the degrees of freedom for the numerator and denominator of an F-distribution, write a Python function that returns the critical F-value for a two-tailed test."
   ]
  },
  {
   "cell_type": "markdown",
   "id": "7ddec0a5",
   "metadata": {},
   "source": [
    "To calculate the critical F-value for a two-tailed test in Python, you can use the scipy.stats module. Specifically, the f.ppf() function from the scipy.stats module can be used to calculate the critical F-value based on the significance level and degrees of freedom."
   ]
  },
  {
   "cell_type": "code",
   "execution_count": 7,
   "id": "cc8fbbc6",
   "metadata": {},
   "outputs": [],
   "source": [
    "from scipy.stats import f\n",
    "\n",
    "def get_critical_f_value(alpha, dfn, dfd):\n",
    "    # Calculate the critical F-value\n",
    "    critical_f = f.ppf(1 - alpha / 2, dfn, dfd)\n",
    "    \n",
    "    return critical_f\n"
   ]
  },
  {
   "cell_type": "markdown",
   "id": "a374fdd5",
   "metadata": {},
   "source": [
    "f.ppf() calculates the inverse of the cumulative distribution function (CDF) of the F-distribution. By passing 1 - alpha/2 as the first argument, we obtain the critical F-value for a two-tailed test.\n",
    "\n",
    "this function by calling it with the desired significance level, degrees of freedom for the numerator, and degrees of freedom for the denominator."
   ]
  },
  {
   "cell_type": "code",
   "execution_count": 8,
   "id": "5946573b",
   "metadata": {},
   "outputs": [
    {
     "name": "stdout",
     "output_type": "stream",
     "text": [
      "Critical F-value: 4.236085668188633\n"
     ]
    }
   ],
   "source": [
    "alpha = 0.05\n",
    "dfn = 5\n",
    "dfd = 10\n",
    "\n",
    "critical_f_value = get_critical_f_value(alpha, dfn, dfd)\n",
    "print(\"Critical F-value:\", critical_f_value)\n"
   ]
  },
  {
   "cell_type": "markdown",
   "id": "e8f02824",
   "metadata": {},
   "source": [
    "calculate and print the critical F-value for a two-tailed test with a significance level of 0.05, and degrees of freedom for the numerator (dfn) equal to 5 and degrees of freedom for the denominator (dfd) equal to 10."
   ]
  },
  {
   "cell_type": "markdown",
   "id": "daeefb81",
   "metadata": {},
   "source": [
    "# Q3. Write a Python program that generates random samples from two normal distributions with known variances and uses an F-test to determine if the variances are equal. The program should output the Fvalue, degrees of freedom, and p-value for the test."
   ]
  },
  {
   "cell_type": "markdown",
   "id": "2c251736",
   "metadata": {},
   "source": [
    "To generate random samples from two normal distributions with known variances and perform an F-test in Python, you can utilize the numpy and scipy.stats modules. "
   ]
  },
  {
   "cell_type": "code",
   "execution_count": 6,
   "id": "81019f36",
   "metadata": {},
   "outputs": [
    {
     "name": "stdout",
     "output_type": "stream",
     "text": [
      "F-value: 0.4030463392763856\n",
      "Degrees of Freedom (numerator): 99\n",
      "Degrees of Freedom (denominator): 99\n",
      "p-value: 9.191624675736852e-06\n"
     ]
    }
   ],
   "source": [
    "import numpy as np\n",
    "from scipy.stats import f\n",
    "\n",
    "def perform_f_test(sample1, sample2):\n",
    "    # Calculate the variances of the samples\n",
    "    var1 = np.var(sample1, ddof=1)  # Variance of sample 1\n",
    "    var2 = np.var(sample2, ddof=1)  # Variance of sample 2\n",
    "    \n",
    "    # Calculate the F-value\n",
    "    f_value = var1 / var2\n",
    "    \n",
    "    # Calculate the degrees of freedom\n",
    "    dfn = len(sample1) - 1  # Degrees of freedom numerator\n",
    "    dfd = len(sample2) - 1  # Degrees of freedom denominator\n",
    "    \n",
    "    # Calculate the p-value\n",
    "    p_value = 2 * min(f.cdf(f_value, dfn, dfd), 1 - f.cdf(f_value, dfn, dfd))\n",
    "    \n",
    "    return f_value, dfn, dfd, p_value\n",
    "\n",
    "\n",
    "# Generate random samples from two normal distributions\n",
    "np.random.seed(42)  # Set the random seed for reproducibility\n",
    "sample1 = np.random.normal(loc=0, scale=1, size=100)\n",
    "sample2 = np.random.normal(loc=0, scale=1.5, size=100)\n",
    "\n",
    "# Perform the F-test\n",
    "f_value, dfn, dfd, p_value = perform_f_test(sample1, sample2)\n",
    "\n",
    "# Print the results\n",
    "print(\"F-value:\", f_value)\n",
    "print(\"Degrees of Freedom (numerator):\", dfn)\n",
    "print(\"Degrees of Freedom (denominator):\", dfd)\n",
    "print(\"p-value:\", p_value)\n"
   ]
  },
  {
   "cell_type": "markdown",
   "id": "1ee2d54d",
   "metadata": {},
   "source": [
    "we first import the necessary modules numpy and scipy.stats. The perform_f_test() function takes two samples as input (sample1 and sample2). It calculates the variances of the samples using np.var() and then computes the F-value as the ratio of the variances. The degrees of freedom for the numerator (dfn) and denominator (dfd) are determined by subtracting 1 from the sample sizes. Finally, the p-value is calculated using the cumulative distribution function (f.cdf()) of the F-distribution.\n",
    "\n",
    "To generate random samples, we use np.random.normal() with different means (loc) and variances (scale) for each sample. In this example, we generate 100 samples from two normal distributions with mean 0 and standard deviation 1 for sample1, and mean 0 and standard deviation 1.5 for sample2.\n",
    "\n",
    "The program then performs the F-test by calling the perform_f_test() function with the generated samples. The results, including the F-value, degrees of freedom, and p-value, are printed to the console."
   ]
  },
  {
   "cell_type": "markdown",
   "id": "2fa73e35",
   "metadata": {},
   "source": [
    "# Q4.The variances of two populations are known to be 10 and 15. A sample of 12 observations is taken from each population. Conduct an F-test at the 5% significance level to determine if the variances are significantly different."
   ]
  },
  {
   "cell_type": "markdown",
   "id": "5bd2ab5b",
   "metadata": {},
   "source": [
    "To conduct an F-test to determine if the variances of two populations are significantly different, we can follow these steps:\n",
    "\n",
    "Step 1: State the null hypothesis (H0) and the alternative hypothesis (Ha).\n",
    "In this case:\n",
    "H0: The variances of the two populations are equal.\n",
    "Ha: The variances of the two populations are significantly different.\n",
    "\n",
    "Step 2: Determine the significance level.\n",
    "The significance level is given as 5% or 0.05.\n",
    "\n",
    "Step 3: Compute the F-statistic.\n",
    "The F-statistic is calculated as the ratio of the sample variances:\n",
    "F = s1^2 / s2^2\n",
    "\n",
    "where s1^2 is the sample variance of the first population and s2^2 is the sample variance of the second population.\n",
    "\n",
    "Step 4: Determine the critical value.\n",
    "The critical value is obtained from the F-distribution with degrees of freedom (df1, df2) where:\n",
    "\n",
    "    df1 = n1 - 1 (degrees of freedom for the first population)\n",
    "    df2 = n2 - 1 (degrees of freedom for the second population)\n",
    "    In this case, n1 = n2 = 12 (sample size from each population), so df1 = df2 = 11.\n",
    "\n",
    "Using a significance level of 0.05, we can find the critical value from the F-distribution table or calculator.\n",
    "\n",
    "Step 5: Compare the F-statistic with the critical value.\n",
    "If the calculated F-statistic is greater than the critical value, we reject the null hypothesis. Otherwise, we fail to reject the null hypothesis.\n",
    "\n",
    "Now let's calculate the F-statistic and perform the test:\n",
    "\n",
    "Given:\n",
    "Variance of population 1 (σ1^2) = 10\n",
    "Variance of population 2 (σ2^2) = 15\n",
    "Sample size (n1 = n2) = 12\n",
    "Significance level (α) = 0.05\n",
    "\n",
    "Step 3: Compute the F-statistic\n",
    "F = s1^2 / s2^2\n",
    "= 10 / 15\n",
    "= 0.6667\n",
    "\n",
    "Step 4: Determine the critical value\n",
    "Since df1 = df2 = 11 and α = 0.05, the critical value is approximately 2.63 (from the F-distribution table).\n",
    "\n",
    "Step 5: Compare the F-statistic with the critical value\n",
    "0.6667 < 2.63\n",
    "\n",
    "Since the calculated F-statistic (0.6667) is less than the critical value (2.63), we fail to reject the null hypothesis."
   ]
  },
  {
   "cell_type": "markdown",
   "id": "3a14f9b9",
   "metadata": {},
   "source": [
    "# Q5. A manufacturer claims that the variance of the diameter of a certain product is 0.005. A sample of 25 products is taken, and the sample variance is found to be 0.006. Conduct an F-test at the 1% significance level to determine if the claim is justified."
   ]
  },
  {
   "cell_type": "markdown",
   "id": "842781d2",
   "metadata": {},
   "source": [
    "To conduct an F-test to determine if the manufacturer's claim about the variance is justified, we can follow these steps:\n",
    "\n",
    "Step 1: State the null hypothesis (H0) and the alternative hypothesis (Ha).\n",
    "In this case:\n",
    "H0: The variance of the diameter is equal to 0.005.\n",
    "Ha: The variance of the diameter is not equal to 0.005.\n",
    "\n",
    "Step 2: Determine the significance level.\n",
    "The significance level is given as 1% or 0.01.\n",
    "\n",
    "Step 3: Compute the F-statistic.\n",
    "The F-statistic is calculated as the ratio of the sample variances:\n",
    "F = s^2 / σ^2\n",
    "\n",
    "where s^2 is the sample variance and σ^2 is the claimed variance.\n",
    "\n",
    "Step 4: Determine the critical value.\n",
    "The critical value is obtained from the F-distribution with degrees of freedom (df1, df2) where:\n",
    "\n",
    "    df1 = n - 1 (degrees of freedom for the sample)\n",
    "    df2 = N - 1 (degrees of freedom for the population)\n",
    "    In this case, n = 25 (sample size) and N is not given.\n",
    "\n",
    "Since N is not given, we assume a large population or approximate it with a t-distribution with infinite degrees of freedom, which is nearly equivalent to the standard normal distribution.\n",
    "\n",
    "Using a significance level of 0.01, we can find the critical value from the F-distribution or standard normal distribution table or calculator.\n",
    "\n",
    "Step 5: Compare the F-statistic with the critical value.\n",
    "If the calculated F-statistic is greater than the critical value or falls outside the confidence interval, we reject the null hypothesis. Otherwise, we fail to reject the null hypothesis.\n",
    "\n",
    "Now let's calculate the F-statistic and perform the test:\n",
    "\n",
    "Given:\n",
    "Claimed variance (σ^2) = 0.005\n",
    "Sample variance (s^2) = 0.006\n",
    "Sample size (n) = 25\n",
    "Significance level (α) = 0.01\n",
    "\n",
    "Step 3: Compute the F-statistic\n",
    "F = s^2 / σ^2\n",
    "= 0.006 / 0.005\n",
    "= 1.2\n",
    "\n",
    "Step 4: Determine the critical value\n",
    "Since the degrees of freedom for the sample (df1) is 25 - 1 = 24, and the degrees of freedom for the population (df2) is assumed to be large or infinite, we can use the critical value from the standard normal distribution at the 0.995 percentile (since we have a two-tailed test due to \"not equal\" alternative hypothesis). The critical value is approximately 2.58.\n",
    "\n",
    "Step 5: Compare the F-statistic with the critical value\n",
    "1.2 < 2.58\n",
    "\n",
    "Since the calculated F-statistic (1.2) is less than the critical value (2.58), we fail to reject the null hypothesis."
   ]
  },
  {
   "cell_type": "markdown",
   "id": "87ea9c6d",
   "metadata": {},
   "source": [
    "# Q6. Write a Python function that takes in the degrees of freedom for the numerator and denominator of an F-distribution and calculates the mean and variance of the distribution. The function should return the mean and variance as a tuple."
   ]
  },
  {
   "cell_type": "code",
   "execution_count": 9,
   "id": "ff8ced8a",
   "metadata": {},
   "outputs": [],
   "source": [
    "def f_distribution_mean_variance(df1, df2):\n",
    "    # Calculate the mean\n",
    "    mean = df2 / (df2 - 2)\n",
    "\n",
    "    # Calculate the variance\n",
    "    var_numerator = 2 * (df2 ** 2) * (df1 + df2 - 2)\n",
    "    var_denominator = df1 * ((df2 - 2) ** 2) * (df2 - 4)\n",
    "    variance = var_numerator / var_denominator\n",
    "\n",
    "    return mean, variance\n"
   ]
  },
  {
   "cell_type": "markdown",
   "id": "81252363",
   "metadata": {},
   "source": [
    "this function by passing the degrees of freedom for the numerator and denominator as arguments. It will return a tuple containing the mean and variance of the F-distribution."
   ]
  },
  {
   "cell_type": "code",
   "execution_count": 10,
   "id": "1e3ee3d9",
   "metadata": {},
   "outputs": [
    {
     "name": "stdout",
     "output_type": "stream",
     "text": [
      "Mean: 1.25\n",
      "Variance: 1.3541666666666667\n"
     ]
    }
   ],
   "source": [
    "df1 = 5\n",
    "df2 = 10\n",
    "mean, variance = f_distribution_mean_variance(df1, df2)\n",
    "print(\"Mean:\", mean)\n",
    "print(\"Variance:\", variance)\n"
   ]
  },
  {
   "cell_type": "markdown",
   "id": "49c2a65e",
   "metadata": {},
   "source": [
    "# Q7. A random sample of 10 measurements is taken from a normal population with unknown variance. The sample variance is found to be 25. Another random sample of 15 measurements is taken from another normal population with unknown variance, and the sample variance is found to be 20. Conduct an F-test at the 10% significance level to determine if the variances are significantly different."
   ]
  },
  {
   "cell_type": "markdown",
   "id": "1299d78c",
   "metadata": {},
   "source": [
    "To conduct an F-test to determine if the variances of two populations are significantly different, we can follow these steps:\n",
    "\n",
    "Step 1: State the null hypothesis (H0) and the alternative hypothesis (Ha).\n",
    "In this case:\n",
    "H0: The variances of the two populations are equal.\n",
    "Ha: The variances of the two populations are significantly different.\n",
    "\n",
    "Step 2: Determine the significance level.\n",
    "The significance level is given as 10% or 0.1.\n",
    "\n",
    "Step 3: Compute the F-statistic.\n",
    "The F-statistic is calculated as the ratio of the sample variances:\n",
    "F = s1^2 / s2^2\n",
    "\n",
    "where s1^2 is the sample variance of the first population and s2^2 is the sample variance of the second population.\n",
    "\n",
    "Step 4: Determine the critical value.\n",
    "The critical value is obtained from the F-distribution with degrees of freedom (df1, df2) where:\n",
    "\n",
    "    df1 = n1 - 1 (degrees of freedom for the first sample)\n",
    "    df2 = n2 - 1 (degrees of freedom for the second sample)\n",
    "    In this case, n1 = 10 (sample size of the first sample) and n2 = 15 (sample size of the second sample).\n",
    "\n",
    "Using a significance level of 0.1, we can find the critical value from the F-distribution table or calculator.\n",
    "\n",
    "Step 5: Compare the F-statistic with the critical value.\n",
    "If the calculated F-statistic is greater than the critical value, we reject the null hypothesis. Otherwise, we fail to reject the null hypothesis.\n",
    "\n",
    "Now let's calculate the F-statistic and perform the test:\n",
    "\n",
    "Given:\n",
    "Sample variance of the first sample (s1^2) = 25\n",
    "Sample variance of the second sample (s2^2) = 20\n",
    "Sample size of the first sample (n1) = 10\n",
    "Sample size of the second sample (n2) = 15\n",
    "Significance level (α) = 0.1\n",
    "\n",
    "Step 3: Compute the F-statistic\n",
    "F = s1^2 / s2^2\n",
    "= 25 / 20\n",
    "= 1.25\n",
    "\n",
    "Step 4: Determine the critical value\n",
    "Since df1 = n1 - 1 = 10 - 1 = 9, and df2 = n2 - 1 = 15 - 1 = 14, and α = 0.1, the critical value is approximately 1.945 (from the F-distribution table).\n",
    "\n",
    "Step 5: Compare the F-statistic with the critical value\n",
    "1.25 < 1.945\n",
    "\n",
    "Since the calculated F-statistic (1.25) is less than the critical value (1.945), we fail to reject the null hypothesis."
   ]
  },
  {
   "cell_type": "markdown",
   "id": "83a9c2a0",
   "metadata": {},
   "source": [
    "# Q8. The following data represent the waiting times in minutes at two different restaurants on a Saturday night: Restaurant A: 24, 25, 28, 23, 22, 20, 27; Restaurant B: 31, 33, 35, 30, 32, 36. Conduct an F-test at the 5% significance level to determine if the variances are significantly different."
   ]
  },
  {
   "cell_type": "markdown",
   "id": "ef3e6bca",
   "metadata": {},
   "source": [
    "To conduct an F-test to determine if the variances of two populations are significantly different, we can follow these steps:\n",
    "\n",
    "Step 1: State the null hypothesis (H0) and the alternative hypothesis (Ha).\n",
    "In this case:\n",
    "H0: The variances of the waiting times at the two restaurants are equal.\n",
    "Ha: The variances of the waiting times at the two restaurants are significantly different.\n",
    "\n",
    "Step 2: Determine the significance level.\n",
    "The significance level is given as 5% or 0.05.\n",
    "\n",
    "Step 3: Calculate the sample variances.\n",
    "Compute the sample variances for each restaurant using the given data.\n",
    "\n",
    "For Restaurant A:\n",
    "n1 = 7 (number of observations)\n",
    "x1 = [24, 25, 28, 23, 22, 20, 27] (waiting times)\n",
    "Calculate the sample variance s1^2 using the formula:\n",
    "s1^2 = Σ(x1 - x̄1)^2 / (n1 - 1)\n",
    "\n",
    "For Restaurant B:\n",
    "n2 = 6 (number of observations)\n",
    "x2 = [31, 33, 35, 30, 32, 36] (waiting times)\n",
    "Calculate the sample variance s2^2 using the formula:\n",
    "s2^2 = Σ(x2 - x̄2)^2 / (n2 - 1)\n",
    "\n",
    "Step 4: Compute the F-statistic.\n",
    "The F-statistic is calculated as the ratio of the sample variances:\n",
    "F = s1^2 / s2^2\n",
    "\n",
    "Step 5: Determine the critical value.\n",
    "The critical value is obtained from the F-distribution with degrees of freedom (df1, df2) where:\n",
    "\n",
    "    df1 = n1 - 1 (degrees of freedom for Restaurant A)\n",
    "    df2 = n2 - 1 (degrees of freedom for Restaurant B)\n",
    "    In this case, n1 = 7 and n2 = 6.\n",
    "\n",
    "Using a significance level of 0.05, we can find the critical value from the F-distribution table or calculator.\n",
    "\n",
    "Step 6: Compare the F-statistic with the critical value.\n",
    "If the calculated F-statistic is greater than the critical value, we reject the null hypothesis. Otherwise, we fail to reject the null hypothesis.\n",
    "\n",
    "Now let's calculate the F-statistic and perform the test:\n",
    "\n",
    "Given:\n",
    "Waiting times at Restaurant A: [24, 25, 28, 23, 22, 20, 27]\n",
    "Waiting times at Restaurant B: [31, 33, 35, 30, 32, 36]\n",
    "Significance level (α) = 0.05\n",
    "\n",
    "Step 3: Calculate the sample variances\n",
    "For Restaurant A:\n",
    "x̄1 = sum(x1) / n1 = (24 + 25 + 28 + 23 + 22 + 20 + 27) / 7 = 23.57\n",
    "s1^2 = Σ(x1 - x̄1)^2 / (n1 - 1) = (24 - 23.57)^2 + (25 - 23.57)^2 + ... + (27 - 23.57)^2 / (7 - 1) = 6.38\n",
    "\n",
    "For Restaurant B:\n",
    "x̄2 = sum(x2) / n2 = (31 + 33 + 35 + 30 + 32 + 36) / 6 = 32.83\n",
    "s2^2 = Σ(x2 - x̄2)^2 / (n2 - 1) = (31 - 32.83)^2 + (33 - 32.83)^2 + ... + (36 - 32.83)^2 / (6 - 1) = 6.97\n",
    "\n",
    "Step 4: Compute the F-statistic\n",
    "F = s1^2 / s2^2 = 6.38 / 6.97 ≈ 0.916\n",
    "\n",
    "Step 5: Determine the critical value\n",
    "df1 = n1 - 1 = 7 - 1 = 6\n",
    "df2 = n2 - 1 = 6 - 1 = 5\n",
    "Using a significance level of 0.05, the critical value from the F-distribution table is approximately 5.05.\n",
    "\n",
    "Step 6: Compare the F-statistic with the critical value\n",
    "0.916 < 5.05\n",
    "\n",
    "Since the calculated F-statistic (0.916) is less than the critical value (5.05), we fail to reject the null hypothesis."
   ]
  },
  {
   "cell_type": "markdown",
   "id": "35c2883e",
   "metadata": {},
   "source": [
    "# Q9. The following data represent the test scores of two groups of students: Group A: 80, 85, 90, 92, 87, 83; Group B: 75, 78, 82, 79, 81, 84. Conduct an F-test at the 1% significance level to determine if the variances are significantly different."
   ]
  },
  {
   "cell_type": "markdown",
   "id": "2fc06451",
   "metadata": {},
   "source": [
    "To conduct an F-test to determine if the variances of two populations are significantly different, we can follow these steps:\n",
    "\n",
    "Step 1: State the null hypothesis (H0) and the alternative hypothesis (Ha).\n",
    "In this case:\n",
    "H0: The variances of the test scores in the two groups are equal.\n",
    "Ha: The variances of the test scores in the two groups are significantly different.\n",
    "\n",
    "Step 2: Determine the significance level.\n",
    "The significance level is given as 1% or 0.01.\n",
    "\n",
    "Step 3: Calculate the sample variances.\n",
    "Compute the sample variances for each group using the given data.\n",
    "\n",
    "For Group A:\n",
    "n1 = 6 (number of observations)\n",
    "x1 = [80, 85, 90, 92, 87, 83] (test scores)\n",
    "Calculate the sample variance s1^2 using the formula:\n",
    "s1^2 = Σ(x1 - x̄1)^2 / (n1 - 1)\n",
    "\n",
    "For Group B:\n",
    "n2 = 6 (number of observations)\n",
    "x2 = [75, 78, 82, 79, 81, 84] (test scores)\n",
    "Calculate the sample variance s2^2 using the formula:\n",
    "s2^2 = Σ(x2 - x̄2)^2 / (n2 - 1)\n",
    "\n",
    "Step 4: Compute the F-statistic.\n",
    "The F-statistic is calculated as the ratio of the sample variances:\n",
    "F = s1^2 / s2^2\n",
    "\n",
    "Step 5: Determine the critical value.\n",
    "The critical value is obtained from the F-distribution with degrees of freedom (df1, df2) where:\n",
    "\n",
    "    df1 = n1 - 1 (degrees of freedom for Group A)\n",
    "    df2 = n2 - 1 (degrees of freedom for Group B)\n",
    "    In this case, n1 = 6 and n2 = 6.\n",
    "\n",
    "Using a significance level of 0.01, we can find the critical value from the F-distribution table or calculator.\n",
    "\n",
    "Step 6: Compare the F-statistic with the critical value.\n",
    "If the calculated F-statistic is greater than the critical value, we reject the null hypothesis. Otherwise, we fail to reject the null hypothesis.\n",
    "\n",
    "Now let's calculate the F-statistic and perform the test:\n",
    "\n",
    "Given:\n",
    "Test scores for Group A: [80, 85, 90, 92, 87, 83]\n",
    "Test scores for Group B: [75, 78, 82, 79, 81, 84]\n",
    "Significance level (α) = 0.01\n",
    "\n",
    "Step 3: Calculate the sample variances\n",
    "For Group A:\n",
    "x̄1 = sum(x1) / n1 = (80 + 85 + 90 + 92 + 87 + 83) / 6 = 86.17\n",
    "s1^2 = Σ(x1 - x̄1)^2 / (n1 - 1) = (80 - 86.17)^2 + (85 - 86.17)^2 + ... + (83 - 86.17)^2 / (6 - 1) = 24.96\n",
    "\n",
    "For Group B:\n",
    "x̄2 = sum(x2) / n2 = (75 + 78 + 82 + 79 + 81 + 84) / 6 = 80.83\n",
    "s2^2 = Σ(x2 - x̄2)^2 / (n2 - 1) = (75 - 80.83)^2 + (78 - 80.83)^2 + ... + (84 - 80.83)^2 / (6 - 1) = 11.47\n",
    "\n",
    "Step 4: Compute the F-statistic\n",
    "F = s1^2 / s2^2 = 24.96 / 11.47 ≈ 2.174\n",
    "\n",
    "Step 5: Determine the critical value\n",
    "df1 = n1 - 1 = 6 - 1 = 5\n",
    "df2 = n2 - 1 = 6 - 1 = 5\n",
    "Using a significance level of 0.01, the critical value from the F-distribution table is approximately 8.03.\n",
    "\n",
    "Step 6: Compare the F-statistic with the critical value\n",
    "2.174 < 8.03\n",
    "\n",
    "Since the calculated F-statistic (2.174) is less than the critical value (8.03), we fail to reject the null hypothesis."
   ]
  },
  {
   "cell_type": "code",
   "execution_count": null,
   "id": "e18163f2",
   "metadata": {},
   "outputs": [],
   "source": []
  }
 ],
 "metadata": {
  "kernelspec": {
   "display_name": "Python 3 (ipykernel)",
   "language": "python",
   "name": "python3"
  },
  "language_info": {
   "codemirror_mode": {
    "name": "ipython",
    "version": 3
   },
   "file_extension": ".py",
   "mimetype": "text/x-python",
   "name": "python",
   "nbconvert_exporter": "python",
   "pygments_lexer": "ipython3",
   "version": "3.10.4"
  }
 },
 "nbformat": 4,
 "nbformat_minor": 5
}
